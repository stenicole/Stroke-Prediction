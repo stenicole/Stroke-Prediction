{
 "cells": [
  {
   "cell_type": "markdown",
   "id": "009eb32f",
   "metadata": {},
   "source": [
    "Strokes prediction \n",
    "L'objectif de cette étude est de prédire si une personne va subir une attaque"
   ]
  },
  {
   "cell_type": "markdown",
   "id": "9e4234c2",
   "metadata": {},
   "source": [
    "Dans un premier temps, nous commencerons par une exploration et un nettoyage des données.\n",
    "Dans un second temps, nous élaborons nos modèles pour l'entraînement et le test d'algorithmes de machine learning en procédant à la mesure de leurs performances.\n",
    "Dans un dernier temps, nous concluerons quant au choix du modèle le plus performant pour notre problématique d'apprentissage supervisé."
   ]
  },
  {
   "cell_type": "code",
   "execution_count": 1,
   "id": "8fe3c2ad",
   "metadata": {},
   "outputs": [
    {
     "name": "stdout",
     "output_type": "stream",
     "text": [
      "Requirement already satisfied: numpy in e:\\anaconda3\\envs\\python_ds\\lib\\site-packages (1.20.3)\n",
      "Note: you may need to restart the kernel to use updated packages.\n"
     ]
    }
   ],
   "source": [
    "pip install numpy"
   ]
  },
  {
   "cell_type": "code",
   "execution_count": 2,
   "id": "0484f5f4",
   "metadata": {},
   "outputs": [
    {
     "name": "stdout",
     "output_type": "stream",
     "text": [
      "Requirement already satisfied: pandas in e:\\anaconda3\\envs\\python_ds\\lib\\site-packages (1.2.4)\n",
      "Requirement already satisfied: numpy>=1.16.5 in e:\\anaconda3\\envs\\python_ds\\lib\\site-packages (from pandas) (1.20.3)\n",
      "Requirement already satisfied: pytz>=2017.3 in e:\\anaconda3\\envs\\python_ds\\lib\\site-packages (from pandas) (2021.1)\n",
      "Requirement already satisfied: python-dateutil>=2.7.3 in e:\\anaconda3\\envs\\python_ds\\lib\\site-packages (from pandas) (2.8.1)\n",
      "Requirement already satisfied: six>=1.5 in e:\\anaconda3\\envs\\python_ds\\lib\\site-packages (from python-dateutil>=2.7.3->pandas) (1.15.0)\n",
      "Note: you may need to restart the kernel to use updated packages.\n"
     ]
    }
   ],
   "source": [
    "pip install pandas"
   ]
  },
  {
   "cell_type": "code",
   "execution_count": 3,
   "id": "cf2c0db2",
   "metadata": {},
   "outputs": [
    {
     "name": "stdout",
     "output_type": "stream",
     "text": [
      "Requirement already satisfied: matplotlib in e:\\anaconda3\\envs\\python_ds\\lib\\site-packages (3.4.2)\n",
      "Requirement already satisfied: cycler>=0.10 in e:\\anaconda3\\envs\\python_ds\\lib\\site-packages (from matplotlib) (0.10.0)\n",
      "Requirement already satisfied: python-dateutil>=2.7 in e:\\anaconda3\\envs\\python_ds\\lib\\site-packages (from matplotlib) (2.8.1)\n",
      "Requirement already satisfied: pillow>=6.2.0 in e:\\anaconda3\\envs\\python_ds\\lib\\site-packages (from matplotlib) (8.2.0)\n",
      "Requirement already satisfied: kiwisolver>=1.0.1 in e:\\anaconda3\\envs\\python_ds\\lib\\site-packages (from matplotlib) (1.3.1)\n",
      "Requirement already satisfied: numpy>=1.16 in e:\\anaconda3\\envs\\python_ds\\lib\\site-packages (from matplotlib) (1.20.3)\n",
      "Requirement already satisfied: pyparsing>=2.2.1 in e:\\anaconda3\\envs\\python_ds\\lib\\site-packages (from matplotlib) (2.4.7)\n",
      "Requirement already satisfied: six in e:\\anaconda3\\envs\\python_ds\\lib\\site-packages (from cycler>=0.10->matplotlib) (1.15.0)\n",
      "Note: you may need to restart the kernel to use updated packages.\n"
     ]
    }
   ],
   "source": [
    "pip install matplotlib"
   ]
  },
  {
   "cell_type": "code",
   "execution_count": 4,
   "id": "1f62414a",
   "metadata": {},
   "outputs": [
    {
     "name": "stdout",
     "output_type": "stream",
     "text": [
      "Requirement already satisfied: scipy in e:\\anaconda3\\envs\\python_ds\\lib\\site-packages (1.7.0)\n",
      "Requirement already satisfied: numpy<1.23.0,>=1.16.5 in e:\\anaconda3\\envs\\python_ds\\lib\\site-packages (from scipy) (1.20.3)\n",
      "Note: you may need to restart the kernel to use updated packages.\n"
     ]
    }
   ],
   "source": [
    "pip install scipy"
   ]
  },
  {
   "cell_type": "code",
   "execution_count": 2,
   "id": "3a856f32",
   "metadata": {},
   "outputs": [
    {
     "name": "stdout",
     "output_type": "stream",
     "text": [
      "Requirement already satisfied: statsmodels in e:\\anaconda3\\envs\\python_ds\\lib\\site-packages (0.12.2)\n",
      "Requirement already satisfied: numpy>=1.15 in e:\\anaconda3\\envs\\python_ds\\lib\\site-packages (from statsmodels) (1.20.3)\n",
      "Requirement already satisfied: pandas>=0.21 in e:\\anaconda3\\envs\\python_ds\\lib\\site-packages (from statsmodels) (1.2.4)\n",
      "Requirement already satisfied: scipy>=1.1 in e:\\anaconda3\\envs\\python_ds\\lib\\site-packages (from statsmodels) (1.7.0)\n",
      "Requirement already satisfied: patsy>=0.5 in e:\\anaconda3\\envs\\python_ds\\lib\\site-packages (from statsmodels) (0.5.1)\n",
      "Requirement already satisfied: python-dateutil>=2.7.3 in e:\\anaconda3\\envs\\python_ds\\lib\\site-packages (from pandas>=0.21->statsmodels) (2.8.1)\n",
      "Requirement already satisfied: pytz>=2017.3 in e:\\anaconda3\\envs\\python_ds\\lib\\site-packages (from pandas>=0.21->statsmodels) (2021.1)\n",
      "Requirement already satisfied: six in e:\\anaconda3\\envs\\python_ds\\lib\\site-packages (from patsy>=0.5->statsmodels) (1.15.0)\n",
      "Note: you may need to restart the kernel to use updated packages.\n"
     ]
    }
   ],
   "source": [
    "pip install statsmodels"
   ]
  },
  {
   "cell_type": "code",
   "execution_count": 2,
   "id": "e65192df",
   "metadata": {},
   "outputs": [],
   "source": [
    "import numpy as np\n",
    "import pandas as pd\n",
    "import scipy.stats\n",
    "%matplotlib inline\n",
    "import matplotlib.pyplot as plt"
   ]
  },
  {
   "cell_type": "markdown",
   "id": "8a126368",
   "metadata": {},
   "source": [
    "Lecture des données"
   ]
  },
  {
   "cell_type": "code",
   "execution_count": 3,
   "id": "af906972",
   "metadata": {},
   "outputs": [
    {
     "data": {
      "text/html": [
       "<div>\n",
       "<style scoped>\n",
       "    .dataframe tbody tr th:only-of-type {\n",
       "        vertical-align: middle;\n",
       "    }\n",
       "\n",
       "    .dataframe tbody tr th {\n",
       "        vertical-align: top;\n",
       "    }\n",
       "\n",
       "    .dataframe thead th {\n",
       "        text-align: right;\n",
       "    }\n",
       "</style>\n",
       "<table border=\"1\" class=\"dataframe\">\n",
       "  <thead>\n",
       "    <tr style=\"text-align: right;\">\n",
       "      <th></th>\n",
       "      <th>id</th>\n",
       "      <th>gender</th>\n",
       "      <th>age</th>\n",
       "      <th>hypertension</th>\n",
       "      <th>heart_disease</th>\n",
       "      <th>ever_married</th>\n",
       "      <th>work_type</th>\n",
       "      <th>Residence_type</th>\n",
       "      <th>avg_glucose_level</th>\n",
       "      <th>bmi</th>\n",
       "      <th>smoking_status</th>\n",
       "      <th>stroke</th>\n",
       "    </tr>\n",
       "  </thead>\n",
       "  <tbody>\n",
       "    <tr>\n",
       "      <th>0</th>\n",
       "      <td>9046</td>\n",
       "      <td>Male</td>\n",
       "      <td>67.0</td>\n",
       "      <td>0</td>\n",
       "      <td>1</td>\n",
       "      <td>Yes</td>\n",
       "      <td>Private</td>\n",
       "      <td>Urban</td>\n",
       "      <td>228.69</td>\n",
       "      <td>36.6</td>\n",
       "      <td>formerly smoked</td>\n",
       "      <td>1</td>\n",
       "    </tr>\n",
       "    <tr>\n",
       "      <th>1</th>\n",
       "      <td>51676</td>\n",
       "      <td>Female</td>\n",
       "      <td>61.0</td>\n",
       "      <td>0</td>\n",
       "      <td>0</td>\n",
       "      <td>Yes</td>\n",
       "      <td>Self-employed</td>\n",
       "      <td>Rural</td>\n",
       "      <td>202.21</td>\n",
       "      <td>NaN</td>\n",
       "      <td>never smoked</td>\n",
       "      <td>1</td>\n",
       "    </tr>\n",
       "    <tr>\n",
       "      <th>2</th>\n",
       "      <td>31112</td>\n",
       "      <td>Male</td>\n",
       "      <td>80.0</td>\n",
       "      <td>0</td>\n",
       "      <td>1</td>\n",
       "      <td>Yes</td>\n",
       "      <td>Private</td>\n",
       "      <td>Rural</td>\n",
       "      <td>105.92</td>\n",
       "      <td>32.5</td>\n",
       "      <td>never smoked</td>\n",
       "      <td>1</td>\n",
       "    </tr>\n",
       "    <tr>\n",
       "      <th>3</th>\n",
       "      <td>60182</td>\n",
       "      <td>Female</td>\n",
       "      <td>49.0</td>\n",
       "      <td>0</td>\n",
       "      <td>0</td>\n",
       "      <td>Yes</td>\n",
       "      <td>Private</td>\n",
       "      <td>Urban</td>\n",
       "      <td>171.23</td>\n",
       "      <td>34.4</td>\n",
       "      <td>smokes</td>\n",
       "      <td>1</td>\n",
       "    </tr>\n",
       "    <tr>\n",
       "      <th>4</th>\n",
       "      <td>1665</td>\n",
       "      <td>Female</td>\n",
       "      <td>79.0</td>\n",
       "      <td>1</td>\n",
       "      <td>0</td>\n",
       "      <td>Yes</td>\n",
       "      <td>Self-employed</td>\n",
       "      <td>Rural</td>\n",
       "      <td>174.12</td>\n",
       "      <td>24.0</td>\n",
       "      <td>never smoked</td>\n",
       "      <td>1</td>\n",
       "    </tr>\n",
       "  </tbody>\n",
       "</table>\n",
       "</div>"
      ],
      "text/plain": [
       "      id  gender   age  hypertension  heart_disease ever_married  \\\n",
       "0   9046    Male  67.0             0              1          Yes   \n",
       "1  51676  Female  61.0             0              0          Yes   \n",
       "2  31112    Male  80.0             0              1          Yes   \n",
       "3  60182  Female  49.0             0              0          Yes   \n",
       "4   1665  Female  79.0             1              0          Yes   \n",
       "\n",
       "       work_type Residence_type  avg_glucose_level   bmi   smoking_status  \\\n",
       "0        Private          Urban             228.69  36.6  formerly smoked   \n",
       "1  Self-employed          Rural             202.21   NaN     never smoked   \n",
       "2        Private          Rural             105.92  32.5     never smoked   \n",
       "3        Private          Urban             171.23  34.4           smokes   \n",
       "4  Self-employed          Rural             174.12  24.0     never smoked   \n",
       "\n",
       "   stroke  \n",
       "0       1  \n",
       "1       1  \n",
       "2       1  \n",
       "3       1  \n",
       "4       1  "
      ]
     },
     "execution_count": 3,
     "metadata": {},
     "output_type": "execute_result"
    }
   ],
   "source": [
    "df = pd.read_csv('E:\\Formation\\Data_Science\\Projets_DataScientest\\Stroke.csv')\n",
    "df.head()"
   ]
  },
  {
   "cell_type": "code",
   "execution_count": 4,
   "id": "a44a949d",
   "metadata": {},
   "outputs": [
    {
     "name": "stdout",
     "output_type": "stream",
     "text": [
      "(5110, 12)\n"
     ]
    }
   ],
   "source": [
    "# affichage de la taille du jeu de données\n",
    "print(df.shape)\n",
    "# le jeu de données se compose de 5110 lignes et 12 colonnes"
   ]
  },
  {
   "cell_type": "code",
   "execution_count": 5,
   "id": "e60dbd5e",
   "metadata": {},
   "outputs": [
    {
     "data": {
      "text/html": [
       "<div>\n",
       "<style scoped>\n",
       "    .dataframe tbody tr th:only-of-type {\n",
       "        vertical-align: middle;\n",
       "    }\n",
       "\n",
       "    .dataframe tbody tr th {\n",
       "        vertical-align: top;\n",
       "    }\n",
       "\n",
       "    .dataframe thead th {\n",
       "        text-align: right;\n",
       "    }\n",
       "</style>\n",
       "<table border=\"1\" class=\"dataframe\">\n",
       "  <thead>\n",
       "    <tr style=\"text-align: right;\">\n",
       "      <th></th>\n",
       "      <th>id</th>\n",
       "      <th>age</th>\n",
       "      <th>hypertension</th>\n",
       "      <th>heart_disease</th>\n",
       "      <th>avg_glucose_level</th>\n",
       "      <th>bmi</th>\n",
       "      <th>stroke</th>\n",
       "    </tr>\n",
       "  </thead>\n",
       "  <tbody>\n",
       "    <tr>\n",
       "      <th>count</th>\n",
       "      <td>5110.000000</td>\n",
       "      <td>5110.000000</td>\n",
       "      <td>5110.000000</td>\n",
       "      <td>5110.000000</td>\n",
       "      <td>5110.000000</td>\n",
       "      <td>4909.000000</td>\n",
       "      <td>5110.000000</td>\n",
       "    </tr>\n",
       "    <tr>\n",
       "      <th>mean</th>\n",
       "      <td>36517.829354</td>\n",
       "      <td>43.226614</td>\n",
       "      <td>0.097456</td>\n",
       "      <td>0.054012</td>\n",
       "      <td>106.147677</td>\n",
       "      <td>28.893237</td>\n",
       "      <td>0.048728</td>\n",
       "    </tr>\n",
       "    <tr>\n",
       "      <th>std</th>\n",
       "      <td>21161.721625</td>\n",
       "      <td>22.612647</td>\n",
       "      <td>0.296607</td>\n",
       "      <td>0.226063</td>\n",
       "      <td>45.283560</td>\n",
       "      <td>7.854067</td>\n",
       "      <td>0.215320</td>\n",
       "    </tr>\n",
       "    <tr>\n",
       "      <th>min</th>\n",
       "      <td>67.000000</td>\n",
       "      <td>0.080000</td>\n",
       "      <td>0.000000</td>\n",
       "      <td>0.000000</td>\n",
       "      <td>55.120000</td>\n",
       "      <td>10.300000</td>\n",
       "      <td>0.000000</td>\n",
       "    </tr>\n",
       "    <tr>\n",
       "      <th>25%</th>\n",
       "      <td>17741.250000</td>\n",
       "      <td>25.000000</td>\n",
       "      <td>0.000000</td>\n",
       "      <td>0.000000</td>\n",
       "      <td>77.245000</td>\n",
       "      <td>23.500000</td>\n",
       "      <td>0.000000</td>\n",
       "    </tr>\n",
       "    <tr>\n",
       "      <th>50%</th>\n",
       "      <td>36932.000000</td>\n",
       "      <td>45.000000</td>\n",
       "      <td>0.000000</td>\n",
       "      <td>0.000000</td>\n",
       "      <td>91.885000</td>\n",
       "      <td>28.100000</td>\n",
       "      <td>0.000000</td>\n",
       "    </tr>\n",
       "    <tr>\n",
       "      <th>75%</th>\n",
       "      <td>54682.000000</td>\n",
       "      <td>61.000000</td>\n",
       "      <td>0.000000</td>\n",
       "      <td>0.000000</td>\n",
       "      <td>114.090000</td>\n",
       "      <td>33.100000</td>\n",
       "      <td>0.000000</td>\n",
       "    </tr>\n",
       "    <tr>\n",
       "      <th>max</th>\n",
       "      <td>72940.000000</td>\n",
       "      <td>82.000000</td>\n",
       "      <td>1.000000</td>\n",
       "      <td>1.000000</td>\n",
       "      <td>271.740000</td>\n",
       "      <td>97.600000</td>\n",
       "      <td>1.000000</td>\n",
       "    </tr>\n",
       "  </tbody>\n",
       "</table>\n",
       "</div>"
      ],
      "text/plain": [
       "                 id          age  hypertension  heart_disease  \\\n",
       "count   5110.000000  5110.000000   5110.000000    5110.000000   \n",
       "mean   36517.829354    43.226614      0.097456       0.054012   \n",
       "std    21161.721625    22.612647      0.296607       0.226063   \n",
       "min       67.000000     0.080000      0.000000       0.000000   \n",
       "25%    17741.250000    25.000000      0.000000       0.000000   \n",
       "50%    36932.000000    45.000000      0.000000       0.000000   \n",
       "75%    54682.000000    61.000000      0.000000       0.000000   \n",
       "max    72940.000000    82.000000      1.000000       1.000000   \n",
       "\n",
       "       avg_glucose_level          bmi       stroke  \n",
       "count        5110.000000  4909.000000  5110.000000  \n",
       "mean          106.147677    28.893237     0.048728  \n",
       "std            45.283560     7.854067     0.215320  \n",
       "min            55.120000    10.300000     0.000000  \n",
       "25%            77.245000    23.500000     0.000000  \n",
       "50%            91.885000    28.100000     0.000000  \n",
       "75%           114.090000    33.100000     0.000000  \n",
       "max           271.740000    97.600000     1.000000  "
      ]
     },
     "execution_count": 5,
     "metadata": {},
     "output_type": "execute_result"
    }
   ],
   "source": [
    "# Rapide description statisque des données quantitatives\n",
    "df.describe()\n"
   ]
  },
  {
   "cell_type": "markdown",
   "id": "796cf4a9",
   "metadata": {},
   "source": [
    "Nous remarquons que tous genres confondus: la moyenne d'age des patients est de 43 ans, le patient le plus jeune a moins\n",
    "d'un an (0.08) soit à peu près 1 mois, le patient le plus agé a 82 ans\n",
    "l'IMC moyen donné par la variable 'bmi' est de 28,9  \n",
    "le niveau de glucose moyen est 106,1"
   ]
  },
  {
   "cell_type": "markdown",
   "id": "6434a7fa",
   "metadata": {},
   "source": [
    "Concernant la distribution de la variable 'age':"
   ]
  },
  {
   "cell_type": "code",
   "execution_count": 6,
   "id": "fc65e7d9",
   "metadata": {},
   "outputs": [
    {
     "data": {
      "text/plain": [
       "0.25    25.0\n",
       "0.50    45.0\n",
       "0.75    61.0\n",
       "Name: age, dtype: float64"
      ]
     },
     "execution_count": 6,
     "metadata": {},
     "output_type": "execute_result"
    }
   ],
   "source": [
    "df['age'].quantile(q=[0.25, 0.5, 0.75])"
   ]
  },
  {
   "cell_type": "markdown",
   "id": "d46214e3",
   "metadata": {},
   "source": [
    "Regardons graphiquement la distribution de la variable 'age' à l'aide d'une boxplot(boite à moustache)"
   ]
  },
  {
   "cell_type": "code",
   "execution_count": 7,
   "id": "148b419a",
   "metadata": {},
   "outputs": [
    {
     "data": {
      "image/png": "[encoded data removed]",
      "text/plain": [
       "<Figure size 432x288 with 1 Axes>"
      ]
     },
     "metadata": {
      "needs_background": "light"
     },
     "output_type": "display_data"
    }
   ],
   "source": [
    "plt.boxplot(df.age)\n",
    "plt.title('Boxplot de la variable age');"
   ]
  },
  {
   "cell_type": "markdown",
   "id": "db9dbaf8",
   "metadata": {},
   "source": [
    "25% de la population a moins de 25ans\n",
    "50% a moins de 45 ans\n",
    "75% a moins de 61 ans\n",
    "De plus l'age moyen (43ans) est proche du deuxième quantile, la distribution de la variable 'age' est homogène."
   ]
  },
  {
   "cell_type": "code",
   "execution_count": 8,
   "id": "cbbced1c",
   "metadata": {},
   "outputs": [
    {
     "data": {
      "image/png": "[encoded data removed]",
      "text/plain": [
       "<Figure size 432x288 with 1 Axes>"
      ]
     },
     "metadata": {
      "needs_background": "light"
     },
     "output_type": "display_data"
    }
   ],
   "source": [
    "df.age.hist(bins = 20);"
   ]
  },
  {
   "cell_type": "markdown",
   "id": "15b66ab6",
   "metadata": {},
   "source": [
    "La tranche d'age des plus 80ans est la plus représentée"
   ]
  },
  {
   "cell_type": "markdown",
   "id": "7cf9d664",
   "metadata": {},
   "source": [
    "Regardons de plus près les données concernant les patients dont l'age a été relevé à 0,08an"
   ]
  },
  {
   "cell_type": "code",
   "execution_count": 9,
   "id": "00abe61e",
   "metadata": {},
   "outputs": [
    {
     "data": {
      "text/html": [
       "<div>\n",
       "<style scoped>\n",
       "    .dataframe tbody tr th:only-of-type {\n",
       "        vertical-align: middle;\n",
       "    }\n",
       "\n",
       "    .dataframe tbody tr th {\n",
       "        vertical-align: top;\n",
       "    }\n",
       "\n",
       "    .dataframe thead th {\n",
       "        text-align: right;\n",
       "    }\n",
       "</style>\n",
       "<table border=\"1\" class=\"dataframe\">\n",
       "  <thead>\n",
       "    <tr style=\"text-align: right;\">\n",
       "      <th></th>\n",
       "      <th>id</th>\n",
       "      <th>gender</th>\n",
       "      <th>age</th>\n",
       "      <th>hypertension</th>\n",
       "      <th>heart_disease</th>\n",
       "      <th>ever_married</th>\n",
       "      <th>work_type</th>\n",
       "      <th>Residence_type</th>\n",
       "      <th>avg_glucose_level</th>\n",
       "      <th>bmi</th>\n",
       "      <th>smoking_status</th>\n",
       "      <th>stroke</th>\n",
       "    </tr>\n",
       "  </thead>\n",
       "  <tbody>\n",
       "    <tr>\n",
       "      <th>1614</th>\n",
       "      <td>47350</td>\n",
       "      <td>Female</td>\n",
       "      <td>0.08</td>\n",
       "      <td>0</td>\n",
       "      <td>0</td>\n",
       "      <td>No</td>\n",
       "      <td>children</td>\n",
       "      <td>Urban</td>\n",
       "      <td>139.67</td>\n",
       "      <td>14.1</td>\n",
       "      <td>Unknown</td>\n",
       "      <td>0</td>\n",
       "    </tr>\n",
       "    <tr>\n",
       "      <th>3295</th>\n",
       "      <td>29955</td>\n",
       "      <td>Male</td>\n",
       "      <td>0.08</td>\n",
       "      <td>0</td>\n",
       "      <td>0</td>\n",
       "      <td>No</td>\n",
       "      <td>children</td>\n",
       "      <td>Rural</td>\n",
       "      <td>70.33</td>\n",
       "      <td>16.9</td>\n",
       "      <td>Unknown</td>\n",
       "      <td>0</td>\n",
       "    </tr>\n",
       "  </tbody>\n",
       "</table>\n",
       "</div>"
      ],
      "text/plain": [
       "         id  gender   age  hypertension  heart_disease ever_married work_type  \\\n",
       "1614  47350  Female  0.08             0              0           No  children   \n",
       "3295  29955    Male  0.08             0              0           No  children   \n",
       "\n",
       "     Residence_type  avg_glucose_level   bmi smoking_status  stroke  \n",
       "1614          Urban             139.67  14.1        Unknown       0  \n",
       "3295          Rural              70.33  16.9        Unknown       0  "
      ]
     },
     "execution_count": 9,
     "metadata": {},
     "output_type": "execute_result"
    }
   ],
   "source": [
    "df[df['age'] == 0.08]\n",
    "# il existe deux patients qui sont des enfants, une fille et un garçon et ceux-ci n'ont pas subi d'attaque"
   ]
  },
  {
   "cell_type": "markdown",
   "id": "76672029",
   "metadata": {},
   "source": [
    "Regardons la situation des patients les plus agés"
   ]
  },
  {
   "cell_type": "code",
   "execution_count": 10,
   "id": "75913797",
   "metadata": {},
   "outputs": [
    {
     "data": {
      "text/html": [
       "<div>\n",
       "<style scoped>\n",
       "    .dataframe tbody tr th:only-of-type {\n",
       "        vertical-align: middle;\n",
       "    }\n",
       "\n",
       "    .dataframe tbody tr th {\n",
       "        vertical-align: top;\n",
       "    }\n",
       "\n",
       "    .dataframe thead th {\n",
       "        text-align: right;\n",
       "    }\n",
       "</style>\n",
       "<table border=\"1\" class=\"dataframe\">\n",
       "  <thead>\n",
       "    <tr style=\"text-align: right;\">\n",
       "      <th></th>\n",
       "      <th>id</th>\n",
       "      <th>gender</th>\n",
       "      <th>age</th>\n",
       "      <th>hypertension</th>\n",
       "      <th>heart_disease</th>\n",
       "      <th>ever_married</th>\n",
       "      <th>work_type</th>\n",
       "      <th>Residence_type</th>\n",
       "      <th>avg_glucose_level</th>\n",
       "      <th>bmi</th>\n",
       "      <th>smoking_status</th>\n",
       "      <th>stroke</th>\n",
       "    </tr>\n",
       "  </thead>\n",
       "  <tbody>\n",
       "    <tr>\n",
       "      <th>23</th>\n",
       "      <td>64778</td>\n",
       "      <td>Male</td>\n",
       "      <td>82.0</td>\n",
       "      <td>0</td>\n",
       "      <td>1</td>\n",
       "      <td>Yes</td>\n",
       "      <td>Private</td>\n",
       "      <td>Rural</td>\n",
       "      <td>208.30</td>\n",
       "      <td>32.5</td>\n",
       "      <td>Unknown</td>\n",
       "      <td>1</td>\n",
       "    </tr>\n",
       "    <tr>\n",
       "      <th>32</th>\n",
       "      <td>39373</td>\n",
       "      <td>Female</td>\n",
       "      <td>82.0</td>\n",
       "      <td>1</td>\n",
       "      <td>0</td>\n",
       "      <td>Yes</td>\n",
       "      <td>Self-employed</td>\n",
       "      <td>Urban</td>\n",
       "      <td>196.92</td>\n",
       "      <td>22.2</td>\n",
       "      <td>never smoked</td>\n",
       "      <td>1</td>\n",
       "    </tr>\n",
       "    <tr>\n",
       "      <th>35</th>\n",
       "      <td>712</td>\n",
       "      <td>Female</td>\n",
       "      <td>82.0</td>\n",
       "      <td>1</td>\n",
       "      <td>1</td>\n",
       "      <td>No</td>\n",
       "      <td>Private</td>\n",
       "      <td>Rural</td>\n",
       "      <td>84.03</td>\n",
       "      <td>26.5</td>\n",
       "      <td>formerly smoked</td>\n",
       "      <td>1</td>\n",
       "    </tr>\n",
       "    <tr>\n",
       "      <th>42</th>\n",
       "      <td>61960</td>\n",
       "      <td>Male</td>\n",
       "      <td>82.0</td>\n",
       "      <td>0</td>\n",
       "      <td>1</td>\n",
       "      <td>Yes</td>\n",
       "      <td>Private</td>\n",
       "      <td>Urban</td>\n",
       "      <td>144.90</td>\n",
       "      <td>26.4</td>\n",
       "      <td>smokes</td>\n",
       "      <td>1</td>\n",
       "    </tr>\n",
       "    <tr>\n",
       "      <th>56</th>\n",
       "      <td>38829</td>\n",
       "      <td>Female</td>\n",
       "      <td>82.0</td>\n",
       "      <td>0</td>\n",
       "      <td>0</td>\n",
       "      <td>Yes</td>\n",
       "      <td>Private</td>\n",
       "      <td>Rural</td>\n",
       "      <td>59.32</td>\n",
       "      <td>33.2</td>\n",
       "      <td>never smoked</td>\n",
       "      <td>1</td>\n",
       "    </tr>\n",
       "    <tr>\n",
       "      <th>128</th>\n",
       "      <td>37132</td>\n",
       "      <td>Male</td>\n",
       "      <td>82.0</td>\n",
       "      <td>0</td>\n",
       "      <td>0</td>\n",
       "      <td>Yes</td>\n",
       "      <td>Govt_job</td>\n",
       "      <td>Urban</td>\n",
       "      <td>200.59</td>\n",
       "      <td>29.0</td>\n",
       "      <td>formerly smoked</td>\n",
       "      <td>1</td>\n",
       "    </tr>\n",
       "    <tr>\n",
       "      <th>140</th>\n",
       "      <td>20439</td>\n",
       "      <td>Male</td>\n",
       "      <td>82.0</td>\n",
       "      <td>0</td>\n",
       "      <td>1</td>\n",
       "      <td>Yes</td>\n",
       "      <td>Govt_job</td>\n",
       "      <td>Rural</td>\n",
       "      <td>103.68</td>\n",
       "      <td>25.0</td>\n",
       "      <td>never smoked</td>\n",
       "      <td>1</td>\n",
       "    </tr>\n",
       "    <tr>\n",
       "      <th>187</th>\n",
       "      <td>67895</td>\n",
       "      <td>Female</td>\n",
       "      <td>82.0</td>\n",
       "      <td>1</td>\n",
       "      <td>1</td>\n",
       "      <td>Yes</td>\n",
       "      <td>Govt_job</td>\n",
       "      <td>Urban</td>\n",
       "      <td>215.94</td>\n",
       "      <td>27.9</td>\n",
       "      <td>formerly smoked</td>\n",
       "      <td>1</td>\n",
       "    </tr>\n",
       "    <tr>\n",
       "      <th>188</th>\n",
       "      <td>30184</td>\n",
       "      <td>Male</td>\n",
       "      <td>82.0</td>\n",
       "      <td>0</td>\n",
       "      <td>0</td>\n",
       "      <td>Yes</td>\n",
       "      <td>Private</td>\n",
       "      <td>Rural</td>\n",
       "      <td>86.62</td>\n",
       "      <td>29.5</td>\n",
       "      <td>formerly smoked</td>\n",
       "      <td>1</td>\n",
       "    </tr>\n",
       "    <tr>\n",
       "      <th>337</th>\n",
       "      <td>56357</td>\n",
       "      <td>Female</td>\n",
       "      <td>82.0</td>\n",
       "      <td>0</td>\n",
       "      <td>1</td>\n",
       "      <td>No</td>\n",
       "      <td>Private</td>\n",
       "      <td>Urban</td>\n",
       "      <td>215.60</td>\n",
       "      <td>24.9</td>\n",
       "      <td>never smoked</td>\n",
       "      <td>0</td>\n",
       "    </tr>\n",
       "    <tr>\n",
       "      <th>613</th>\n",
       "      <td>22853</td>\n",
       "      <td>Male</td>\n",
       "      <td>82.0</td>\n",
       "      <td>0</td>\n",
       "      <td>0</td>\n",
       "      <td>No</td>\n",
       "      <td>Self-employed</td>\n",
       "      <td>Rural</td>\n",
       "      <td>106.43</td>\n",
       "      <td>27.0</td>\n",
       "      <td>smokes</td>\n",
       "      <td>0</td>\n",
       "    </tr>\n",
       "    <tr>\n",
       "      <th>670</th>\n",
       "      <td>53010</td>\n",
       "      <td>Male</td>\n",
       "      <td>82.0</td>\n",
       "      <td>0</td>\n",
       "      <td>0</td>\n",
       "      <td>Yes</td>\n",
       "      <td>Self-employed</td>\n",
       "      <td>Rural</td>\n",
       "      <td>56.75</td>\n",
       "      <td>21.0</td>\n",
       "      <td>never smoked</td>\n",
       "      <td>0</td>\n",
       "    </tr>\n",
       "    <tr>\n",
       "      <th>767</th>\n",
       "      <td>62382</td>\n",
       "      <td>Male</td>\n",
       "      <td>82.0</td>\n",
       "      <td>0</td>\n",
       "      <td>0</td>\n",
       "      <td>Yes</td>\n",
       "      <td>Private</td>\n",
       "      <td>Urban</td>\n",
       "      <td>105.77</td>\n",
       "      <td>29.5</td>\n",
       "      <td>Unknown</td>\n",
       "      <td>0</td>\n",
       "    </tr>\n",
       "    <tr>\n",
       "      <th>992</th>\n",
       "      <td>42786</td>\n",
       "      <td>Male</td>\n",
       "      <td>82.0</td>\n",
       "      <td>0</td>\n",
       "      <td>1</td>\n",
       "      <td>Yes</td>\n",
       "      <td>Self-employed</td>\n",
       "      <td>Rural</td>\n",
       "      <td>72.93</td>\n",
       "      <td>27.1</td>\n",
       "      <td>formerly smoked</td>\n",
       "      <td>0</td>\n",
       "    </tr>\n",
       "    <tr>\n",
       "      <th>1029</th>\n",
       "      <td>23031</td>\n",
       "      <td>Male</td>\n",
       "      <td>82.0</td>\n",
       "      <td>0</td>\n",
       "      <td>0</td>\n",
       "      <td>Yes</td>\n",
       "      <td>Self-employed</td>\n",
       "      <td>Rural</td>\n",
       "      <td>85.29</td>\n",
       "      <td>27.0</td>\n",
       "      <td>never smoked</td>\n",
       "      <td>0</td>\n",
       "    </tr>\n",
       "    <tr>\n",
       "      <th>1042</th>\n",
       "      <td>39120</td>\n",
       "      <td>Female</td>\n",
       "      <td>82.0</td>\n",
       "      <td>0</td>\n",
       "      <td>0</td>\n",
       "      <td>No</td>\n",
       "      <td>Self-employed</td>\n",
       "      <td>Urban</td>\n",
       "      <td>82.21</td>\n",
       "      <td>26.0</td>\n",
       "      <td>never smoked</td>\n",
       "      <td>0</td>\n",
       "    </tr>\n",
       "    <tr>\n",
       "      <th>1068</th>\n",
       "      <td>24437</td>\n",
       "      <td>Female</td>\n",
       "      <td>82.0</td>\n",
       "      <td>0</td>\n",
       "      <td>0</td>\n",
       "      <td>Yes</td>\n",
       "      <td>Private</td>\n",
       "      <td>Rural</td>\n",
       "      <td>96.63</td>\n",
       "      <td>26.5</td>\n",
       "      <td>Unknown</td>\n",
       "      <td>0</td>\n",
       "    </tr>\n",
       "    <tr>\n",
       "      <th>1350</th>\n",
       "      <td>60816</td>\n",
       "      <td>Female</td>\n",
       "      <td>82.0</td>\n",
       "      <td>1</td>\n",
       "      <td>0</td>\n",
       "      <td>Yes</td>\n",
       "      <td>Private</td>\n",
       "      <td>Urban</td>\n",
       "      <td>62.46</td>\n",
       "      <td>20.3</td>\n",
       "      <td>formerly smoked</td>\n",
       "      <td>0</td>\n",
       "    </tr>\n",
       "    <tr>\n",
       "      <th>1412</th>\n",
       "      <td>62452</td>\n",
       "      <td>Male</td>\n",
       "      <td>82.0</td>\n",
       "      <td>1</td>\n",
       "      <td>0</td>\n",
       "      <td>Yes</td>\n",
       "      <td>Private</td>\n",
       "      <td>Rural</td>\n",
       "      <td>227.28</td>\n",
       "      <td>33.3</td>\n",
       "      <td>never smoked</td>\n",
       "      <td>0</td>\n",
       "    </tr>\n",
       "    <tr>\n",
       "      <th>1515</th>\n",
       "      <td>72474</td>\n",
       "      <td>Female</td>\n",
       "      <td>82.0</td>\n",
       "      <td>0</td>\n",
       "      <td>0</td>\n",
       "      <td>Yes</td>\n",
       "      <td>Govt_job</td>\n",
       "      <td>Rural</td>\n",
       "      <td>58.30</td>\n",
       "      <td>20.4</td>\n",
       "      <td>never smoked</td>\n",
       "      <td>0</td>\n",
       "    </tr>\n",
       "    <tr>\n",
       "      <th>1529</th>\n",
       "      <td>34496</td>\n",
       "      <td>Female</td>\n",
       "      <td>82.0</td>\n",
       "      <td>0</td>\n",
       "      <td>0</td>\n",
       "      <td>Yes</td>\n",
       "      <td>Private</td>\n",
       "      <td>Urban</td>\n",
       "      <td>253.16</td>\n",
       "      <td>47.5</td>\n",
       "      <td>Unknown</td>\n",
       "      <td>0</td>\n",
       "    </tr>\n",
       "    <tr>\n",
       "      <th>1691</th>\n",
       "      <td>70344</td>\n",
       "      <td>Male</td>\n",
       "      <td>82.0</td>\n",
       "      <td>0</td>\n",
       "      <td>0</td>\n",
       "      <td>Yes</td>\n",
       "      <td>Private</td>\n",
       "      <td>Urban</td>\n",
       "      <td>144.20</td>\n",
       "      <td>35.4</td>\n",
       "      <td>smokes</td>\n",
       "      <td>0</td>\n",
       "    </tr>\n",
       "    <tr>\n",
       "      <th>1769</th>\n",
       "      <td>32452</td>\n",
       "      <td>Female</td>\n",
       "      <td>82.0</td>\n",
       "      <td>0</td>\n",
       "      <td>1</td>\n",
       "      <td>Yes</td>\n",
       "      <td>Self-employed</td>\n",
       "      <td>Rural</td>\n",
       "      <td>211.88</td>\n",
       "      <td>28.7</td>\n",
       "      <td>never smoked</td>\n",
       "      <td>0</td>\n",
       "    </tr>\n",
       "    <tr>\n",
       "      <th>1839</th>\n",
       "      <td>25883</td>\n",
       "      <td>Female</td>\n",
       "      <td>82.0</td>\n",
       "      <td>1</td>\n",
       "      <td>0</td>\n",
       "      <td>Yes</td>\n",
       "      <td>Self-employed</td>\n",
       "      <td>Urban</td>\n",
       "      <td>77.32</td>\n",
       "      <td>24.8</td>\n",
       "      <td>Unknown</td>\n",
       "      <td>0</td>\n",
       "    </tr>\n",
       "    <tr>\n",
       "      <th>1951</th>\n",
       "      <td>1460</td>\n",
       "      <td>Female</td>\n",
       "      <td>82.0</td>\n",
       "      <td>0</td>\n",
       "      <td>0</td>\n",
       "      <td>Yes</td>\n",
       "      <td>Private</td>\n",
       "      <td>Urban</td>\n",
       "      <td>99.68</td>\n",
       "      <td>22.2</td>\n",
       "      <td>Unknown</td>\n",
       "      <td>0</td>\n",
       "    </tr>\n",
       "    <tr>\n",
       "      <th>2275</th>\n",
       "      <td>4591</td>\n",
       "      <td>Female</td>\n",
       "      <td>82.0</td>\n",
       "      <td>0</td>\n",
       "      <td>0</td>\n",
       "      <td>Yes</td>\n",
       "      <td>Self-employed</td>\n",
       "      <td>Rural</td>\n",
       "      <td>117.75</td>\n",
       "      <td>29.8</td>\n",
       "      <td>never smoked</td>\n",
       "      <td>0</td>\n",
       "    </tr>\n",
       "    <tr>\n",
       "      <th>2314</th>\n",
       "      <td>24289</td>\n",
       "      <td>Male</td>\n",
       "      <td>82.0</td>\n",
       "      <td>0</td>\n",
       "      <td>0</td>\n",
       "      <td>Yes</td>\n",
       "      <td>Private</td>\n",
       "      <td>Urban</td>\n",
       "      <td>89.83</td>\n",
       "      <td>24.7</td>\n",
       "      <td>smokes</td>\n",
       "      <td>0</td>\n",
       "    </tr>\n",
       "    <tr>\n",
       "      <th>2341</th>\n",
       "      <td>10649</td>\n",
       "      <td>Female</td>\n",
       "      <td>82.0</td>\n",
       "      <td>0</td>\n",
       "      <td>0</td>\n",
       "      <td>Yes</td>\n",
       "      <td>Private</td>\n",
       "      <td>Urban</td>\n",
       "      <td>80.00</td>\n",
       "      <td>33.6</td>\n",
       "      <td>never smoked</td>\n",
       "      <td>0</td>\n",
       "    </tr>\n",
       "    <tr>\n",
       "      <th>2418</th>\n",
       "      <td>16812</td>\n",
       "      <td>Female</td>\n",
       "      <td>82.0</td>\n",
       "      <td>0</td>\n",
       "      <td>1</td>\n",
       "      <td>Yes</td>\n",
       "      <td>Self-employed</td>\n",
       "      <td>Rural</td>\n",
       "      <td>229.58</td>\n",
       "      <td>23.7</td>\n",
       "      <td>Unknown</td>\n",
       "      <td>0</td>\n",
       "    </tr>\n",
       "    <tr>\n",
       "      <th>2453</th>\n",
       "      <td>7411</td>\n",
       "      <td>Male</td>\n",
       "      <td>82.0</td>\n",
       "      <td>0</td>\n",
       "      <td>0</td>\n",
       "      <td>Yes</td>\n",
       "      <td>Private</td>\n",
       "      <td>Urban</td>\n",
       "      <td>214.42</td>\n",
       "      <td>33.9</td>\n",
       "      <td>formerly smoked</td>\n",
       "      <td>0</td>\n",
       "    </tr>\n",
       "    <tr>\n",
       "      <th>2633</th>\n",
       "      <td>72819</td>\n",
       "      <td>Female</td>\n",
       "      <td>82.0</td>\n",
       "      <td>0</td>\n",
       "      <td>0</td>\n",
       "      <td>Yes</td>\n",
       "      <td>Self-employed</td>\n",
       "      <td>Urban</td>\n",
       "      <td>243.59</td>\n",
       "      <td>24.3</td>\n",
       "      <td>never smoked</td>\n",
       "      <td>0</td>\n",
       "    </tr>\n",
       "    <tr>\n",
       "      <th>2876</th>\n",
       "      <td>11327</td>\n",
       "      <td>Female</td>\n",
       "      <td>82.0</td>\n",
       "      <td>0</td>\n",
       "      <td>0</td>\n",
       "      <td>Yes</td>\n",
       "      <td>Self-employed</td>\n",
       "      <td>Urban</td>\n",
       "      <td>79.96</td>\n",
       "      <td>27.0</td>\n",
       "      <td>formerly smoked</td>\n",
       "      <td>0</td>\n",
       "    </tr>\n",
       "    <tr>\n",
       "      <th>2979</th>\n",
       "      <td>57494</td>\n",
       "      <td>Female</td>\n",
       "      <td>82.0</td>\n",
       "      <td>1</td>\n",
       "      <td>0</td>\n",
       "      <td>Yes</td>\n",
       "      <td>Self-employed</td>\n",
       "      <td>Urban</td>\n",
       "      <td>107.21</td>\n",
       "      <td>27.0</td>\n",
       "      <td>formerly smoked</td>\n",
       "      <td>0</td>\n",
       "    </tr>\n",
       "    <tr>\n",
       "      <th>3108</th>\n",
       "      <td>53252</td>\n",
       "      <td>Male</td>\n",
       "      <td>82.0</td>\n",
       "      <td>0</td>\n",
       "      <td>0</td>\n",
       "      <td>No</td>\n",
       "      <td>Self-employed</td>\n",
       "      <td>Urban</td>\n",
       "      <td>161.95</td>\n",
       "      <td>30.8</td>\n",
       "      <td>never smoked</td>\n",
       "      <td>0</td>\n",
       "    </tr>\n",
       "    <tr>\n",
       "      <th>3167</th>\n",
       "      <td>49849</td>\n",
       "      <td>Female</td>\n",
       "      <td>82.0</td>\n",
       "      <td>0</td>\n",
       "      <td>0</td>\n",
       "      <td>Yes</td>\n",
       "      <td>Private</td>\n",
       "      <td>Rural</td>\n",
       "      <td>80.96</td>\n",
       "      <td>33.7</td>\n",
       "      <td>formerly smoked</td>\n",
       "      <td>0</td>\n",
       "    </tr>\n",
       "    <tr>\n",
       "      <th>3192</th>\n",
       "      <td>47917</td>\n",
       "      <td>Female</td>\n",
       "      <td>82.0</td>\n",
       "      <td>1</td>\n",
       "      <td>0</td>\n",
       "      <td>No</td>\n",
       "      <td>Private</td>\n",
       "      <td>Rural</td>\n",
       "      <td>61.47</td>\n",
       "      <td>22.9</td>\n",
       "      <td>never smoked</td>\n",
       "      <td>0</td>\n",
       "    </tr>\n",
       "    <tr>\n",
       "      <th>3316</th>\n",
       "      <td>17893</td>\n",
       "      <td>Female</td>\n",
       "      <td>82.0</td>\n",
       "      <td>0</td>\n",
       "      <td>0</td>\n",
       "      <td>Yes</td>\n",
       "      <td>Self-employed</td>\n",
       "      <td>Urban</td>\n",
       "      <td>84.78</td>\n",
       "      <td>33.6</td>\n",
       "      <td>formerly smoked</td>\n",
       "      <td>0</td>\n",
       "    </tr>\n",
       "    <tr>\n",
       "      <th>3360</th>\n",
       "      <td>4753</td>\n",
       "      <td>Male</td>\n",
       "      <td>82.0</td>\n",
       "      <td>0</td>\n",
       "      <td>1</td>\n",
       "      <td>Yes</td>\n",
       "      <td>Self-employed</td>\n",
       "      <td>Urban</td>\n",
       "      <td>228.92</td>\n",
       "      <td>27.9</td>\n",
       "      <td>formerly smoked</td>\n",
       "      <td>0</td>\n",
       "    </tr>\n",
       "    <tr>\n",
       "      <th>3388</th>\n",
       "      <td>52679</td>\n",
       "      <td>Female</td>\n",
       "      <td>82.0</td>\n",
       "      <td>0</td>\n",
       "      <td>0</td>\n",
       "      <td>Yes</td>\n",
       "      <td>Self-employed</td>\n",
       "      <td>Rural</td>\n",
       "      <td>78.00</td>\n",
       "      <td>31.3</td>\n",
       "      <td>formerly smoked</td>\n",
       "      <td>0</td>\n",
       "    </tr>\n",
       "    <tr>\n",
       "      <th>3400</th>\n",
       "      <td>38078</td>\n",
       "      <td>Female</td>\n",
       "      <td>82.0</td>\n",
       "      <td>1</td>\n",
       "      <td>1</td>\n",
       "      <td>Yes</td>\n",
       "      <td>Private</td>\n",
       "      <td>Urban</td>\n",
       "      <td>73.19</td>\n",
       "      <td>33.5</td>\n",
       "      <td>never smoked</td>\n",
       "      <td>0</td>\n",
       "    </tr>\n",
       "    <tr>\n",
       "      <th>3422</th>\n",
       "      <td>34543</td>\n",
       "      <td>Female</td>\n",
       "      <td>82.0</td>\n",
       "      <td>0</td>\n",
       "      <td>0</td>\n",
       "      <td>Yes</td>\n",
       "      <td>Self-employed</td>\n",
       "      <td>Rural</td>\n",
       "      <td>84.42</td>\n",
       "      <td>25.7</td>\n",
       "      <td>Unknown</td>\n",
       "      <td>0</td>\n",
       "    </tr>\n",
       "    <tr>\n",
       "      <th>3462</th>\n",
       "      <td>31344</td>\n",
       "      <td>Male</td>\n",
       "      <td>82.0</td>\n",
       "      <td>0</td>\n",
       "      <td>0</td>\n",
       "      <td>Yes</td>\n",
       "      <td>Self-employed</td>\n",
       "      <td>Urban</td>\n",
       "      <td>214.51</td>\n",
       "      <td>24.0</td>\n",
       "      <td>formerly smoked</td>\n",
       "      <td>0</td>\n",
       "    </tr>\n",
       "    <tr>\n",
       "      <th>3603</th>\n",
       "      <td>28247</td>\n",
       "      <td>Male</td>\n",
       "      <td>82.0</td>\n",
       "      <td>0</td>\n",
       "      <td>0</td>\n",
       "      <td>No</td>\n",
       "      <td>Self-employed</td>\n",
       "      <td>Urban</td>\n",
       "      <td>101.57</td>\n",
       "      <td>24.3</td>\n",
       "      <td>smokes</td>\n",
       "      <td>0</td>\n",
       "    </tr>\n",
       "    <tr>\n",
       "      <th>3637</th>\n",
       "      <td>70268</td>\n",
       "      <td>Male</td>\n",
       "      <td>82.0</td>\n",
       "      <td>0</td>\n",
       "      <td>0</td>\n",
       "      <td>Yes</td>\n",
       "      <td>Private</td>\n",
       "      <td>Urban</td>\n",
       "      <td>226.84</td>\n",
       "      <td>25.3</td>\n",
       "      <td>formerly smoked</td>\n",
       "      <td>0</td>\n",
       "    </tr>\n",
       "    <tr>\n",
       "      <th>4088</th>\n",
       "      <td>27705</td>\n",
       "      <td>Female</td>\n",
       "      <td>82.0</td>\n",
       "      <td>0</td>\n",
       "      <td>1</td>\n",
       "      <td>Yes</td>\n",
       "      <td>Self-employed</td>\n",
       "      <td>Rural</td>\n",
       "      <td>88.60</td>\n",
       "      <td>32.5</td>\n",
       "      <td>Unknown</td>\n",
       "      <td>0</td>\n",
       "    </tr>\n",
       "    <tr>\n",
       "      <th>4094</th>\n",
       "      <td>25510</td>\n",
       "      <td>Male</td>\n",
       "      <td>82.0</td>\n",
       "      <td>0</td>\n",
       "      <td>0</td>\n",
       "      <td>Yes</td>\n",
       "      <td>Self-employed</td>\n",
       "      <td>Urban</td>\n",
       "      <td>111.81</td>\n",
       "      <td>19.8</td>\n",
       "      <td>formerly smoked</td>\n",
       "      <td>0</td>\n",
       "    </tr>\n",
       "    <tr>\n",
       "      <th>4164</th>\n",
       "      <td>40163</td>\n",
       "      <td>Female</td>\n",
       "      <td>82.0</td>\n",
       "      <td>1</td>\n",
       "      <td>0</td>\n",
       "      <td>Yes</td>\n",
       "      <td>Private</td>\n",
       "      <td>Urban</td>\n",
       "      <td>222.52</td>\n",
       "      <td>NaN</td>\n",
       "      <td>formerly smoked</td>\n",
       "      <td>0</td>\n",
       "    </tr>\n",
       "    <tr>\n",
       "      <th>4452</th>\n",
       "      <td>27596</td>\n",
       "      <td>Female</td>\n",
       "      <td>82.0</td>\n",
       "      <td>1</td>\n",
       "      <td>0</td>\n",
       "      <td>Yes</td>\n",
       "      <td>Private</td>\n",
       "      <td>Urban</td>\n",
       "      <td>115.71</td>\n",
       "      <td>31.1</td>\n",
       "      <td>formerly smoked</td>\n",
       "      <td>0</td>\n",
       "    </tr>\n",
       "    <tr>\n",
       "      <th>4511</th>\n",
       "      <td>21830</td>\n",
       "      <td>Female</td>\n",
       "      <td>82.0</td>\n",
       "      <td>0</td>\n",
       "      <td>0</td>\n",
       "      <td>Yes</td>\n",
       "      <td>Private</td>\n",
       "      <td>Urban</td>\n",
       "      <td>82.63</td>\n",
       "      <td>17.9</td>\n",
       "      <td>smokes</td>\n",
       "      <td>0</td>\n",
       "    </tr>\n",
       "    <tr>\n",
       "      <th>4529</th>\n",
       "      <td>62715</td>\n",
       "      <td>Male</td>\n",
       "      <td>82.0</td>\n",
       "      <td>0</td>\n",
       "      <td>1</td>\n",
       "      <td>Yes</td>\n",
       "      <td>Private</td>\n",
       "      <td>Urban</td>\n",
       "      <td>57.56</td>\n",
       "      <td>27.5</td>\n",
       "      <td>never smoked</td>\n",
       "      <td>0</td>\n",
       "    </tr>\n",
       "    <tr>\n",
       "      <th>4590</th>\n",
       "      <td>19271</td>\n",
       "      <td>Female</td>\n",
       "      <td>82.0</td>\n",
       "      <td>1</td>\n",
       "      <td>1</td>\n",
       "      <td>Yes</td>\n",
       "      <td>Self-employed</td>\n",
       "      <td>Urban</td>\n",
       "      <td>101.56</td>\n",
       "      <td>31.5</td>\n",
       "      <td>never smoked</td>\n",
       "      <td>0</td>\n",
       "    </tr>\n",
       "    <tr>\n",
       "      <th>4716</th>\n",
       "      <td>5387</td>\n",
       "      <td>Female</td>\n",
       "      <td>82.0</td>\n",
       "      <td>0</td>\n",
       "      <td>0</td>\n",
       "      <td>No</td>\n",
       "      <td>Private</td>\n",
       "      <td>Rural</td>\n",
       "      <td>96.98</td>\n",
       "      <td>21.5</td>\n",
       "      <td>never smoked</td>\n",
       "      <td>0</td>\n",
       "    </tr>\n",
       "    <tr>\n",
       "      <th>4763</th>\n",
       "      <td>19191</td>\n",
       "      <td>Male</td>\n",
       "      <td>82.0</td>\n",
       "      <td>0</td>\n",
       "      <td>0</td>\n",
       "      <td>Yes</td>\n",
       "      <td>Private</td>\n",
       "      <td>Urban</td>\n",
       "      <td>217.57</td>\n",
       "      <td>33.5</td>\n",
       "      <td>formerly smoked</td>\n",
       "      <td>0</td>\n",
       "    </tr>\n",
       "    <tr>\n",
       "      <th>4819</th>\n",
       "      <td>48118</td>\n",
       "      <td>Female</td>\n",
       "      <td>82.0</td>\n",
       "      <td>0</td>\n",
       "      <td>0</td>\n",
       "      <td>Yes</td>\n",
       "      <td>Self-employed</td>\n",
       "      <td>Urban</td>\n",
       "      <td>113.45</td>\n",
       "      <td>30.3</td>\n",
       "      <td>never smoked</td>\n",
       "      <td>0</td>\n",
       "    </tr>\n",
       "    <tr>\n",
       "      <th>5062</th>\n",
       "      <td>11184</td>\n",
       "      <td>Female</td>\n",
       "      <td>82.0</td>\n",
       "      <td>0</td>\n",
       "      <td>0</td>\n",
       "      <td>Yes</td>\n",
       "      <td>Self-employed</td>\n",
       "      <td>Rural</td>\n",
       "      <td>211.58</td>\n",
       "      <td>36.9</td>\n",
       "      <td>never smoked</td>\n",
       "      <td>0</td>\n",
       "    </tr>\n",
       "    <tr>\n",
       "      <th>5100</th>\n",
       "      <td>68398</td>\n",
       "      <td>Male</td>\n",
       "      <td>82.0</td>\n",
       "      <td>1</td>\n",
       "      <td>0</td>\n",
       "      <td>Yes</td>\n",
       "      <td>Self-employed</td>\n",
       "      <td>Rural</td>\n",
       "      <td>71.97</td>\n",
       "      <td>28.3</td>\n",
       "      <td>never smoked</td>\n",
       "      <td>0</td>\n",
       "    </tr>\n",
       "  </tbody>\n",
       "</table>\n",
       "</div>"
      ],
      "text/plain": [
       "         id  gender   age  hypertension  heart_disease ever_married  \\\n",
       "23    64778    Male  82.0             0              1          Yes   \n",
       "32    39373  Female  82.0             1              0          Yes   \n",
       "35      712  Female  82.0             1              1           No   \n",
       "42    61960    Male  82.0             0              1          Yes   \n",
       "56    38829  Female  82.0             0              0          Yes   \n",
       "128   37132    Male  82.0             0              0          Yes   \n",
       "140   20439    Male  82.0             0              1          Yes   \n",
       "187   67895  Female  82.0             1              1          Yes   \n",
       "188   30184    Male  82.0             0              0          Yes   \n",
       "337   56357  Female  82.0             0              1           No   \n",
       "613   22853    Male  82.0             0              0           No   \n",
       "670   53010    Male  82.0             0              0          Yes   \n",
       "767   62382    Male  82.0             0              0          Yes   \n",
       "992   42786    Male  82.0             0              1          Yes   \n",
       "1029  23031    Male  82.0             0              0          Yes   \n",
       "1042  39120  Female  82.0             0              0           No   \n",
       "1068  24437  Female  82.0             0              0          Yes   \n",
       "1350  60816  Female  82.0             1              0          Yes   \n",
       "1412  62452    Male  82.0             1              0          Yes   \n",
       "1515  72474  Female  82.0             0              0          Yes   \n",
       "1529  34496  Female  82.0             0              0          Yes   \n",
       "1691  70344    Male  82.0             0              0          Yes   \n",
       "1769  32452  Female  82.0             0              1          Yes   \n",
       "1839  25883  Female  82.0             1              0          Yes   \n",
       "1951   1460  Female  82.0             0              0          Yes   \n",
       "2275   4591  Female  82.0             0              0          Yes   \n",
       "2314  24289    Male  82.0             0              0          Yes   \n",
       "2341  10649  Female  82.0             0              0          Yes   \n",
       "2418  16812  Female  82.0             0              1          Yes   \n",
       "2453   7411    Male  82.0             0              0          Yes   \n",
       "2633  72819  Female  82.0             0              0          Yes   \n",
       "2876  11327  Female  82.0             0              0          Yes   \n",
       "2979  57494  Female  82.0             1              0          Yes   \n",
       "3108  53252    Male  82.0             0              0           No   \n",
       "3167  49849  Female  82.0             0              0          Yes   \n",
       "3192  47917  Female  82.0             1              0           No   \n",
       "3316  17893  Female  82.0             0              0          Yes   \n",
       "3360   4753    Male  82.0             0              1          Yes   \n",
       "3388  52679  Female  82.0             0              0          Yes   \n",
       "3400  38078  Female  82.0             1              1          Yes   \n",
       "3422  34543  Female  82.0             0              0          Yes   \n",
       "3462  31344    Male  82.0             0              0          Yes   \n",
       "3603  28247    Male  82.0             0              0           No   \n",
       "3637  70268    Male  82.0             0              0          Yes   \n",
       "4088  27705  Female  82.0             0              1          Yes   \n",
       "4094  25510    Male  82.0             0              0          Yes   \n",
       "4164  40163  Female  82.0             1              0          Yes   \n",
       "4452  27596  Female  82.0             1              0          Yes   \n",
       "4511  21830  Female  82.0             0              0          Yes   \n",
       "4529  62715    Male  82.0             0              1          Yes   \n",
       "4590  19271  Female  82.0             1              1          Yes   \n",
       "4716   5387  Female  82.0             0              0           No   \n",
       "4763  19191    Male  82.0             0              0          Yes   \n",
       "4819  48118  Female  82.0             0              0          Yes   \n",
       "5062  11184  Female  82.0             0              0          Yes   \n",
       "5100  68398    Male  82.0             1              0          Yes   \n",
       "\n",
       "          work_type Residence_type  avg_glucose_level   bmi   smoking_status  \\\n",
       "23          Private          Rural             208.30  32.5          Unknown   \n",
       "32    Self-employed          Urban             196.92  22.2     never smoked   \n",
       "35          Private          Rural              84.03  26.5  formerly smoked   \n",
       "42          Private          Urban             144.90  26.4           smokes   \n",
       "56          Private          Rural              59.32  33.2     never smoked   \n",
       "128        Govt_job          Urban             200.59  29.0  formerly smoked   \n",
       "140        Govt_job          Rural             103.68  25.0     never smoked   \n",
       "187        Govt_job          Urban             215.94  27.9  formerly smoked   \n",
       "188         Private          Rural              86.62  29.5  formerly smoked   \n",
       "337         Private          Urban             215.60  24.9     never smoked   \n",
       "613   Self-employed          Rural             106.43  27.0           smokes   \n",
       "670   Self-employed          Rural              56.75  21.0     never smoked   \n",
       "767         Private          Urban             105.77  29.5          Unknown   \n",
       "992   Self-employed          Rural              72.93  27.1  formerly smoked   \n",
       "1029  Self-employed          Rural              85.29  27.0     never smoked   \n",
       "1042  Self-employed          Urban              82.21  26.0     never smoked   \n",
       "1068        Private          Rural              96.63  26.5          Unknown   \n",
       "1350        Private          Urban              62.46  20.3  formerly smoked   \n",
       "1412        Private          Rural             227.28  33.3     never smoked   \n",
       "1515       Govt_job          Rural              58.30  20.4     never smoked   \n",
       "1529        Private          Urban             253.16  47.5          Unknown   \n",
       "1691        Private          Urban             144.20  35.4           smokes   \n",
       "1769  Self-employed          Rural             211.88  28.7     never smoked   \n",
       "1839  Self-employed          Urban              77.32  24.8          Unknown   \n",
       "1951        Private          Urban              99.68  22.2          Unknown   \n",
       "2275  Self-employed          Rural             117.75  29.8     never smoked   \n",
       "2314        Private          Urban              89.83  24.7           smokes   \n",
       "2341        Private          Urban              80.00  33.6     never smoked   \n",
       "2418  Self-employed          Rural             229.58  23.7          Unknown   \n",
       "2453        Private          Urban             214.42  33.9  formerly smoked   \n",
       "2633  Self-employed          Urban             243.59  24.3     never smoked   \n",
       "2876  Self-employed          Urban              79.96  27.0  formerly smoked   \n",
       "2979  Self-employed          Urban             107.21  27.0  formerly smoked   \n",
       "3108  Self-employed          Urban             161.95  30.8     never smoked   \n",
       "3167        Private          Rural              80.96  33.7  formerly smoked   \n",
       "3192        Private          Rural              61.47  22.9     never smoked   \n",
       "3316  Self-employed          Urban              84.78  33.6  formerly smoked   \n",
       "3360  Self-employed          Urban             228.92  27.9  formerly smoked   \n",
       "3388  Self-employed          Rural              78.00  31.3  formerly smoked   \n",
       "3400        Private          Urban              73.19  33.5     never smoked   \n",
       "3422  Self-employed          Rural              84.42  25.7          Unknown   \n",
       "3462  Self-employed          Urban             214.51  24.0  formerly smoked   \n",
       "3603  Self-employed          Urban             101.57  24.3           smokes   \n",
       "3637        Private          Urban             226.84  25.3  formerly smoked   \n",
       "4088  Self-employed          Rural              88.60  32.5          Unknown   \n",
       "4094  Self-employed          Urban             111.81  19.8  formerly smoked   \n",
       "4164        Private          Urban             222.52   NaN  formerly smoked   \n",
       "4452        Private          Urban             115.71  31.1  formerly smoked   \n",
       "4511        Private          Urban              82.63  17.9           smokes   \n",
       "4529        Private          Urban              57.56  27.5     never smoked   \n",
       "4590  Self-employed          Urban             101.56  31.5     never smoked   \n",
       "4716        Private          Rural              96.98  21.5     never smoked   \n",
       "4763        Private          Urban             217.57  33.5  formerly smoked   \n",
       "4819  Self-employed          Urban             113.45  30.3     never smoked   \n",
       "5062  Self-employed          Rural             211.58  36.9     never smoked   \n",
       "5100  Self-employed          Rural              71.97  28.3     never smoked   \n",
       "\n",
       "      stroke  \n",
       "23         1  \n",
       "32         1  \n",
       "35         1  \n",
       "42         1  \n",
       "56         1  \n",
       "128        1  \n",
       "140        1  \n",
       "187        1  \n",
       "188        1  \n",
       "337        0  \n",
       "613        0  \n",
       "670        0  \n",
       "767        0  \n",
       "992        0  \n",
       "1029       0  \n",
       "1042       0  \n",
       "1068       0  \n",
       "1350       0  \n",
       "1412       0  \n",
       "1515       0  \n",
       "1529       0  \n",
       "1691       0  \n",
       "1769       0  \n",
       "1839       0  \n",
       "1951       0  \n",
       "2275       0  \n",
       "2314       0  \n",
       "2341       0  \n",
       "2418       0  \n",
       "2453       0  \n",
       "2633       0  \n",
       "2876       0  \n",
       "2979       0  \n",
       "3108       0  \n",
       "3167       0  \n",
       "3192       0  \n",
       "3316       0  \n",
       "3360       0  \n",
       "3388       0  \n",
       "3400       0  \n",
       "3422       0  \n",
       "3462       0  \n",
       "3603       0  \n",
       "3637       0  \n",
       "4088       0  \n",
       "4094       0  \n",
       "4164       0  \n",
       "4452       0  \n",
       "4511       0  \n",
       "4529       0  \n",
       "4590       0  \n",
       "4716       0  \n",
       "4763       0  \n",
       "4819       0  \n",
       "5062       0  \n",
       "5100       0  "
      ]
     },
     "execution_count": 10,
     "metadata": {},
     "output_type": "execute_result"
    }
   ],
   "source": [
    "df[df['age'] == max(df['age'])]"
   ]
  },
  {
   "cell_type": "code",
   "execution_count": 11,
   "id": "d831a3ff",
   "metadata": {},
   "outputs": [
    {
     "name": "stdout",
     "output_type": "stream",
     "text": [
      "Les patients les plus agés sont au nombre de:\n",
      " 56\n",
      "9 ont subi une attaque, soit 16.07 % des patients les plus agés\n"
     ]
    }
   ],
   "source": [
    "print('Les patients les plus agés sont au nombre de:\\n' ,len(df[df['age'] == max(df['age'])]))\n",
    "print(len(df[(df['age'] == max(df['age'])) & (df['stroke'] == 1)]), 'ont subi une attaque, soit',\n",
    "      round(len(df[(df['age'] == max(df['age'])) & (df['stroke'] == 1)])/len(df[df['age'] == max(df['age'])]) *100, 2), \n",
    "      '% des patients les plus agés')"
   ]
  },
  {
   "cell_type": "code",
   "execution_count": 12,
   "id": "023943c5",
   "metadata": {},
   "outputs": [
    {
     "name": "stdout",
     "output_type": "stream",
     "text": [
      "<class 'pandas.core.frame.DataFrame'>\n",
      "RangeIndex: 5110 entries, 0 to 5109\n",
      "Data columns (total 12 columns):\n",
      " #   Column             Non-Null Count  Dtype  \n",
      "---  ------             --------------  -----  \n",
      " 0   id                 5110 non-null   int64  \n",
      " 1   gender             5110 non-null   object \n",
      " 2   age                5110 non-null   float64\n",
      " 3   hypertension       5110 non-null   int64  \n",
      " 4   heart_disease      5110 non-null   int64  \n",
      " 5   ever_married       5110 non-null   object \n",
      " 6   work_type          5110 non-null   object \n",
      " 7   Residence_type     5110 non-null   object \n",
      " 8   avg_glucose_level  5110 non-null   float64\n",
      " 9   bmi                4909 non-null   float64\n",
      " 10  smoking_status     5110 non-null   object \n",
      " 11  stroke             5110 non-null   int64  \n",
      "dtypes: float64(3), int64(4), object(5)\n",
      "memory usage: 479.2+ KB\n"
     ]
    }
   ],
   "source": [
    "# Quelques informations sur le type variables, sur le nombre de variables 'non-null'\n",
    "df.info()\n",
    "# Nous remarquons que pour toutes les variables nous comptons autant d'observations(lignes) \n",
    "# que de valeurs 'non-null', soit 5110 sauf pour la variable 'bmi' qui compte 4909 valeurs 'non-null'"
   ]
  },
  {
   "cell_type": "markdown",
   "id": "56108656",
   "metadata": {},
   "source": [
    "Regardons la proportion d'hommes et de femmes dans notre jeu de données"
   ]
  },
  {
   "cell_type": "code",
   "execution_count": 13,
   "id": "04f98f36",
   "metadata": {},
   "outputs": [
    {
     "data": {
      "text/plain": [
       "Female    0.585910\n",
       "Male      0.413894\n",
       "Other     0.000196\n",
       "Name: gender, dtype: float64"
      ]
     },
     "execution_count": 13,
     "metadata": {},
     "output_type": "execute_result"
    }
   ],
   "source": [
    "df.gender.value_counts(normalize = True)\n",
    "# il y a une majorité de femmes, elles représentent 58,6% du jeu de données\n",
    "# les hommes représentent 41,4% "
   ]
  },
  {
   "cell_type": "markdown",
   "id": "6e4d2b4a",
   "metadata": {},
   "source": [
    "Regardons la proportion des patients de ceux qui ont subi une attaque et ceux qui n'en ont pas subi parmi les patients de sexe\n",
    "masculin et féminin"
   ]
  },
  {
   "cell_type": "code",
   "execution_count": 14,
   "id": "d4e33083",
   "metadata": {},
   "outputs": [
    {
     "data": {
      "text/plain": [
       "gender  stroke\n",
       "Female  0         0.952906\n",
       "        1         0.047094\n",
       "Male    0         0.948936\n",
       "        1         0.051064\n",
       "Other   0         1.000000\n",
       "Name: stroke, dtype: float64"
      ]
     },
     "execution_count": 14,
     "metadata": {},
     "output_type": "execute_result"
    }
   ],
   "source": [
    "df.groupby('gender').stroke.value_counts(normalize = True)\n",
    "# Parmi les patientes, 4,7% ont subi une attaque\n",
    "# Parmi les patients, 5,1% ont subi une attaque\n",
    "# Proportionnellement, les hommes semblent légèrement plus touchés que le femmes\n",
    "# nous remarquons, l'existence d'un genre 'other'\n",
    "# Par conséquent, la variable 'gender' influe peu sur le risque d'avoir une attaque"
   ]
  },
  {
   "cell_type": "markdown",
   "id": "f28b044a",
   "metadata": {},
   "source": [
    "Regardons la proportion de personnes dont le genre n'est pas déterminé"
   ]
  },
  {
   "cell_type": "code",
   "execution_count": 15,
   "id": "9681459c",
   "metadata": {},
   "outputs": [
    {
     "data": {
      "text/html": [
       "<div>\n",
       "<style scoped>\n",
       "    .dataframe tbody tr th:only-of-type {\n",
       "        vertical-align: middle;\n",
       "    }\n",
       "\n",
       "    .dataframe tbody tr th {\n",
       "        vertical-align: top;\n",
       "    }\n",
       "\n",
       "    .dataframe thead th {\n",
       "        text-align: right;\n",
       "    }\n",
       "</style>\n",
       "<table border=\"1\" class=\"dataframe\">\n",
       "  <thead>\n",
       "    <tr style=\"text-align: right;\">\n",
       "      <th></th>\n",
       "      <th>id</th>\n",
       "      <th>gender</th>\n",
       "      <th>age</th>\n",
       "      <th>hypertension</th>\n",
       "      <th>heart_disease</th>\n",
       "      <th>ever_married</th>\n",
       "      <th>work_type</th>\n",
       "      <th>Residence_type</th>\n",
       "      <th>avg_glucose_level</th>\n",
       "      <th>bmi</th>\n",
       "      <th>smoking_status</th>\n",
       "      <th>stroke</th>\n",
       "    </tr>\n",
       "  </thead>\n",
       "  <tbody>\n",
       "    <tr>\n",
       "      <th>3116</th>\n",
       "      <td>56156</td>\n",
       "      <td>Other</td>\n",
       "      <td>26.0</td>\n",
       "      <td>0</td>\n",
       "      <td>0</td>\n",
       "      <td>No</td>\n",
       "      <td>Private</td>\n",
       "      <td>Rural</td>\n",
       "      <td>143.33</td>\n",
       "      <td>22.4</td>\n",
       "      <td>formerly smoked</td>\n",
       "      <td>0</td>\n",
       "    </tr>\n",
       "  </tbody>\n",
       "</table>\n",
       "</div>"
      ],
      "text/plain": [
       "         id gender   age  hypertension  heart_disease ever_married work_type  \\\n",
       "3116  56156  Other  26.0             0              0           No   Private   \n",
       "\n",
       "     Residence_type  avg_glucose_level   bmi   smoking_status  stroke  \n",
       "3116          Rural             143.33  22.4  formerly smoked       0  "
      ]
     },
     "execution_count": 15,
     "metadata": {},
     "output_type": "execute_result"
    }
   ],
   "source": [
    "df[df['gender'] == 'Other']"
   ]
  },
  {
   "cell_type": "markdown",
   "id": "c60dea3e",
   "metadata": {},
   "source": [
    "Il existe un patient dont le genre n'est pas déterminé"
   ]
  },
  {
   "cell_type": "code",
   "execution_count": 16,
   "id": "ed1edb7d",
   "metadata": {},
   "outputs": [
    {
     "data": {
      "text/plain": [
       "id                     0\n",
       "gender                 0\n",
       "age                    0\n",
       "hypertension           0\n",
       "heart_disease          0\n",
       "ever_married           0\n",
       "work_type              0\n",
       "Residence_type         0\n",
       "avg_glucose_level      0\n",
       "bmi                  201\n",
       "smoking_status         0\n",
       "stroke                 0\n",
       "dtype: int64"
      ]
     },
     "execution_count": 16,
     "metadata": {},
     "output_type": "execute_result"
    }
   ],
   "source": [
    "# on regarde le nombre de valeurs manquantes\n",
    "df.isna().sum()"
   ]
  },
  {
   "cell_type": "markdown",
   "id": "036ecadd",
   "metadata": {},
   "source": [
    "On constate qu'il existe 201 valeurs manquantes uniquement pour la variable 'bmi', ce qui semble peu en comparaison avec le nombre de ligne. Regardons ce que représente le nombre de données manquantes par rapport au nombre total de cellules du jeu de données"
   ]
  },
  {
   "cell_type": "code",
   "execution_count": 17,
   "id": "2daa1ce8",
   "metadata": {},
   "outputs": [
    {
     "data": {
      "text/plain": [
       "0.33"
      ]
     },
     "execution_count": 17,
     "metadata": {},
     "output_type": "execute_result"
    }
   ],
   "source": [
    "total_cells = np.product(df.shape)\n",
    "total_missing_values = df.isna().sum().sum()\n",
    "round((total_missing_values / total_cells) *100,2)"
   ]
  },
  {
   "cell_type": "markdown",
   "id": "e126b61f",
   "metadata": {},
   "source": [
    "Le nombre de données manquantes ne représente que 0,33% de jeu de données, à priori le jeu de données semble assez complet.\n",
    "La question que l'on pourrait se poser est \"comment gère t-on ces données manquantes ?\"\n",
    "Car à priori, on peut légitimement se dire que l'indice de masse corporelle est un facteur qui donne une indication sur la corpulence, il est bien connu que cette dernière est un facteur augmentant le risque de subir une attaque.\n",
    "Pourquoi cette donnée critique est-elle manquante ? Sur 5110 observations, l'imc n'a pas été relevé que sur 201 observations. Plusieurs hypothèses peuvent se poser: \n",
    "1 - L'imc a simplement été oublié ou négligé d'être relevé\n",
    "2 - Au moment où ces données ont été collectées il n'était pas possible de le relever : par exemple si pour certains            patients, ces données ont été collectées au moment où ils ont été admis à l'hopital suite à une attaque, la priorité n'était pas de peser le patient et de le mesurer mais de sauver sa vie. \n",
    "\n",
    "Par conséquent, parmi ceux qui ont subi une attaque, regardons la proportion de ceux dont la variable 'bmi' est manquante"
   ]
  },
  {
   "cell_type": "code",
   "execution_count": 18,
   "id": "3823fcf1",
   "metadata": {},
   "outputs": [
    {
     "name": "stdout",
     "output_type": "stream",
     "text": [
      "249\n",
      "40\n",
      "16.06 % ont la variable bmi manquante ont subi une attaque\n"
     ]
    }
   ],
   "source": [
    "# calcul du nombre de personnes qui ont subi une attaque\n",
    "print(len(df[df['stroke'] == 1]))\n",
    "# 249 personnes ont subi une attaque, mais parmi ces personnes, pour combien l'IMC n'a pas été relevé ?\n",
    "print(df[df['stroke'] == 1]['bmi'].isna().sum())\n",
    "# 40 personnes \n",
    "print(round(df[df['stroke'] == 1]['bmi'].isna().sum() / len(df[df['stroke'] == 1]) * 100, 2), \n",
    "      '% ont la variable bmi manquante ont subi une attaque')"
   ]
  },
  {
   "cell_type": "markdown",
   "id": "78c09dc2",
   "metadata": {},
   "source": [
    "Parmi ceux qui n'ont pas subi une attaque, regardons la proportion de personnes dont la variable 'bmi' n'a pas été renseignée"
   ]
  },
  {
   "cell_type": "code",
   "execution_count": 19,
   "id": "45e9cb77",
   "metadata": {},
   "outputs": [
    {
     "name": "stdout",
     "output_type": "stream",
     "text": [
      "4861\n",
      "161\n",
      "3.31 % ont la variable bmi manquante n'ont pas subi une attaque\n"
     ]
    }
   ],
   "source": [
    "# calcul du nombre de personnes qui n'ont pas subi une attaque\n",
    "print(len(df[df['stroke'] == 0]))\n",
    "# 4861 personnes n'ont pas subi une attaque, mais parmi ces personnes, pour combien l'IMC n'a pas été relevé ?\n",
    "print(df[df['stroke'] == 0]['bmi'].isna().sum())\n",
    "# 161 personnes \n",
    "print(round(df[df['stroke'] == 0]['bmi'].isna().sum() / len(df[df['stroke'] == 0]) * 100, 2), \n",
    "      '% ont la variable bmi manquante n\\'ont pas subi une attaque')"
   ]
  },
  {
   "cell_type": "markdown",
   "id": "27bc6164",
   "metadata": {},
   "source": [
    "Pour résumer, nous voyons que 16% de ceux qui ont subi une attaque, la valeur de l'IMC n'a pas été relevé contre 3,3% chez les patients qui n'ont pas subi d'attaque, ce qui va dans le sens de l'hypothèse 1. N'ayant pas les données de poids et de tailles pour recalculer l'imc, deux possibilités s'offrent à nous:\n",
    "-Soit nous supprimons les observations pour lesquelles la variable 'bmi' est manquante\n",
    "-Soit nous les remplaçons par les valeurs moyennes d'IMC \n",
    "Mais nous l'avons dit plus haut les données manquantes concernant la variable 'bmi' ne représentent que 0,33% du jeu de données, par la suite, nous choisirons la deuxième possibilité, nous les remplacerons par les valeurs moyennes d'IMC.\n",
    "Regardons la distribution de la variable 'bmi'"
   ]
  },
  {
   "cell_type": "code",
   "execution_count": 20,
   "id": "2012fd05",
   "metadata": {},
   "outputs": [
    {
     "data": {
      "text/plain": [
       "0.25    23.5\n",
       "0.50    28.1\n",
       "0.75    33.1\n",
       "Name: bmi, dtype: float64"
      ]
     },
     "execution_count": 20,
     "metadata": {},
     "output_type": "execute_result"
    }
   ],
   "source": [
    "df['bmi'].quantile(q=[0.25, 0.5, 0.75])"
   ]
  },
  {
   "cell_type": "code",
   "execution_count": 21,
   "id": "b936ff4c",
   "metadata": {},
   "outputs": [
    {
     "data": {
      "image/png": "[encoded data removed]",
      "text/plain": [
       "<Figure size 504x504 with 1 Axes>"
      ]
     },
     "metadata": {
      "needs_background": "light"
     },
     "output_type": "display_data"
    }
   ],
   "source": [
    "df.boxplot(column = 'bmi', figsize = (7,7));\n",
    "plt.title('Boxplot de la variable bmi');\n",
    "# Nous remarquons la présence de valeurs extrêmes, outliers"
   ]
  },
  {
   "cell_type": "code",
   "execution_count": 22,
   "id": "fa0e7d00",
   "metadata": {},
   "outputs": [
    {
     "data": {
      "image/png": "[encoded data removed]",
      "text/plain": [
       "<Figure size 432x288 with 1 Axes>"
      ]
     },
     "metadata": {
      "needs_background": "light"
     },
     "output_type": "display_data"
    }
   ],
   "source": [
    "df.bmi.hist(bins = 22);"
   ]
  },
  {
   "cell_type": "markdown",
   "id": "8097291e",
   "metadata": {},
   "source": [
    "Nous remarquons qu'une majeure partie des individus a un IMC compris entre 20 et 40."
   ]
  },
  {
   "cell_type": "markdown",
   "id": "bc0e23ec",
   "metadata": {},
   "source": [
    "Regardons la distribution de la variable 'avg_glucose_level'"
   ]
  },
  {
   "cell_type": "code",
   "execution_count": 23,
   "id": "ea5e2a7a",
   "metadata": {},
   "outputs": [
    {
     "data": {
      "image/png": "[encoded data removed]",
      "text/plain": [
       "<Figure size 432x288 with 1 Axes>"
      ]
     },
     "metadata": {
      "needs_background": "light"
     },
     "output_type": "display_data"
    }
   ],
   "source": [
    "df.avg_glucose_level.hist(bins=20);"
   ]
  },
  {
   "cell_type": "markdown",
   "id": "da0903e3",
   "metadata": {},
   "source": [
    "Une majeure partie des individus a un taux de glucose compris entre 60 et 150. Nous constatons la présence de valeurs extrêmes."
   ]
  },
  {
   "cell_type": "markdown",
   "id": "b29d43a7",
   "metadata": {},
   "source": [
    "Regardons la distribution de la variable ever_married"
   ]
  },
  {
   "cell_type": "code",
   "execution_count": 24,
   "id": "199f0034",
   "metadata": {},
   "outputs": [
    {
     "data": {
      "text/plain": [
       "Yes    3353\n",
       "No     1757\n",
       "Name: ever_married, dtype: int64"
      ]
     },
     "execution_count": 24,
     "metadata": {},
     "output_type": "execute_result"
    }
   ],
   "source": [
    "df.ever_married.value_counts()"
   ]
  },
  {
   "cell_type": "code",
   "execution_count": 25,
   "id": "38d37809",
   "metadata": {},
   "outputs": [
    {
     "data": {
      "text/html": [
       "<div>\n",
       "<style scoped>\n",
       "    .dataframe tbody tr th:only-of-type {\n",
       "        vertical-align: middle;\n",
       "    }\n",
       "\n",
       "    .dataframe tbody tr th {\n",
       "        vertical-align: top;\n",
       "    }\n",
       "\n",
       "    .dataframe thead th {\n",
       "        text-align: right;\n",
       "    }\n",
       "</style>\n",
       "<table border=\"1\" class=\"dataframe\">\n",
       "  <thead>\n",
       "    <tr style=\"text-align: right;\">\n",
       "      <th></th>\n",
       "      <th>id</th>\n",
       "      <th>gender</th>\n",
       "      <th>age</th>\n",
       "      <th>hypertension</th>\n",
       "      <th>heart_disease</th>\n",
       "      <th>ever_married</th>\n",
       "      <th>work_type</th>\n",
       "      <th>Residence_type</th>\n",
       "      <th>avg_glucose_level</th>\n",
       "      <th>bmi</th>\n",
       "      <th>smoking_status</th>\n",
       "      <th>stroke</th>\n",
       "    </tr>\n",
       "  </thead>\n",
       "  <tbody>\n",
       "    <tr>\n",
       "      <th>0</th>\n",
       "      <td>9046</td>\n",
       "      <td>Male</td>\n",
       "      <td>67.0</td>\n",
       "      <td>0</td>\n",
       "      <td>1</td>\n",
       "      <td>1</td>\n",
       "      <td>Private</td>\n",
       "      <td>Urban</td>\n",
       "      <td>228.69</td>\n",
       "      <td>36.6</td>\n",
       "      <td>formerly smoked</td>\n",
       "      <td>1</td>\n",
       "    </tr>\n",
       "    <tr>\n",
       "      <th>1</th>\n",
       "      <td>51676</td>\n",
       "      <td>Female</td>\n",
       "      <td>61.0</td>\n",
       "      <td>0</td>\n",
       "      <td>0</td>\n",
       "      <td>1</td>\n",
       "      <td>Self-employed</td>\n",
       "      <td>Rural</td>\n",
       "      <td>202.21</td>\n",
       "      <td>NaN</td>\n",
       "      <td>never smoked</td>\n",
       "      <td>1</td>\n",
       "    </tr>\n",
       "    <tr>\n",
       "      <th>2</th>\n",
       "      <td>31112</td>\n",
       "      <td>Male</td>\n",
       "      <td>80.0</td>\n",
       "      <td>0</td>\n",
       "      <td>1</td>\n",
       "      <td>1</td>\n",
       "      <td>Private</td>\n",
       "      <td>Rural</td>\n",
       "      <td>105.92</td>\n",
       "      <td>32.5</td>\n",
       "      <td>never smoked</td>\n",
       "      <td>1</td>\n",
       "    </tr>\n",
       "    <tr>\n",
       "      <th>3</th>\n",
       "      <td>60182</td>\n",
       "      <td>Female</td>\n",
       "      <td>49.0</td>\n",
       "      <td>0</td>\n",
       "      <td>0</td>\n",
       "      <td>1</td>\n",
       "      <td>Private</td>\n",
       "      <td>Urban</td>\n",
       "      <td>171.23</td>\n",
       "      <td>34.4</td>\n",
       "      <td>smokes</td>\n",
       "      <td>1</td>\n",
       "    </tr>\n",
       "    <tr>\n",
       "      <th>4</th>\n",
       "      <td>1665</td>\n",
       "      <td>Female</td>\n",
       "      <td>79.0</td>\n",
       "      <td>1</td>\n",
       "      <td>0</td>\n",
       "      <td>1</td>\n",
       "      <td>Self-employed</td>\n",
       "      <td>Rural</td>\n",
       "      <td>174.12</td>\n",
       "      <td>24.0</td>\n",
       "      <td>never smoked</td>\n",
       "      <td>1</td>\n",
       "    </tr>\n",
       "  </tbody>\n",
       "</table>\n",
       "</div>"
      ],
      "text/plain": [
       "      id  gender   age  hypertension  heart_disease  ever_married  \\\n",
       "0   9046    Male  67.0             0              1             1   \n",
       "1  51676  Female  61.0             0              0             1   \n",
       "2  31112    Male  80.0             0              1             1   \n",
       "3  60182  Female  49.0             0              0             1   \n",
       "4   1665  Female  79.0             1              0             1   \n",
       "\n",
       "       work_type Residence_type  avg_glucose_level   bmi   smoking_status  \\\n",
       "0        Private          Urban             228.69  36.6  formerly smoked   \n",
       "1  Self-employed          Rural             202.21   NaN     never smoked   \n",
       "2        Private          Rural             105.92  32.5     never smoked   \n",
       "3        Private          Urban             171.23  34.4           smokes   \n",
       "4  Self-employed          Rural             174.12  24.0     never smoked   \n",
       "\n",
       "   stroke  \n",
       "0       1  \n",
       "1       1  \n",
       "2       1  \n",
       "3       1  \n",
       "4       1  "
      ]
     },
     "execution_count": 25,
     "metadata": {},
     "output_type": "execute_result"
    }
   ],
   "source": [
    "# Pour la variable 'ever_married' remplacement de 'No' par '0' et 'Yes' par '1'\n",
    "df.ever_married = df.ever_married.replace(['No', 'Yes'], [0,1])\n",
    "df.head()"
   ]
  },
  {
   "cell_type": "code",
   "execution_count": 26,
   "id": "7f8799c0",
   "metadata": {},
   "outputs": [
    {
     "data": {
      "text/plain": [
       "Urban    2596\n",
       "Rural    2514\n",
       "Name: Residence_type, dtype: int64"
      ]
     },
     "execution_count": 26,
     "metadata": {},
     "output_type": "execute_result"
    }
   ],
   "source": [
    "df.Residence_type.value_counts()"
   ]
  },
  {
   "cell_type": "code",
   "execution_count": 27,
   "id": "2ab1d2ac",
   "metadata": {},
   "outputs": [
    {
     "data": {
      "text/html": [
       "<div>\n",
       "<style scoped>\n",
       "    .dataframe tbody tr th:only-of-type {\n",
       "        vertical-align: middle;\n",
       "    }\n",
       "\n",
       "    .dataframe tbody tr th {\n",
       "        vertical-align: top;\n",
       "    }\n",
       "\n",
       "    .dataframe thead th {\n",
       "        text-align: right;\n",
       "    }\n",
       "</style>\n",
       "<table border=\"1\" class=\"dataframe\">\n",
       "  <thead>\n",
       "    <tr style=\"text-align: right;\">\n",
       "      <th></th>\n",
       "      <th>id</th>\n",
       "      <th>gender</th>\n",
       "      <th>age</th>\n",
       "      <th>hypertension</th>\n",
       "      <th>heart_disease</th>\n",
       "      <th>ever_married</th>\n",
       "      <th>work_type</th>\n",
       "      <th>Residence_type</th>\n",
       "      <th>avg_glucose_level</th>\n",
       "      <th>bmi</th>\n",
       "      <th>smoking_status</th>\n",
       "      <th>stroke</th>\n",
       "    </tr>\n",
       "  </thead>\n",
       "  <tbody>\n",
       "    <tr>\n",
       "      <th>0</th>\n",
       "      <td>9046</td>\n",
       "      <td>Male</td>\n",
       "      <td>67.0</td>\n",
       "      <td>0</td>\n",
       "      <td>1</td>\n",
       "      <td>1</td>\n",
       "      <td>Private</td>\n",
       "      <td>1</td>\n",
       "      <td>228.69</td>\n",
       "      <td>36.6</td>\n",
       "      <td>formerly smoked</td>\n",
       "      <td>1</td>\n",
       "    </tr>\n",
       "    <tr>\n",
       "      <th>1</th>\n",
       "      <td>51676</td>\n",
       "      <td>Female</td>\n",
       "      <td>61.0</td>\n",
       "      <td>0</td>\n",
       "      <td>0</td>\n",
       "      <td>1</td>\n",
       "      <td>Self-employed</td>\n",
       "      <td>0</td>\n",
       "      <td>202.21</td>\n",
       "      <td>NaN</td>\n",
       "      <td>never smoked</td>\n",
       "      <td>1</td>\n",
       "    </tr>\n",
       "    <tr>\n",
       "      <th>2</th>\n",
       "      <td>31112</td>\n",
       "      <td>Male</td>\n",
       "      <td>80.0</td>\n",
       "      <td>0</td>\n",
       "      <td>1</td>\n",
       "      <td>1</td>\n",
       "      <td>Private</td>\n",
       "      <td>0</td>\n",
       "      <td>105.92</td>\n",
       "      <td>32.5</td>\n",
       "      <td>never smoked</td>\n",
       "      <td>1</td>\n",
       "    </tr>\n",
       "    <tr>\n",
       "      <th>3</th>\n",
       "      <td>60182</td>\n",
       "      <td>Female</td>\n",
       "      <td>49.0</td>\n",
       "      <td>0</td>\n",
       "      <td>0</td>\n",
       "      <td>1</td>\n",
       "      <td>Private</td>\n",
       "      <td>1</td>\n",
       "      <td>171.23</td>\n",
       "      <td>34.4</td>\n",
       "      <td>smokes</td>\n",
       "      <td>1</td>\n",
       "    </tr>\n",
       "    <tr>\n",
       "      <th>4</th>\n",
       "      <td>1665</td>\n",
       "      <td>Female</td>\n",
       "      <td>79.0</td>\n",
       "      <td>1</td>\n",
       "      <td>0</td>\n",
       "      <td>1</td>\n",
       "      <td>Self-employed</td>\n",
       "      <td>0</td>\n",
       "      <td>174.12</td>\n",
       "      <td>24.0</td>\n",
       "      <td>never smoked</td>\n",
       "      <td>1</td>\n",
       "    </tr>\n",
       "  </tbody>\n",
       "</table>\n",
       "</div>"
      ],
      "text/plain": [
       "      id  gender   age  hypertension  heart_disease  ever_married  \\\n",
       "0   9046    Male  67.0             0              1             1   \n",
       "1  51676  Female  61.0             0              0             1   \n",
       "2  31112    Male  80.0             0              1             1   \n",
       "3  60182  Female  49.0             0              0             1   \n",
       "4   1665  Female  79.0             1              0             1   \n",
       "\n",
       "       work_type  Residence_type  avg_glucose_level   bmi   smoking_status  \\\n",
       "0        Private               1             228.69  36.6  formerly smoked   \n",
       "1  Self-employed               0             202.21   NaN     never smoked   \n",
       "2        Private               0             105.92  32.5     never smoked   \n",
       "3        Private               1             171.23  34.4           smokes   \n",
       "4  Self-employed               0             174.12  24.0     never smoked   \n",
       "\n",
       "   stroke  \n",
       "0       1  \n",
       "1       1  \n",
       "2       1  \n",
       "3       1  \n",
       "4       1  "
      ]
     },
     "execution_count": 27,
     "metadata": {},
     "output_type": "execute_result"
    }
   ],
   "source": [
    "# Pour la variable 'Residence_type' remplacement de 'Rural' par '0' et 'Urban' par '1'\n",
    "df.Residence_type = df.Residence_type.replace(['Rural', 'Urban'], [0,1])\n",
    "df.head()"
   ]
  },
  {
   "cell_type": "code",
   "execution_count": 28,
   "id": "c8328e42",
   "metadata": {},
   "outputs": [
    {
     "data": {
      "text/plain": [
       "Private          2925\n",
       "Self-employed     819\n",
       "children          687\n",
       "Govt_job          657\n",
       "Never_worked       22\n",
       "Name: work_type, dtype: int64"
      ]
     },
     "execution_count": 28,
     "metadata": {},
     "output_type": "execute_result"
    }
   ],
   "source": [
    "df.work_type.value_counts()"
   ]
  },
  {
   "cell_type": "code",
   "execution_count": 29,
   "id": "e5fbd272",
   "metadata": {},
   "outputs": [
    {
     "data": {
      "text/plain": [
       "never smoked       1892\n",
       "Unknown            1544\n",
       "formerly smoked     885\n",
       "smokes              789\n",
       "Name: smoking_status, dtype: int64"
      ]
     },
     "execution_count": 29,
     "metadata": {},
     "output_type": "execute_result"
    }
   ],
   "source": [
    "df.smoking_status.value_counts()"
   ]
  },
  {
   "cell_type": "code",
   "execution_count": 30,
   "id": "078c292a",
   "metadata": {},
   "outputs": [],
   "source": [
    "# Remplacement des valeurs manquantes de la variables bmi  par leur valeur moyenne\n",
    "df = df.fillna(df.bmi.mean())"
   ]
  },
  {
   "cell_type": "code",
   "execution_count": 31,
   "id": "d4324227",
   "metadata": {},
   "outputs": [
    {
     "data": {
      "text/plain": [
       "id                   0\n",
       "gender               0\n",
       "age                  0\n",
       "hypertension         0\n",
       "heart_disease        0\n",
       "ever_married         0\n",
       "work_type            0\n",
       "Residence_type       0\n",
       "avg_glucose_level    0\n",
       "bmi                  0\n",
       "smoking_status       0\n",
       "stroke               0\n",
       "dtype: int64"
      ]
     },
     "execution_count": 31,
     "metadata": {},
     "output_type": "execute_result"
    }
   ],
   "source": [
    "# On vérifie qu'il n'y a plus de valeurs manquantes\n",
    "df.isna().sum()"
   ]
  },
  {
   "cell_type": "markdown",
   "id": "37cd7e77",
   "metadata": {},
   "source": [
    "Regardons l'influence de certains facteurs sur le risque d'avoir une attaque.\n",
    "Regardons parmi les personnes qui ont eu une attaque combien font de l'hypertension"
   ]
  },
  {
   "cell_type": "code",
   "execution_count": 32,
   "id": "fb34037d",
   "metadata": {},
   "outputs": [
    {
     "name": "stdout",
     "output_type": "stream",
     "text": [
      "Parmi les personnes qui ont eu une attaque 26.51  % font de l'hypertension\n"
     ]
    }
   ],
   "source": [
    "print('Parmi les personnes qui ont eu une attaque', \n",
    "      round(len(df[(df['stroke'] == 1)&(df['hypertension'] == 1)]) / len(df[df['stroke'] == 1]) * 100,2)\n",
    "      , ' % font de l\\'hypertension')"
   ]
  },
  {
   "cell_type": "markdown",
   "id": "019d4679",
   "metadata": {},
   "source": [
    "Regardons parmi les personnes qui ont eu une attaque, combien souffrent d'une maladie du coeur\n",
    " "
   ]
  },
  {
   "cell_type": "code",
   "execution_count": 33,
   "id": "f2f37572",
   "metadata": {},
   "outputs": [
    {
     "name": "stdout",
     "output_type": "stream",
     "text": [
      "Parmi les personnes qui ont eu une attaque 18.88  % souffrent d'une maladie du coeur\n"
     ]
    }
   ],
   "source": [
    "print('Parmi les personnes qui ont eu une attaque', \n",
    "      round(len(df[(df['stroke'] == 1)&(df['heart_disease'] == 1)]) / len(df[df['stroke'] == 1]) * 100,2)\n",
    "      , ' % souffrent d\\'une maladie du coeur')"
   ]
  },
  {
   "cell_type": "markdown",
   "id": "3a8bb346",
   "metadata": {},
   "source": [
    "Regardons parmi les personnes qui ont eu une attaque, combien sont en surpoids, c'est à dire qui ont un indice de masse corporelle(IMC) supérieur 25 (source : https://www.topsante.com/outils/imc). Il existe des exceptions pour les personnes très musclées qui ont en théorie un imc supérieur à 25 mais ont un pourcentage de masse de graisse plus bas que la moyenne. Nous faisons l'hypothèse que les personnes présentes dans notre jeu de données ne font pas partie de cette exception."
   ]
  },
  {
   "cell_type": "code",
   "execution_count": 34,
   "id": "9d5f55b3",
   "metadata": {},
   "outputs": [
    {
     "name": "stdout",
     "output_type": "stream",
     "text": [
      "Parmi les personnes qui ont eu une attaque 84.74  % sont en surpoids \n"
     ]
    }
   ],
   "source": [
    "print('Parmi les personnes qui ont eu une attaque', \n",
    "      round(len(df[(df['stroke'] == 1)&(df['bmi'] > 25)]) / len(df[df['stroke'] == 1]) * 100,2)\n",
    "      , ' % sont en surpoids ')"
   ]
  },
  {
   "cell_type": "markdown",
   "id": "6ce48a19",
   "metadata": {},
   "source": [
    "Nous constatons que la majorité des personnes qui ont subi une attaque est en surpoids, cela confirme bien que le surpoids est un facteur qui augmente le risque de subir une attaque cardiaque. D'après notre jeu de donnée, la variable 'bmi' est donc celle qui influe le plus sur le risque d'avoir une attaque, toutes choses étant égales par ailleurs.\n",
    "Regardons les niveaux de glycémie minimal, maximal et moyen des personnes qui ont subi une attaque et comparons à l'ensemble du jeu de données."
   ]
  },
  {
   "cell_type": "code",
   "execution_count": 35,
   "id": "d7592109",
   "metadata": {},
   "outputs": [
    {
     "name": "stdout",
     "output_type": "stream",
     "text": [
      "La glycémie minimale des personnes ayant subi une attaque est de:\n",
      " 56.11\n",
      "La glycémie maximale des personnes ayant subi une attaque est de:\n",
      " 271.74\n",
      "La glycémie moyenne des personnes ayant subi une attaque est de:\n",
      " 132.54\n"
     ]
    }
   ],
   "source": [
    "print('La glycémie minimale des personnes ayant subi une attaque est de:\\n'\n",
    "      ,df[(df['stroke'] == 1)]['avg_glucose_level'].min().round(2))\n",
    "print('La glycémie maximale des personnes ayant subi une attaque est de:\\n'\n",
    "      ,df[(df['stroke'] == 1)]['avg_glucose_level'].max().round(2))\n",
    "print('La glycémie moyenne des personnes ayant subi une attaque est de:\\n'\n",
    "      ,df[(df['stroke'] == 1)]['avg_glucose_level'].mean().round(2))"
   ]
  },
  {
   "cell_type": "markdown",
   "id": "18926d1f",
   "metadata": {},
   "source": [
    "Les glycémies minimale et moyenne sont supérieures à celle de l'ensemble de notre jeu de données. Ce qui indique qu'une glycémie élevée augmente le risque de subir une attaque cardiaque."
   ]
  },
  {
   "cell_type": "markdown",
   "id": "9e8eb923",
   "metadata": {},
   "source": [
    "Regardons parmi les personnes qui ont eu une attaque, combien font de l'hypertension, souffre d'une maladie de coeur et ont un IMC > 25"
   ]
  },
  {
   "cell_type": "code",
   "execution_count": 36,
   "id": "eb01641f",
   "metadata": {},
   "outputs": [
    {
     "name": "stdout",
     "output_type": "stream",
     "text": [
      "Parmi les personnes qui ont eu une attaque 5.22  % font de l'hypertension, souffre d'une maladie de coeur et ont un IMC >25\n"
     ]
    }
   ],
   "source": [
    "print('Parmi les personnes qui ont eu une attaque', \n",
    "      round(len(df[(df['stroke'] == 1)&(df['hypertension'] == 1)&(df['heart_disease'] == 1)&(df['bmi'] > 25)]) \n",
    "            / len(df[df['stroke'] == 1]) * 100,2)\n",
    "      , ' % font de l\\'hypertension, souffre d\\'une maladie de coeur et ont un IMC >25')"
   ]
  },
  {
   "cell_type": "markdown",
   "id": "60d54c92",
   "metadata": {},
   "source": [
    "Regardons la répartition de la variable smoking_status"
   ]
  },
  {
   "cell_type": "code",
   "execution_count": 37,
   "id": "e9078b66",
   "metadata": {},
   "outputs": [
    {
     "data": {
      "text/plain": [
       "never smoked       0.370254\n",
       "Unknown            0.302153\n",
       "formerly smoked    0.173190\n",
       "smokes             0.154403\n",
       "Name: smoking_status, dtype: float64"
      ]
     },
     "execution_count": 37,
     "metadata": {},
     "output_type": "execute_result"
    }
   ],
   "source": [
    "df.smoking_status.value_counts(normalize = True)"
   ]
  },
  {
   "cell_type": "code",
   "execution_count": 38,
   "id": "3e19fb61",
   "metadata": {},
   "outputs": [
    {
     "data": {
      "image/png": "[encoded data removed]",
      "text/plain": [
       "<Figure size 432x288 with 1 Axes>"
      ]
     },
     "metadata": {
      "needs_background": "light"
     },
     "output_type": "display_data"
    }
   ],
   "source": [
    "t = pd.crosstab(df.smoking_status, \"freq\", normalize=True)\n",
    "t.plot(kind = \"bar\");\n",
    "plt.title('Répartition de la variable smoking_status');"
   ]
  },
  {
   "cell_type": "markdown",
   "id": "ddc4f8e9",
   "metadata": {},
   "source": [
    "Dans notre échantillon, la proportion de personnes qui n'a jamais fumé est majoritaire et celle des fumeurs est minoritaire."
   ]
  },
  {
   "cell_type": "markdown",
   "id": "3afd33a8",
   "metadata": {},
   "source": [
    "Etudions la corrélation entre la variable 'smoking_status' dans la variable 'stroke' "
   ]
  },
  {
   "cell_type": "code",
   "execution_count": 39,
   "id": "46c387ee",
   "metadata": {},
   "outputs": [
    {
     "data": {
      "text/html": [
       "<div>\n",
       "<style scoped>\n",
       "    .dataframe tbody tr th:only-of-type {\n",
       "        vertical-align: middle;\n",
       "    }\n",
       "\n",
       "    .dataframe tbody tr th {\n",
       "        vertical-align: top;\n",
       "    }\n",
       "\n",
       "    .dataframe thead th {\n",
       "        text-align: right;\n",
       "    }\n",
       "</style>\n",
       "<table border=\"1\" class=\"dataframe\">\n",
       "  <thead>\n",
       "    <tr style=\"text-align: right;\">\n",
       "      <th>stroke</th>\n",
       "      <th>0</th>\n",
       "      <th>1</th>\n",
       "    </tr>\n",
       "    <tr>\n",
       "      <th>smoking_status</th>\n",
       "      <th></th>\n",
       "      <th></th>\n",
       "    </tr>\n",
       "  </thead>\n",
       "  <tbody>\n",
       "    <tr>\n",
       "      <th>Unknown</th>\n",
       "      <td>1497</td>\n",
       "      <td>47</td>\n",
       "    </tr>\n",
       "    <tr>\n",
       "      <th>formerly smoked</th>\n",
       "      <td>815</td>\n",
       "      <td>70</td>\n",
       "    </tr>\n",
       "    <tr>\n",
       "      <th>never smoked</th>\n",
       "      <td>1802</td>\n",
       "      <td>90</td>\n",
       "    </tr>\n",
       "    <tr>\n",
       "      <th>smokes</th>\n",
       "      <td>747</td>\n",
       "      <td>42</td>\n",
       "    </tr>\n",
       "  </tbody>\n",
       "</table>\n",
       "</div>"
      ],
      "text/plain": [
       "stroke              0   1\n",
       "smoking_status           \n",
       "Unknown          1497  47\n",
       "formerly smoked   815  70\n",
       "never smoked     1802  90\n",
       "smokes            747  42"
      ]
     },
     "execution_count": 39,
     "metadata": {},
     "output_type": "execute_result"
    }
   ],
   "source": [
    "# Déterminons la table de contingence\n",
    "table_1 = pd.crosstab(df['smoking_status'],df['stroke'])\n",
    "table_1"
   ]
  },
  {
   "cell_type": "markdown",
   "id": "80f7bc22",
   "metadata": {},
   "source": [
    "Effectuons un test de chi2_contingency de scipy appliquée à la table de contingence\n",
    "Posons l'hypothèse H0 : les variables 'smoking_status' et 'stroke' sont indépendantes"
   ]
  },
  {
   "cell_type": "code",
   "execution_count": 40,
   "id": "c2313ef8",
   "metadata": {},
   "outputs": [
    {
     "name": "stdout",
     "output_type": "stream",
     "text": [
      "29.147269191399264 2.0853997025008455e-06 3\n"
     ]
    }
   ],
   "source": [
    "from scipy.stats import chi2_contingency\n",
    "\n",
    "resultats_test = chi2_contingency(table_1)\n",
    "statistique = resultats_test[0]\n",
    "p_valeur = resultats_test[1]\n",
    "degre_liberte = resultats_test[2]\n",
    "\n",
    "print(statistique, p_valeur,degre_liberte)\n",
    "# p-value < 5% donc on rejette H0"
   ]
  },
  {
   "cell_type": "markdown",
   "id": "1d6deb6f",
   "metadata": {},
   "source": [
    "Pour mesurer le niveau de corrélation, calculons, le V-Cramer"
   ]
  },
  {
   "cell_type": "code",
   "execution_count": 41,
   "id": "3742f6e3",
   "metadata": {},
   "outputs": [
    {
     "data": {
      "text/plain": [
       "0.07153858559970024"
      ]
     },
     "execution_count": 41,
     "metadata": {},
     "output_type": "execute_result"
    }
   ],
   "source": [
    "def V_Cramer(table, N):\n",
    "    stat_chi2 = chi2_contingency(table)[0]\n",
    "    k = table.shape[0]\n",
    "    r = table.shape[1]\n",
    "    phi = max(0,(stat_chi2/N)-((k-1)*(r-1)/(N-1)))\n",
    "    k_corr = k - (np.square(k-1)/(N-1))\n",
    "    r_corr = r - (np.square(r-1)/(N-1))\n",
    "    return np.sqrt(phi/min(k_corr - 1,r_corr - 1))\n",
    "\n",
    "V_Cramer(table_1, df.shape[0])"
   ]
  },
  {
   "cell_type": "markdown",
   "id": "06d6a400",
   "metadata": {},
   "source": [
    "Le V_Cramer est faible, il y a une faible corrélation entre les 'smoking_status' et 'stroke'"
   ]
  },
  {
   "cell_type": "markdown",
   "id": "9f345aee",
   "metadata": {},
   "source": [
    "Regardons la répartition de la variable 'smoking_status' dans la variable 'stroke'"
   ]
  },
  {
   "cell_type": "code",
   "execution_count": 42,
   "id": "59033f17",
   "metadata": {},
   "outputs": [
    {
     "data": {
      "text/plain": [
       "stroke  smoking_status \n",
       "0       never smoked       0.370706\n",
       "        Unknown            0.307961\n",
       "        formerly smoked    0.167661\n",
       "        smokes             0.153672\n",
       "1       never smoked       0.361446\n",
       "        formerly smoked    0.281124\n",
       "        Unknown            0.188755\n",
       "        smokes             0.168675\n",
       "Name: smoking_status, dtype: float64"
      ]
     },
     "execution_count": 42,
     "metadata": {},
     "output_type": "execute_result"
    }
   ],
   "source": [
    "df.groupby('stroke').smoking_status.value_counts(normalize = True)"
   ]
  },
  {
   "cell_type": "markdown",
   "id": "231dddc1",
   "metadata": {},
   "source": [
    "La distribution de la variable smoking_status dans la variable 'stroke' est similaire pour les catégories 'never smoked' et 'smokes' à celle dans le jeu de données global. Par contre, parmi les personnes ayant subi une attaque la proportion des anciens fumeurs est plus grande que dans l'ensemble du jeu de données. La cigarette semble être un facteur aggravant sur le long terme. Regardons ci-dessous graphiquement la répartition de la variable \"smoking_status\" dans la variable 'stroke'."
   ]
  },
  {
   "cell_type": "code",
   "execution_count": 43,
   "id": "05cf9dcc",
   "metadata": {},
   "outputs": [
    {
     "data": {
      "image/png": "[encoded data removed]",
      "text/plain": [
       "<Figure size 432x288 with 1 Axes>"
      ]
     },
     "metadata": {
      "needs_background": "light"
     },
     "output_type": "display_data"
    },
    {
     "data": {
      "image/png": "[encoded data removed]",
      "text/plain": [
       "<Figure size 432x288 with 1 Axes>"
      ]
     },
     "metadata": {
      "needs_background": "light"
     },
     "output_type": "display_data"
    }
   ],
   "source": [
    "t = pd.crosstab(df[(df['stroke'] == 1)]['smoking_status'], \"freq\", normalize=True)\n",
    "t1 = pd.crosstab(df[(df['stroke'] == 0)]['smoking_status'], \"freq\", normalize=True)\n",
    "t.plot.bar(color = 'red')\n",
    "plt.title('Personnes ayant subi une attaque')\n",
    "t1.plot.bar()\n",
    "plt.title('Personnes n\\'ayant pas subi une attaque');"
   ]
  },
  {
   "cell_type": "markdown",
   "id": "c2c477ef",
   "metadata": {},
   "source": [
    "Regardons la répartition de la variable 'work_type' dans le jeu de données"
   ]
  },
  {
   "cell_type": "code",
   "execution_count": 44,
   "id": "d3932148",
   "metadata": {},
   "outputs": [
    {
     "data": {
      "text/plain": [
       "Private          0.572407\n",
       "Self-employed    0.160274\n",
       "children         0.134442\n",
       "Govt_job         0.128571\n",
       "Never_worked     0.004305\n",
       "Name: work_type, dtype: float64"
      ]
     },
     "execution_count": 44,
     "metadata": {},
     "output_type": "execute_result"
    }
   ],
   "source": [
    "df.work_type.value_counts(normalize = True)"
   ]
  },
  {
   "cell_type": "code",
   "execution_count": 45,
   "id": "782d1a20",
   "metadata": {},
   "outputs": [
    {
     "data": {
      "image/png": "[encoded data removed]",
      "text/plain": [
       "<Figure size 432x288 with 1 Axes>"
      ]
     },
     "metadata": {
      "needs_background": "light"
     },
     "output_type": "display_data"
    }
   ],
   "source": [
    "t1 = pd.crosstab(df.work_type, \"freq\", normalize=True)\n",
    "t1.plot(kind = \"bar\");\n",
    "plt.title('Répartition de la variable work_type');"
   ]
  },
  {
   "cell_type": "markdown",
   "id": "2a90f508",
   "metadata": {},
   "source": [
    "Regardons la corrélation entre la variable 'work_type' dans la variable 'stroke'"
   ]
  },
  {
   "cell_type": "code",
   "execution_count": 46,
   "id": "b1cece29",
   "metadata": {},
   "outputs": [
    {
     "data": {
      "text/html": [
       "<div>\n",
       "<style scoped>\n",
       "    .dataframe tbody tr th:only-of-type {\n",
       "        vertical-align: middle;\n",
       "    }\n",
       "\n",
       "    .dataframe tbody tr th {\n",
       "        vertical-align: top;\n",
       "    }\n",
       "\n",
       "    .dataframe thead th {\n",
       "        text-align: right;\n",
       "    }\n",
       "</style>\n",
       "<table border=\"1\" class=\"dataframe\">\n",
       "  <thead>\n",
       "    <tr style=\"text-align: right;\">\n",
       "      <th>stroke</th>\n",
       "      <th>0</th>\n",
       "      <th>1</th>\n",
       "    </tr>\n",
       "    <tr>\n",
       "      <th>work_type</th>\n",
       "      <th></th>\n",
       "      <th></th>\n",
       "    </tr>\n",
       "  </thead>\n",
       "  <tbody>\n",
       "    <tr>\n",
       "      <th>Govt_job</th>\n",
       "      <td>624</td>\n",
       "      <td>33</td>\n",
       "    </tr>\n",
       "    <tr>\n",
       "      <th>Never_worked</th>\n",
       "      <td>22</td>\n",
       "      <td>0</td>\n",
       "    </tr>\n",
       "    <tr>\n",
       "      <th>Private</th>\n",
       "      <td>2776</td>\n",
       "      <td>149</td>\n",
       "    </tr>\n",
       "    <tr>\n",
       "      <th>Self-employed</th>\n",
       "      <td>754</td>\n",
       "      <td>65</td>\n",
       "    </tr>\n",
       "    <tr>\n",
       "      <th>children</th>\n",
       "      <td>685</td>\n",
       "      <td>2</td>\n",
       "    </tr>\n",
       "  </tbody>\n",
       "</table>\n",
       "</div>"
      ],
      "text/plain": [
       "stroke            0    1\n",
       "work_type               \n",
       "Govt_job        624   33\n",
       "Never_worked     22    0\n",
       "Private        2776  149\n",
       "Self-employed   754   65\n",
       "children        685    2"
      ]
     },
     "execution_count": 46,
     "metadata": {},
     "output_type": "execute_result"
    }
   ],
   "source": [
    "# Déterminons la table de contingence\n",
    "table_2 = pd.crosstab(df['work_type'],df['stroke'])\n",
    "table_2"
   ]
  },
  {
   "cell_type": "markdown",
   "id": "37111033",
   "metadata": {},
   "source": [
    "Effectuons un test de chi2_contingency de scipy appliquée à la table de contingence\n",
    "Posons l'hypothèse H0 : les variables 'work_type' et 'stroke' sont indépendantes"
   ]
  },
  {
   "cell_type": "code",
   "execution_count": 47,
   "id": "ef06e669",
   "metadata": {},
   "outputs": [
    {
     "name": "stdout",
     "output_type": "stream",
     "text": [
      "49.163511976675295 5.397707801896119e-10 4\n"
     ]
    }
   ],
   "source": [
    "resultats_test = chi2_contingency(table_2)\n",
    "statistique = resultats_test[0]\n",
    "p_valeur = resultats_test[1]\n",
    "degre_liberte = resultats_test[2]\n",
    "\n",
    "print(statistique, p_valeur,degre_liberte)\n",
    "# p-value < 5% donc on rejette H0"
   ]
  },
  {
   "cell_type": "markdown",
   "id": "863addd7",
   "metadata": {},
   "source": [
    "Pour mesurer le niveau de corrélation, calculons, le V-Cramer"
   ]
  },
  {
   "cell_type": "code",
   "execution_count": 48,
   "id": "c984b840",
   "metadata": {},
   "outputs": [
    {
     "data": {
      "text/plain": [
       "0.09402041104598291"
      ]
     },
     "execution_count": 48,
     "metadata": {},
     "output_type": "execute_result"
    }
   ],
   "source": [
    "V_Cramer(table_2, df.shape[0])"
   ]
  },
  {
   "cell_type": "markdown",
   "id": "5dd749b4",
   "metadata": {},
   "source": [
    "Le V_Cramer est faible, il y a une faible corrélation entre les variables 'work_type' et 'stroke'"
   ]
  },
  {
   "cell_type": "markdown",
   "id": "66820806",
   "metadata": {},
   "source": [
    "Regardons la répartition de la variable 'work_type' dans la variable 'stroke'"
   ]
  },
  {
   "cell_type": "code",
   "execution_count": 49,
   "id": "701c8942",
   "metadata": {},
   "outputs": [
    {
     "data": {
      "text/plain": [
       "stroke  work_type    \n",
       "0       Private          0.571076\n",
       "        Self-employed    0.155112\n",
       "        children         0.140918\n",
       "        Govt_job         0.128369\n",
       "        Never_worked     0.004526\n",
       "1       Private          0.598394\n",
       "        Self-employed    0.261044\n",
       "        Govt_job         0.132530\n",
       "        children         0.008032\n",
       "Name: work_type, dtype: float64"
      ]
     },
     "execution_count": 49,
     "metadata": {},
     "output_type": "execute_result"
    }
   ],
   "source": [
    "df.groupby('stroke').work_type.value_counts(normalize = True)"
   ]
  },
  {
   "cell_type": "code",
   "execution_count": 50,
   "id": "d013bd61",
   "metadata": {},
   "outputs": [
    {
     "data": {
      "image/png": "[encoded data removed]",
      "text/plain": [
       "<Figure size 432x288 with 1 Axes>"
      ]
     },
     "metadata": {
      "needs_background": "light"
     },
     "output_type": "display_data"
    },
    {
     "data": {
      "image/png": "[encoded data removed]",
      "text/plain": [
       "<Figure size 432x288 with 1 Axes>"
      ]
     },
     "metadata": {
      "needs_background": "light"
     },
     "output_type": "display_data"
    }
   ],
   "source": [
    "t2 = pd.crosstab(df[(df['stroke'] == 1)]['work_type'], \"freq\", normalize=True)\n",
    "t3 = pd.crosstab(df[(df['stroke'] == 0)]['work_type'], \"freq\", normalize=True)\n",
    "t2.plot.bar(color = 'red')\n",
    "plt.title('Personnes ayant subi une attaque')\n",
    "t3.plot.bar()\n",
    "plt.title('Personnes n\\'ayant pas subi une attaque');"
   ]
  },
  {
   "cell_type": "markdown",
   "id": "f51da8f3",
   "metadata": {},
   "source": [
    "Nous remarquons que la catégorie 'Private' est majoritaire à plus de 50%, les proportions restent proche de celle de l'ensemble du jeu de données. Par contre la proportion de la catégorie 'self-employed' est plus grande de 10% parmi ceux qui ont subi une attaque. Ceux qui sont à leur compte ont donc plus de chance de faire une attaque."
   ]
  },
  {
   "cell_type": "markdown",
   "id": "e159e081",
   "metadata": {},
   "source": [
    "Regardons la répartition de la variable 'Residence_type'"
   ]
  },
  {
   "cell_type": "code",
   "execution_count": 51,
   "id": "d11e7f32",
   "metadata": {},
   "outputs": [
    {
     "data": {
      "text/plain": [
       "1    0.508023\n",
       "0    0.491977\n",
       "Name: Residence_type, dtype: float64"
      ]
     },
     "execution_count": 51,
     "metadata": {},
     "output_type": "execute_result"
    }
   ],
   "source": [
    "df.Residence_type.value_counts(normalize = True)"
   ]
  },
  {
   "cell_type": "code",
   "execution_count": 52,
   "id": "48963a56",
   "metadata": {},
   "outputs": [
    {
     "data": {
      "image/png": "[encoded data removed]",
      "text/plain": [
       "<Figure size 432x288 with 1 Axes>"
      ]
     },
     "metadata": {
      "needs_background": "light"
     },
     "output_type": "display_data"
    }
   ],
   "source": [
    "t4 = pd.crosstab(df.Residence_type, \"freq\", normalize=True)\n",
    "t4.plot(kind = \"bar\");\n",
    "plt.title('Répartition de la variable Residence_type');"
   ]
  },
  {
   "cell_type": "markdown",
   "id": "504522b0",
   "metadata": {},
   "source": [
    "Regardons la corrélation entre les variables 'Residence_type' et 'stroke'"
   ]
  },
  {
   "cell_type": "code",
   "execution_count": 53,
   "id": "4e1d8b9e",
   "metadata": {},
   "outputs": [
    {
     "data": {
      "text/html": [
       "<div>\n",
       "<style scoped>\n",
       "    .dataframe tbody tr th:only-of-type {\n",
       "        vertical-align: middle;\n",
       "    }\n",
       "\n",
       "    .dataframe tbody tr th {\n",
       "        vertical-align: top;\n",
       "    }\n",
       "\n",
       "    .dataframe thead th {\n",
       "        text-align: right;\n",
       "    }\n",
       "</style>\n",
       "<table border=\"1\" class=\"dataframe\">\n",
       "  <thead>\n",
       "    <tr style=\"text-align: right;\">\n",
       "      <th>stroke</th>\n",
       "      <th>0</th>\n",
       "      <th>1</th>\n",
       "    </tr>\n",
       "    <tr>\n",
       "      <th>Residence_type</th>\n",
       "      <th></th>\n",
       "      <th></th>\n",
       "    </tr>\n",
       "  </thead>\n",
       "  <tbody>\n",
       "    <tr>\n",
       "      <th>0</th>\n",
       "      <td>2400</td>\n",
       "      <td>114</td>\n",
       "    </tr>\n",
       "    <tr>\n",
       "      <th>1</th>\n",
       "      <td>2461</td>\n",
       "      <td>135</td>\n",
       "    </tr>\n",
       "  </tbody>\n",
       "</table>\n",
       "</div>"
      ],
      "text/plain": [
       "stroke             0    1\n",
       "Residence_type           \n",
       "0               2400  114\n",
       "1               2461  135"
      ]
     },
     "execution_count": 53,
     "metadata": {},
     "output_type": "execute_result"
    }
   ],
   "source": [
    "# Déterminons la table de contingence\n",
    "table_3 = pd.crosstab(df['Residence_type'],df['stroke'])\n",
    "table_3"
   ]
  },
  {
   "cell_type": "markdown",
   "id": "d466daa8",
   "metadata": {},
   "source": [
    "Effectuons un test de chi2_contingency de scipy appliquée à la table de contingence\n",
    "Posons l'hypothèse H0 : les variables 'Residence_type' et 'stroke' sont indépendantes"
   ]
  },
  {
   "cell_type": "code",
   "execution_count": 54,
   "id": "220372a4",
   "metadata": {},
   "outputs": [
    {
     "name": "stdout",
     "output_type": "stream",
     "text": [
      "1.0816367471627524 0.29833169286876987 1\n"
     ]
    }
   ],
   "source": [
    "resultats_test = chi2_contingency(table_3)\n",
    "statistique = resultats_test[0]\n",
    "p_valeur = resultats_test[1]\n",
    "degre_liberte = resultats_test[2]\n",
    "\n",
    "print(statistique, p_valeur,degre_liberte)\n",
    "# p-value > 5% on ne rejette pas H0 "
   ]
  },
  {
   "cell_type": "markdown",
   "id": "7832a7f3",
   "metadata": {},
   "source": [
    "Pour mesurer le niveau de corrélation, calculons, le V-Cramer"
   ]
  },
  {
   "cell_type": "code",
   "execution_count": 55,
   "id": "57ed3cd7",
   "metadata": {},
   "outputs": [
    {
     "data": {
      "text/plain": [
       "0.003992580152454577"
      ]
     },
     "execution_count": 55,
     "metadata": {},
     "output_type": "execute_result"
    }
   ],
   "source": [
    "V_Cramer(table_3, df.shape[0])"
   ]
  },
  {
   "cell_type": "markdown",
   "id": "c6bd52ce",
   "metadata": {},
   "source": [
    "Le V_Cramer est proche de 0, il y a peu ou pas de corrélation entre les variables 'Residence_type' et 'stroke'"
   ]
  },
  {
   "cell_type": "markdown",
   "id": "9a5a78b6",
   "metadata": {},
   "source": [
    "Regardons la répartition de la variable 'Residence_type' dans la variable 'stroke'"
   ]
  },
  {
   "cell_type": "code",
   "execution_count": 56,
   "id": "fa223514",
   "metadata": {},
   "outputs": [
    {
     "data": {
      "text/plain": [
       "stroke  Residence_type\n",
       "0       1                 0.506274\n",
       "        0                 0.493726\n",
       "1       1                 0.542169\n",
       "        0                 0.457831\n",
       "Name: Residence_type, dtype: float64"
      ]
     },
     "execution_count": 56,
     "metadata": {},
     "output_type": "execute_result"
    }
   ],
   "source": [
    "df.groupby('stroke').Residence_type.value_counts(normalize = True)"
   ]
  },
  {
   "cell_type": "code",
   "execution_count": 57,
   "id": "ae72affa",
   "metadata": {},
   "outputs": [
    {
     "data": {
      "image/png": "[encoded data removed]",
      "text/plain": [
       "<Figure size 432x288 with 1 Axes>"
      ]
     },
     "metadata": {
      "needs_background": "light"
     },
     "output_type": "display_data"
    },
    {
     "data": {
      "image/png": "[encoded data removed]",
      "text/plain": [
       "<Figure size 432x288 with 1 Axes>"
      ]
     },
     "metadata": {
      "needs_background": "light"
     },
     "output_type": "display_data"
    }
   ],
   "source": [
    "t5 = pd.crosstab(df[(df['stroke'] == 1)]['Residence_type'], \"freq\", normalize=True)\n",
    "t6 = pd.crosstab(df[(df['stroke'] == 0)]['Residence_type'], \"freq\", normalize=True)\n",
    "t5.plot.bar(color = 'red')\n",
    "plt.title('Personnes ayant subi une attaque')\n",
    "t6.plot.bar()\n",
    "plt.title('Personnes n\\'ayant pas subi une attaque');"
   ]
  },
  {
   "cell_type": "markdown",
   "id": "eb5b2ee6",
   "metadata": {},
   "source": [
    "Les proportions changent quand on regarde les personnes qui ont subi une attaque.\n",
    "Parmi ces personnes, les personnes vivant en milieu urbain sont un peu plus touché  54,2% contre 45,8 % vivant en milieu urbain."
   ]
  },
  {
   "cell_type": "markdown",
   "id": "29de04ba",
   "metadata": {},
   "source": [
    "Regardons la répartition de la variable 'ever_married'"
   ]
  },
  {
   "cell_type": "code",
   "execution_count": 58,
   "id": "c93170ab",
   "metadata": {},
   "outputs": [
    {
     "data": {
      "text/plain": [
       "1    0.656164\n",
       "0    0.343836\n",
       "Name: ever_married, dtype: float64"
      ]
     },
     "execution_count": 58,
     "metadata": {},
     "output_type": "execute_result"
    }
   ],
   "source": [
    "df.ever_married.value_counts(normalize = True)"
   ]
  },
  {
   "cell_type": "code",
   "execution_count": 59,
   "id": "c0bb4bcc",
   "metadata": {},
   "outputs": [
    {
     "data": {
      "image/png": "[encoded data removed]",
      "text/plain": [
       "<Figure size 432x288 with 1 Axes>"
      ]
     },
     "metadata": {
      "needs_background": "light"
     },
     "output_type": "display_data"
    }
   ],
   "source": [
    "t7 = pd.crosstab(df.ever_married, \"freq\", normalize=True)\n",
    "t7.plot(kind = \"bar\");\n",
    "plt.title('Répartition de la variable ever_married');"
   ]
  },
  {
   "cell_type": "markdown",
   "id": "258108c9",
   "metadata": {},
   "source": [
    "65,6% des personnes sont mariés contre 34,4% qui ne le sont pas."
   ]
  },
  {
   "cell_type": "markdown",
   "id": "47102475",
   "metadata": {},
   "source": [
    "Regardons la corrélation entre les variables 'ever_married' et 'stroke'"
   ]
  },
  {
   "cell_type": "code",
   "execution_count": 60,
   "id": "5c617920",
   "metadata": {},
   "outputs": [
    {
     "data": {
      "text/html": [
       "<div>\n",
       "<style scoped>\n",
       "    .dataframe tbody tr th:only-of-type {\n",
       "        vertical-align: middle;\n",
       "    }\n",
       "\n",
       "    .dataframe tbody tr th {\n",
       "        vertical-align: top;\n",
       "    }\n",
       "\n",
       "    .dataframe thead th {\n",
       "        text-align: right;\n",
       "    }\n",
       "</style>\n",
       "<table border=\"1\" class=\"dataframe\">\n",
       "  <thead>\n",
       "    <tr style=\"text-align: right;\">\n",
       "      <th>stroke</th>\n",
       "      <th>0</th>\n",
       "      <th>1</th>\n",
       "    </tr>\n",
       "    <tr>\n",
       "      <th>ever_married</th>\n",
       "      <th></th>\n",
       "      <th></th>\n",
       "    </tr>\n",
       "  </thead>\n",
       "  <tbody>\n",
       "    <tr>\n",
       "      <th>0</th>\n",
       "      <td>1728</td>\n",
       "      <td>29</td>\n",
       "    </tr>\n",
       "    <tr>\n",
       "      <th>1</th>\n",
       "      <td>3133</td>\n",
       "      <td>220</td>\n",
       "    </tr>\n",
       "  </tbody>\n",
       "</table>\n",
       "</div>"
      ],
      "text/plain": [
       "stroke           0    1\n",
       "ever_married           \n",
       "0             1728   29\n",
       "1             3133  220"
      ]
     },
     "execution_count": 60,
     "metadata": {},
     "output_type": "execute_result"
    }
   ],
   "source": [
    "# Déterminons la table de contingence\n",
    "table_4 = pd.crosstab(df['ever_married'],df['stroke'])\n",
    "table_4"
   ]
  },
  {
   "cell_type": "markdown",
   "id": "119406eb",
   "metadata": {},
   "source": [
    "Effectuons un test de chi2_contingency de scipy appliquée à la table de contingence\n",
    "Posons l'hypothèse H0 : les variables 'ever_married' et 'stroke' sont indépendantes"
   ]
  },
  {
   "cell_type": "code",
   "execution_count": 61,
   "id": "36a65cab",
   "metadata": {},
   "outputs": [
    {
     "name": "stdout",
     "output_type": "stream",
     "text": [
      "58.923890259034195 1.6389021142314745e-14 1\n"
     ]
    }
   ],
   "source": [
    "resultats_test = chi2_contingency(table_4)\n",
    "statistique = resultats_test[0]\n",
    "p_valeur = resultats_test[1]\n",
    "degre_liberte = resultats_test[2]\n",
    "\n",
    "print(statistique, p_valeur,degre_liberte)\n",
    "# p-value < 5% on rejette H0 "
   ]
  },
  {
   "cell_type": "markdown",
   "id": "8429cef4",
   "metadata": {},
   "source": [
    "Pour mesurer le niveau de corrélation, calculons, le V-Cramer"
   ]
  },
  {
   "cell_type": "code",
   "execution_count": 62,
   "id": "71acc990",
   "metadata": {},
   "outputs": [
    {
     "data": {
      "text/plain": [
       "0.10647807334277677"
      ]
     },
     "execution_count": 62,
     "metadata": {},
     "output_type": "execute_result"
    }
   ],
   "source": [
    "V_Cramer(table_4, df.shape[0])"
   ]
  },
  {
   "cell_type": "markdown",
   "id": "582a57f1",
   "metadata": {},
   "source": [
    "Le V_Cramer est faible, il y a une faible corrélation entre les variables 'ever_married' et 'stroke'"
   ]
  },
  {
   "cell_type": "markdown",
   "id": "b80438c1",
   "metadata": {},
   "source": [
    "Regardons la répartition de la variable 'ever_married' dans la variable 'stroke'"
   ]
  },
  {
   "cell_type": "code",
   "execution_count": 63,
   "id": "09f595c3",
   "metadata": {},
   "outputs": [
    {
     "data": {
      "text/plain": [
       "stroke  ever_married\n",
       "0       1               0.644518\n",
       "        0               0.355482\n",
       "1       1               0.883534\n",
       "        0               0.116466\n",
       "Name: ever_married, dtype: float64"
      ]
     },
     "execution_count": 63,
     "metadata": {},
     "output_type": "execute_result"
    }
   ],
   "source": [
    "df.groupby('stroke').ever_married.value_counts(normalize = True)"
   ]
  },
  {
   "cell_type": "code",
   "execution_count": 64,
   "id": "5ba099b1",
   "metadata": {},
   "outputs": [
    {
     "data": {
      "image/png": "[encoded data removed]",
      "text/plain": [
       "<Figure size 432x288 with 1 Axes>"
      ]
     },
     "metadata": {
      "needs_background": "light"
     },
     "output_type": "display_data"
    },
    {
     "data": {
      "image/png": "[encoded data removed]",
      "text/plain": [
       "<Figure size 432x288 with 1 Axes>"
      ]
     },
     "metadata": {
      "needs_background": "light"
     },
     "output_type": "display_data"
    }
   ],
   "source": [
    "t8 = pd.crosstab(df[(df['stroke'] == 1)]['ever_married'], \"freq\", normalize=True)\n",
    "t9 = pd.crosstab(df[(df['stroke'] == 0)]['ever_married'], \"freq\", normalize=True)\n",
    "t8.plot.bar(color = 'red')\n",
    "plt.title('Personnes ayant subi une attaque')\n",
    "t9.plot.bar()\n",
    "plt.title('Personnes n\\'ayant pas subi une attaque');"
   ]
  },
  {
   "cell_type": "markdown",
   "id": "96059563",
   "metadata": {},
   "source": [
    "Les proportions de personnes mariés augmentent quand on regarde les personnes qui ont subi une attaque.\n",
    "Elle passe de 64,5% à 88,4% alors que pour celles qui ne sont pas mariées passent de 35,5 à 11,6% pour les non mariés.\n",
    "D'après le jeu de données le fait d'être marié augmente le risque d'avoir une attaque."
   ]
  },
  {
   "cell_type": "markdown",
   "id": "fb6aa62f",
   "metadata": {},
   "source": [
    "Nous avons exploré les relations entre les variables qualititatives, explorons les relations entre les variables quantitatives.\n",
    "Regardons s'il existe des corrélations entre les variables quantitatives 'bmi' et 'avg_glucose_level', autrement dit si elles varient ensemble, nous proposons de faire un test de Pearsonr "
   ]
  },
  {
   "cell_type": "code",
   "execution_count": 65,
   "id": "84981077",
   "metadata": {},
   "outputs": [
    {
     "data": {
      "text/html": [
       "<div>\n",
       "<style scoped>\n",
       "    .dataframe tbody tr th:only-of-type {\n",
       "        vertical-align: middle;\n",
       "    }\n",
       "\n",
       "    .dataframe tbody tr th {\n",
       "        vertical-align: top;\n",
       "    }\n",
       "\n",
       "    .dataframe thead th {\n",
       "        text-align: right;\n",
       "    }\n",
       "</style>\n",
       "<table border=\"1\" class=\"dataframe\">\n",
       "  <thead>\n",
       "    <tr style=\"text-align: right;\">\n",
       "      <th></th>\n",
       "      <th>resultat_test</th>\n",
       "    </tr>\n",
       "  </thead>\n",
       "  <tbody>\n",
       "    <tr>\n",
       "      <th>pearson_coeff</th>\n",
       "      <td>1.687514e-01</td>\n",
       "    </tr>\n",
       "    <tr>\n",
       "      <th>p-value</th>\n",
       "      <td>5.927281e-34</td>\n",
       "    </tr>\n",
       "  </tbody>\n",
       "</table>\n",
       "</div>"
      ],
      "text/plain": [
       "               resultat_test\n",
       "pearson_coeff   1.687514e-01\n",
       "p-value         5.927281e-34"
      ]
     },
     "execution_count": 65,
     "metadata": {},
     "output_type": "execute_result"
    }
   ],
   "source": [
    "from scipy.stats import pearsonr\n",
    "\n",
    "pd.DataFrame(pearsonr(df['bmi'], df['avg_glucose_level']), index=['pearson_coeff','p-value'], columns=['resultat_test'])\n",
    "\n",
    "#la p-value < 5%, le coefficient proche de 0, il y a une faible corrélation entre les deux variables."
   ]
  },
  {
   "cell_type": "markdown",
   "id": "2728756c",
   "metadata": {},
   "source": [
    "Pour confirmer la faible corrélation, regardons graphiquement"
   ]
  },
  {
   "cell_type": "code",
   "execution_count": 66,
   "id": "e45e2a16",
   "metadata": {},
   "outputs": [
    {
     "data": {
      "image/png": "[encoded data removed]",
      "text/plain": [
       "<Figure size 720x720 with 1 Axes>"
      ]
     },
     "metadata": {
      "needs_background": "light"
     },
     "output_type": "display_data"
    }
   ],
   "source": [
    "from pandas.plotting import scatter_matrix\n",
    "%matplotlib inline\n",
    "\n",
    "df.plot(kind='scatter', x='bmi', y='avg_glucose_level', figsize=(10,10), title = 'bmi-avg_glucose_level distribution', alpha=0.1);"
   ]
  },
  {
   "cell_type": "markdown",
   "id": "9a857ca2",
   "metadata": {},
   "source": [
    "Autrement dit, niveau de glucose élevé ne signifie pas forcément que la personne soit en surpoids, une personne en surpoids\n",
    "n'a pas forcément un niveau de glucose élevé dans le sang."
   ]
  },
  {
   "cell_type": "markdown",
   "id": "1e5e418b",
   "metadata": {},
   "source": [
    "Regardons s'il existe des corrélations entre les variables quantitatives 'age' et 'bmi', autrement dit si elles varient ensemble, nous proposons de faire un test de Pearsonr "
   ]
  },
  {
   "cell_type": "code",
   "execution_count": 67,
   "id": "35d480b7",
   "metadata": {},
   "outputs": [
    {
     "data": {
      "text/html": [
       "<div>\n",
       "<style scoped>\n",
       "    .dataframe tbody tr th:only-of-type {\n",
       "        vertical-align: middle;\n",
       "    }\n",
       "\n",
       "    .dataframe tbody tr th {\n",
       "        vertical-align: top;\n",
       "    }\n",
       "\n",
       "    .dataframe thead th {\n",
       "        text-align: right;\n",
       "    }\n",
       "</style>\n",
       "<table border=\"1\" class=\"dataframe\">\n",
       "  <thead>\n",
       "    <tr style=\"text-align: right;\">\n",
       "      <th></th>\n",
       "      <th>resultat_test</th>\n",
       "    </tr>\n",
       "  </thead>\n",
       "  <tbody>\n",
       "    <tr>\n",
       "      <th>pearson_coeff</th>\n",
       "      <td>3.259425e-01</td>\n",
       "    </tr>\n",
       "    <tr>\n",
       "      <th>p-value</th>\n",
       "      <td>8.995421e-127</td>\n",
       "    </tr>\n",
       "  </tbody>\n",
       "</table>\n",
       "</div>"
      ],
      "text/plain": [
       "               resultat_test\n",
       "pearson_coeff   3.259425e-01\n",
       "p-value        8.995421e-127"
      ]
     },
     "execution_count": 67,
     "metadata": {},
     "output_type": "execute_result"
    }
   ],
   "source": [
    "pd.DataFrame(pearsonr(df['age'], df['bmi']), index=['pearson_coeff','p-value'], columns=['resultat_test'])\n",
    "#la p-value < 5%, le coefficient proche de 0, il y a une faible corrélation entre les deux variables."
   ]
  },
  {
   "cell_type": "markdown",
   "id": "ac31f6b6",
   "metadata": {},
   "source": [
    "Pour confirmer la faible corrélation, regardons graphiquement"
   ]
  },
  {
   "cell_type": "code",
   "execution_count": 68,
   "id": "750894c8",
   "metadata": {},
   "outputs": [
    {
     "data": {
      "image/png": "[encoded data removed]",
      "text/plain": [
       "<Figure size 720x720 with 1 Axes>"
      ]
     },
     "metadata": {
      "needs_background": "light"
     },
     "output_type": "display_data"
    }
   ],
   "source": [
    "plt.figure(figsize=(10,10))\n",
    "plt.scatter(df['age'], df['bmi'], c=df['stroke'])\n",
    "plt.xlabel('age')\n",
    "plt.ylabel('bmi')\n",
    "plt.title('age-bmi distribution')\n",
    "plt.legend;"
   ]
  },
  {
   "cell_type": "code",
   "execution_count": 69,
   "id": "eb5ff6e9",
   "metadata": {},
   "outputs": [
    {
     "data": {
      "image/png": "[encoded data removed]",
      "text/plain": [
       "<Figure size 720x720 with 1 Axes>"
      ]
     },
     "metadata": {
      "needs_background": "light"
     },
     "output_type": "display_data"
    }
   ],
   "source": [
    "%matplotlib inline\n",
    "\n",
    "df.plot(kind='scatter', x='age', y='bmi', figsize=(10,10), title = 'age-bmi distribution', alpha=0.1, c=df['stroke']);"
   ]
  },
  {
   "cell_type": "markdown",
   "id": "536cfe02",
   "metadata": {},
   "source": [
    "La faible corrélation entre les variables 'age' et 'bmi' est confirmée graphiquement. Autrement dit, la variable bmi n'augmente pas forcément avec l'age. Pour chaque tranche d'age, il existe des personnes en surpoids ou en insuffisance pondérale (bmi < 18,5).\n",
    "Par contre, il semble que ceux qui ont subi une attaque ont majoritairement plus de 40 ans."
   ]
  },
  {
   "cell_type": "markdown",
   "id": "963b3f01",
   "metadata": {},
   "source": [
    "Regardons s'il existe des corrélations entre les variables quantitatives 'age' et 'avg_glucose_level', autrement dit si elles varient ensemble, nous proposons de faire un test de Pearsonr"
   ]
  },
  {
   "cell_type": "code",
   "execution_count": 70,
   "id": "b3a82fc1",
   "metadata": {},
   "outputs": [
    {
     "data": {
      "text/html": [
       "<div>\n",
       "<style scoped>\n",
       "    .dataframe tbody tr th:only-of-type {\n",
       "        vertical-align: middle;\n",
       "    }\n",
       "\n",
       "    .dataframe tbody tr th {\n",
       "        vertical-align: top;\n",
       "    }\n",
       "\n",
       "    .dataframe thead th {\n",
       "        text-align: right;\n",
       "    }\n",
       "</style>\n",
       "<table border=\"1\" class=\"dataframe\">\n",
       "  <thead>\n",
       "    <tr style=\"text-align: right;\">\n",
       "      <th></th>\n",
       "      <th>resultat_test</th>\n",
       "    </tr>\n",
       "  </thead>\n",
       "  <tbody>\n",
       "    <tr>\n",
       "      <th>pearson_coeff</th>\n",
       "      <td>2.381711e-01</td>\n",
       "    </tr>\n",
       "    <tr>\n",
       "      <th>p-value</th>\n",
       "      <td>7.856311e-67</td>\n",
       "    </tr>\n",
       "  </tbody>\n",
       "</table>\n",
       "</div>"
      ],
      "text/plain": [
       "               resultat_test\n",
       "pearson_coeff   2.381711e-01\n",
       "p-value         7.856311e-67"
      ]
     },
     "execution_count": 70,
     "metadata": {},
     "output_type": "execute_result"
    }
   ],
   "source": [
    "pd.DataFrame(pearsonr(df['age'], df['avg_glucose_level']), index=['pearson_coeff','p-value'], columns=['resultat_test'])\n",
    "\n",
    "#la p-value < 5%, le coefficient proche de 0, il y a une faible corrélation entre les deux variables."
   ]
  },
  {
   "cell_type": "code",
   "execution_count": 71,
   "id": "1a4eb26b",
   "metadata": {},
   "outputs": [
    {
     "data": {
      "image/png": "[encoded data removed]",
      "text/plain": [
       "<Figure size 720x720 with 1 Axes>"
      ]
     },
     "metadata": {
      "needs_background": "light"
     },
     "output_type": "display_data"
    }
   ],
   "source": [
    "%matplotlib inline\n",
    "\n",
    "df.plot(kind='scatter', x='age', y='avg_glucose_level', figsize=(10,10), title = 'age-avg_glucose_level distribution', alpha=0.1, c = 'b');"
   ]
  },
  {
   "cell_type": "code",
   "execution_count": 72,
   "id": "8d4736a2",
   "metadata": {},
   "outputs": [
    {
     "data": {
      "text/html": [
       "<div>\n",
       "<style scoped>\n",
       "    .dataframe tbody tr th:only-of-type {\n",
       "        vertical-align: middle;\n",
       "    }\n",
       "\n",
       "    .dataframe tbody tr th {\n",
       "        vertical-align: top;\n",
       "    }\n",
       "\n",
       "    .dataframe thead th {\n",
       "        text-align: right;\n",
       "    }\n",
       "</style>\n",
       "<table border=\"1\" class=\"dataframe\">\n",
       "  <thead>\n",
       "    <tr style=\"text-align: right;\">\n",
       "      <th></th>\n",
       "      <th>df</th>\n",
       "      <th>sum_sq</th>\n",
       "      <th>mean_sq</th>\n",
       "      <th>F</th>\n",
       "      <th>PR(&gt;F)</th>\n",
       "    </tr>\n",
       "  </thead>\n",
       "  <tbody>\n",
       "    <tr>\n",
       "      <th>stroke</th>\n",
       "      <td>1.0</td>\n",
       "      <td>459.232642</td>\n",
       "      <td>459.232642</td>\n",
       "      <td>7.759776</td>\n",
       "      <td>0.005362</td>\n",
       "    </tr>\n",
       "    <tr>\n",
       "      <th>Residual</th>\n",
       "      <td>5108.0</td>\n",
       "      <td>302297.442823</td>\n",
       "      <td>59.181175</td>\n",
       "      <td>NaN</td>\n",
       "      <td>NaN</td>\n",
       "    </tr>\n",
       "  </tbody>\n",
       "</table>\n",
       "</div>"
      ],
      "text/plain": [
       "              df         sum_sq     mean_sq         F    PR(>F)\n",
       "stroke       1.0     459.232642  459.232642  7.759776  0.005362\n",
       "Residual  5108.0  302297.442823   59.181175       NaN       NaN"
      ]
     },
     "execution_count": 72,
     "metadata": {},
     "output_type": "execute_result"
    }
   ],
   "source": [
    "import statsmodels.api \n",
    "\n",
    "result = statsmodels.formula.api.ols('bmi ~ stroke', data=df).fit()\n",
    "table = statsmodels.api.stats.anova_lm(result)\n",
    "\n",
    "table\n",
    "\n",
    "#la p-value (PR(>F)) est inférieur à 5% donc on rejette l'hypothèse selon laquelle bmi n'influe pas sur stroke.\n",
    "# ce qui est pertinent avec ce que nous avons noté plus haut, plus la variable bmi est élevée plus les chances\n",
    "# de subir une attaque sont élevées"
   ]
  },
  {
   "cell_type": "code",
   "execution_count": 73,
   "id": "73e0c4ba",
   "metadata": {},
   "outputs": [
    {
     "data": {
      "text/html": [
       "<div>\n",
       "<style scoped>\n",
       "    .dataframe tbody tr th:only-of-type {\n",
       "        vertical-align: middle;\n",
       "    }\n",
       "\n",
       "    .dataframe tbody tr th {\n",
       "        vertical-align: top;\n",
       "    }\n",
       "\n",
       "    .dataframe thead th {\n",
       "        text-align: right;\n",
       "    }\n",
       "</style>\n",
       "<table border=\"1\" class=\"dataframe\">\n",
       "  <thead>\n",
       "    <tr style=\"text-align: right;\">\n",
       "      <th></th>\n",
       "      <th>df</th>\n",
       "      <th>sum_sq</th>\n",
       "      <th>mean_sq</th>\n",
       "      <th>F</th>\n",
       "      <th>PR(&gt;F)</th>\n",
       "    </tr>\n",
       "  </thead>\n",
       "  <tbody>\n",
       "    <tr>\n",
       "      <th>stroke</th>\n",
       "      <td>1.0</td>\n",
       "      <td>1.571386e+05</td>\n",
       "      <td>157138.552246</td>\n",
       "      <td>326.916568</td>\n",
       "      <td>7.030778e-71</td>\n",
       "    </tr>\n",
       "    <tr>\n",
       "      <th>Residual</th>\n",
       "      <td>5108.0</td>\n",
       "      <td>2.455256e+06</td>\n",
       "      <td>480.668671</td>\n",
       "      <td>NaN</td>\n",
       "      <td>NaN</td>\n",
       "    </tr>\n",
       "  </tbody>\n",
       "</table>\n",
       "</div>"
      ],
      "text/plain": [
       "              df        sum_sq        mean_sq           F        PR(>F)\n",
       "stroke       1.0  1.571386e+05  157138.552246  326.916568  7.030778e-71\n",
       "Residual  5108.0  2.455256e+06     480.668671         NaN           NaN"
      ]
     },
     "execution_count": 73,
     "metadata": {},
     "output_type": "execute_result"
    }
   ],
   "source": [
    "result = statsmodels.formula.api.ols('age ~ stroke', data=df).fit()\n",
    "table_2 = statsmodels.api.stats.anova_lm(result)\n",
    "\n",
    "table_2\n",
    "\n",
    "#la p-value (PR(>F)) est inférieur à 5% donc on rejette l'hypothèse selon laquelle age n'influe pas sur stroke.\n",
    "# ce qui est pertinent avec ce que nous avons noté plus haut, la majeure partie de ceux qui ont subi une attaque ont plus \n",
    "# de 40 ans, le risque de subir une attaque augmente avec l'âge "
   ]
  },
  {
   "cell_type": "code",
   "execution_count": 74,
   "id": "6cb9a0a3",
   "metadata": {},
   "outputs": [
    {
     "data": {
      "text/html": [
       "<div>\n",
       "<style scoped>\n",
       "    .dataframe tbody tr th:only-of-type {\n",
       "        vertical-align: middle;\n",
       "    }\n",
       "\n",
       "    .dataframe tbody tr th {\n",
       "        vertical-align: top;\n",
       "    }\n",
       "\n",
       "    .dataframe thead th {\n",
       "        text-align: right;\n",
       "    }\n",
       "</style>\n",
       "<table border=\"1\" class=\"dataframe\">\n",
       "  <thead>\n",
       "    <tr style=\"text-align: right;\">\n",
       "      <th></th>\n",
       "      <th>df</th>\n",
       "      <th>sum_sq</th>\n",
       "      <th>mean_sq</th>\n",
       "      <th>F</th>\n",
       "      <th>PR(&gt;F)</th>\n",
       "    </tr>\n",
       "  </thead>\n",
       "  <tbody>\n",
       "    <tr>\n",
       "      <th>stroke</th>\n",
       "      <td>1.0</td>\n",
       "      <td>1.823920e+05</td>\n",
       "      <td>182392.008675</td>\n",
       "      <td>90.50387</td>\n",
       "      <td>2.767811e-21</td>\n",
       "    </tr>\n",
       "    <tr>\n",
       "      <th>Residual</th>\n",
       "      <td>5108.0</td>\n",
       "      <td>1.029413e+07</td>\n",
       "      <td>2015.295141</td>\n",
       "      <td>NaN</td>\n",
       "      <td>NaN</td>\n",
       "    </tr>\n",
       "  </tbody>\n",
       "</table>\n",
       "</div>"
      ],
      "text/plain": [
       "              df        sum_sq        mean_sq         F        PR(>F)\n",
       "stroke       1.0  1.823920e+05  182392.008675  90.50387  2.767811e-21\n",
       "Residual  5108.0  1.029413e+07    2015.295141       NaN           NaN"
      ]
     },
     "execution_count": 74,
     "metadata": {},
     "output_type": "execute_result"
    }
   ],
   "source": [
    "result = statsmodels.formula.api.ols('avg_glucose_level ~ stroke', data=df).fit()\n",
    "table_3 = statsmodels.api.stats.anova_lm(result)\n",
    "\n",
    "table_3\n",
    "\n",
    "#la p-value (PR(>F)) est inférieur à 5% donc on rejette l'hypothèse selon laquelle avg_glucose_level n'influe pas sur stroke.\n",
    "# ce qui est pertinent avec ce que nous avons noté plus haut, le risque de subir une attaque augmente avec le niveau de \n",
    "# de glucose dans le sang"
   ]
  },
  {
   "cell_type": "markdown",
   "id": "5745b125",
   "metadata": {},
   "source": [
    "Machine Learning"
   ]
  },
  {
   "cell_type": "markdown",
   "id": "5d538af1",
   "metadata": {},
   "source": [
    "Nous sommes face à un problème d'apprentissage supervisé car il existe une variable cible, la variable 'stroke'.\n",
    "La variable 'stroke' est qualitative, il s'agit donc d'un problème de classification.\n",
    "Pour permettre le fonctionnement des algorithmes de prédiction, nous proposons d'encoder grâce à la méthode 'One Hot Encoding' les variables qualitatives 'work_type', 'smoking_status' et 'gender' qui n'ont pas pu être binarisées(car elles présentent un nombre de modalité supérieur à 2)"
   ]
  },
  {
   "cell_type": "code",
   "execution_count": 75,
   "id": "6431d13d",
   "metadata": {},
   "outputs": [
    {
     "data": {
      "text/html": [
       "<div>\n",
       "<style scoped>\n",
       "    .dataframe tbody tr th:only-of-type {\n",
       "        vertical-align: middle;\n",
       "    }\n",
       "\n",
       "    .dataframe tbody tr th {\n",
       "        vertical-align: top;\n",
       "    }\n",
       "\n",
       "    .dataframe thead th {\n",
       "        text-align: right;\n",
       "    }\n",
       "</style>\n",
       "<table border=\"1\" class=\"dataframe\">\n",
       "  <thead>\n",
       "    <tr style=\"text-align: right;\">\n",
       "      <th></th>\n",
       "      <th>id</th>\n",
       "      <th>gender</th>\n",
       "      <th>age</th>\n",
       "      <th>hypertension</th>\n",
       "      <th>heart_disease</th>\n",
       "      <th>ever_married</th>\n",
       "      <th>work_type</th>\n",
       "      <th>Residence_type</th>\n",
       "      <th>avg_glucose_level</th>\n",
       "      <th>bmi</th>\n",
       "      <th>smoking_status</th>\n",
       "      <th>stroke</th>\n",
       "    </tr>\n",
       "  </thead>\n",
       "  <tbody>\n",
       "    <tr>\n",
       "      <th>0</th>\n",
       "      <td>9046</td>\n",
       "      <td>Male</td>\n",
       "      <td>67.0</td>\n",
       "      <td>0</td>\n",
       "      <td>1</td>\n",
       "      <td>1</td>\n",
       "      <td>Private</td>\n",
       "      <td>1</td>\n",
       "      <td>228.69</td>\n",
       "      <td>36.600000</td>\n",
       "      <td>formerly smoked</td>\n",
       "      <td>1</td>\n",
       "    </tr>\n",
       "    <tr>\n",
       "      <th>1</th>\n",
       "      <td>51676</td>\n",
       "      <td>Female</td>\n",
       "      <td>61.0</td>\n",
       "      <td>0</td>\n",
       "      <td>0</td>\n",
       "      <td>1</td>\n",
       "      <td>Self-employed</td>\n",
       "      <td>0</td>\n",
       "      <td>202.21</td>\n",
       "      <td>28.893237</td>\n",
       "      <td>never smoked</td>\n",
       "      <td>1</td>\n",
       "    </tr>\n",
       "    <tr>\n",
       "      <th>2</th>\n",
       "      <td>31112</td>\n",
       "      <td>Male</td>\n",
       "      <td>80.0</td>\n",
       "      <td>0</td>\n",
       "      <td>1</td>\n",
       "      <td>1</td>\n",
       "      <td>Private</td>\n",
       "      <td>0</td>\n",
       "      <td>105.92</td>\n",
       "      <td>32.500000</td>\n",
       "      <td>never smoked</td>\n",
       "      <td>1</td>\n",
       "    </tr>\n",
       "    <tr>\n",
       "      <th>3</th>\n",
       "      <td>60182</td>\n",
       "      <td>Female</td>\n",
       "      <td>49.0</td>\n",
       "      <td>0</td>\n",
       "      <td>0</td>\n",
       "      <td>1</td>\n",
       "      <td>Private</td>\n",
       "      <td>1</td>\n",
       "      <td>171.23</td>\n",
       "      <td>34.400000</td>\n",
       "      <td>smokes</td>\n",
       "      <td>1</td>\n",
       "    </tr>\n",
       "    <tr>\n",
       "      <th>4</th>\n",
       "      <td>1665</td>\n",
       "      <td>Female</td>\n",
       "      <td>79.0</td>\n",
       "      <td>1</td>\n",
       "      <td>0</td>\n",
       "      <td>1</td>\n",
       "      <td>Self-employed</td>\n",
       "      <td>0</td>\n",
       "      <td>174.12</td>\n",
       "      <td>24.000000</td>\n",
       "      <td>never smoked</td>\n",
       "      <td>1</td>\n",
       "    </tr>\n",
       "  </tbody>\n",
       "</table>\n",
       "</div>"
      ],
      "text/plain": [
       "      id  gender   age  hypertension  heart_disease  ever_married  \\\n",
       "0   9046    Male  67.0             0              1             1   \n",
       "1  51676  Female  61.0             0              0             1   \n",
       "2  31112    Male  80.0             0              1             1   \n",
       "3  60182  Female  49.0             0              0             1   \n",
       "4   1665  Female  79.0             1              0             1   \n",
       "\n",
       "       work_type  Residence_type  avg_glucose_level        bmi  \\\n",
       "0        Private               1             228.69  36.600000   \n",
       "1  Self-employed               0             202.21  28.893237   \n",
       "2        Private               0             105.92  32.500000   \n",
       "3        Private               1             171.23  34.400000   \n",
       "4  Self-employed               0             174.12  24.000000   \n",
       "\n",
       "    smoking_status  stroke  \n",
       "0  formerly smoked       1  \n",
       "1     never smoked       1  \n",
       "2     never smoked       1  \n",
       "3           smokes       1  \n",
       "4     never smoked       1  "
      ]
     },
     "execution_count": 75,
     "metadata": {},
     "output_type": "execute_result"
    }
   ],
   "source": [
    "df1 = pd.get_dummies(df, columns = ['work_type', 'smoking_status', 'gender'])\n",
    "df.head()"
   ]
  },
  {
   "cell_type": "markdown",
   "id": "7b9eabc6",
   "metadata": {},
   "source": [
    "Nous procédons à la suppression de la variable 'id' qui représente l'identifiant des patients, elle n'aura donc aucune utilité dans notre modèle"
   ]
  },
  {
   "cell_type": "code",
   "execution_count": 76,
   "id": "b43f80b1",
   "metadata": {},
   "outputs": [
    {
     "data": {
      "text/html": [
       "<div>\n",
       "<style scoped>\n",
       "    .dataframe tbody tr th:only-of-type {\n",
       "        vertical-align: middle;\n",
       "    }\n",
       "\n",
       "    .dataframe tbody tr th {\n",
       "        vertical-align: top;\n",
       "    }\n",
       "\n",
       "    .dataframe thead th {\n",
       "        text-align: right;\n",
       "    }\n",
       "</style>\n",
       "<table border=\"1\" class=\"dataframe\">\n",
       "  <thead>\n",
       "    <tr style=\"text-align: right;\">\n",
       "      <th></th>\n",
       "      <th>age</th>\n",
       "      <th>hypertension</th>\n",
       "      <th>heart_disease</th>\n",
       "      <th>ever_married</th>\n",
       "      <th>Residence_type</th>\n",
       "      <th>avg_glucose_level</th>\n",
       "      <th>bmi</th>\n",
       "      <th>stroke</th>\n",
       "      <th>work_type_Govt_job</th>\n",
       "      <th>work_type_Never_worked</th>\n",
       "      <th>work_type_Private</th>\n",
       "      <th>work_type_Self_employed</th>\n",
       "      <th>work_type_children</th>\n",
       "      <th>smoking_status_Unknown</th>\n",
       "      <th>smoking_status_formerly_smoked</th>\n",
       "      <th>smoking_status_never_smoked</th>\n",
       "      <th>smoking_status_smokes</th>\n",
       "      <th>gender_Female</th>\n",
       "      <th>gender_Male</th>\n",
       "      <th>gender_Other</th>\n",
       "    </tr>\n",
       "  </thead>\n",
       "  <tbody>\n",
       "    <tr>\n",
       "      <th>0</th>\n",
       "      <td>67.0</td>\n",
       "      <td>0</td>\n",
       "      <td>1</td>\n",
       "      <td>1</td>\n",
       "      <td>1</td>\n",
       "      <td>228.69</td>\n",
       "      <td>36.600000</td>\n",
       "      <td>1</td>\n",
       "      <td>0</td>\n",
       "      <td>0</td>\n",
       "      <td>1</td>\n",
       "      <td>0</td>\n",
       "      <td>0</td>\n",
       "      <td>0</td>\n",
       "      <td>1</td>\n",
       "      <td>0</td>\n",
       "      <td>0</td>\n",
       "      <td>0</td>\n",
       "      <td>1</td>\n",
       "      <td>0</td>\n",
       "    </tr>\n",
       "    <tr>\n",
       "      <th>1</th>\n",
       "      <td>61.0</td>\n",
       "      <td>0</td>\n",
       "      <td>0</td>\n",
       "      <td>1</td>\n",
       "      <td>0</td>\n",
       "      <td>202.21</td>\n",
       "      <td>28.893237</td>\n",
       "      <td>1</td>\n",
       "      <td>0</td>\n",
       "      <td>0</td>\n",
       "      <td>0</td>\n",
       "      <td>1</td>\n",
       "      <td>0</td>\n",
       "      <td>0</td>\n",
       "      <td>0</td>\n",
       "      <td>1</td>\n",
       "      <td>0</td>\n",
       "      <td>1</td>\n",
       "      <td>0</td>\n",
       "      <td>0</td>\n",
       "    </tr>\n",
       "    <tr>\n",
       "      <th>2</th>\n",
       "      <td>80.0</td>\n",
       "      <td>0</td>\n",
       "      <td>1</td>\n",
       "      <td>1</td>\n",
       "      <td>0</td>\n",
       "      <td>105.92</td>\n",
       "      <td>32.500000</td>\n",
       "      <td>1</td>\n",
       "      <td>0</td>\n",
       "      <td>0</td>\n",
       "      <td>1</td>\n",
       "      <td>0</td>\n",
       "      <td>0</td>\n",
       "      <td>0</td>\n",
       "      <td>0</td>\n",
       "      <td>1</td>\n",
       "      <td>0</td>\n",
       "      <td>0</td>\n",
       "      <td>1</td>\n",
       "      <td>0</td>\n",
       "    </tr>\n",
       "    <tr>\n",
       "      <th>3</th>\n",
       "      <td>49.0</td>\n",
       "      <td>0</td>\n",
       "      <td>0</td>\n",
       "      <td>1</td>\n",
       "      <td>1</td>\n",
       "      <td>171.23</td>\n",
       "      <td>34.400000</td>\n",
       "      <td>1</td>\n",
       "      <td>0</td>\n",
       "      <td>0</td>\n",
       "      <td>1</td>\n",
       "      <td>0</td>\n",
       "      <td>0</td>\n",
       "      <td>0</td>\n",
       "      <td>0</td>\n",
       "      <td>0</td>\n",
       "      <td>1</td>\n",
       "      <td>1</td>\n",
       "      <td>0</td>\n",
       "      <td>0</td>\n",
       "    </tr>\n",
       "    <tr>\n",
       "      <th>4</th>\n",
       "      <td>79.0</td>\n",
       "      <td>1</td>\n",
       "      <td>0</td>\n",
       "      <td>1</td>\n",
       "      <td>0</td>\n",
       "      <td>174.12</td>\n",
       "      <td>24.000000</td>\n",
       "      <td>1</td>\n",
       "      <td>0</td>\n",
       "      <td>0</td>\n",
       "      <td>0</td>\n",
       "      <td>1</td>\n",
       "      <td>0</td>\n",
       "      <td>0</td>\n",
       "      <td>0</td>\n",
       "      <td>1</td>\n",
       "      <td>0</td>\n",
       "      <td>1</td>\n",
       "      <td>0</td>\n",
       "      <td>0</td>\n",
       "    </tr>\n",
       "    <tr>\n",
       "      <th>...</th>\n",
       "      <td>...</td>\n",
       "      <td>...</td>\n",
       "      <td>...</td>\n",
       "      <td>...</td>\n",
       "      <td>...</td>\n",
       "      <td>...</td>\n",
       "      <td>...</td>\n",
       "      <td>...</td>\n",
       "      <td>...</td>\n",
       "      <td>...</td>\n",
       "      <td>...</td>\n",
       "      <td>...</td>\n",
       "      <td>...</td>\n",
       "      <td>...</td>\n",
       "      <td>...</td>\n",
       "      <td>...</td>\n",
       "      <td>...</td>\n",
       "      <td>...</td>\n",
       "      <td>...</td>\n",
       "      <td>...</td>\n",
       "    </tr>\n",
       "    <tr>\n",
       "      <th>5105</th>\n",
       "      <td>80.0</td>\n",
       "      <td>1</td>\n",
       "      <td>0</td>\n",
       "      <td>1</td>\n",
       "      <td>1</td>\n",
       "      <td>83.75</td>\n",
       "      <td>28.893237</td>\n",
       "      <td>0</td>\n",
       "      <td>0</td>\n",
       "      <td>0</td>\n",
       "      <td>1</td>\n",
       "      <td>0</td>\n",
       "      <td>0</td>\n",
       "      <td>0</td>\n",
       "      <td>0</td>\n",
       "      <td>1</td>\n",
       "      <td>0</td>\n",
       "      <td>1</td>\n",
       "      <td>0</td>\n",
       "      <td>0</td>\n",
       "    </tr>\n",
       "    <tr>\n",
       "      <th>5106</th>\n",
       "      <td>81.0</td>\n",
       "      <td>0</td>\n",
       "      <td>0</td>\n",
       "      <td>1</td>\n",
       "      <td>1</td>\n",
       "      <td>125.20</td>\n",
       "      <td>40.000000</td>\n",
       "      <td>0</td>\n",
       "      <td>0</td>\n",
       "      <td>0</td>\n",
       "      <td>0</td>\n",
       "      <td>1</td>\n",
       "      <td>0</td>\n",
       "      <td>0</td>\n",
       "      <td>0</td>\n",
       "      <td>1</td>\n",
       "      <td>0</td>\n",
       "      <td>1</td>\n",
       "      <td>0</td>\n",
       "      <td>0</td>\n",
       "    </tr>\n",
       "    <tr>\n",
       "      <th>5107</th>\n",
       "      <td>35.0</td>\n",
       "      <td>0</td>\n",
       "      <td>0</td>\n",
       "      <td>1</td>\n",
       "      <td>0</td>\n",
       "      <td>82.99</td>\n",
       "      <td>30.600000</td>\n",
       "      <td>0</td>\n",
       "      <td>0</td>\n",
       "      <td>0</td>\n",
       "      <td>0</td>\n",
       "      <td>1</td>\n",
       "      <td>0</td>\n",
       "      <td>0</td>\n",
       "      <td>0</td>\n",
       "      <td>1</td>\n",
       "      <td>0</td>\n",
       "      <td>1</td>\n",
       "      <td>0</td>\n",
       "      <td>0</td>\n",
       "    </tr>\n",
       "    <tr>\n",
       "      <th>5108</th>\n",
       "      <td>51.0</td>\n",
       "      <td>0</td>\n",
       "      <td>0</td>\n",
       "      <td>1</td>\n",
       "      <td>0</td>\n",
       "      <td>166.29</td>\n",
       "      <td>25.600000</td>\n",
       "      <td>0</td>\n",
       "      <td>0</td>\n",
       "      <td>0</td>\n",
       "      <td>1</td>\n",
       "      <td>0</td>\n",
       "      <td>0</td>\n",
       "      <td>0</td>\n",
       "      <td>1</td>\n",
       "      <td>0</td>\n",
       "      <td>0</td>\n",
       "      <td>0</td>\n",
       "      <td>1</td>\n",
       "      <td>0</td>\n",
       "    </tr>\n",
       "    <tr>\n",
       "      <th>5109</th>\n",
       "      <td>44.0</td>\n",
       "      <td>0</td>\n",
       "      <td>0</td>\n",
       "      <td>1</td>\n",
       "      <td>1</td>\n",
       "      <td>85.28</td>\n",
       "      <td>26.200000</td>\n",
       "      <td>0</td>\n",
       "      <td>1</td>\n",
       "      <td>0</td>\n",
       "      <td>0</td>\n",
       "      <td>0</td>\n",
       "      <td>0</td>\n",
       "      <td>1</td>\n",
       "      <td>0</td>\n",
       "      <td>0</td>\n",
       "      <td>0</td>\n",
       "      <td>1</td>\n",
       "      <td>0</td>\n",
       "      <td>0</td>\n",
       "    </tr>\n",
       "  </tbody>\n",
       "</table>\n",
       "<p>5110 rows × 20 columns</p>\n",
       "</div>"
      ],
      "text/plain": [
       "       age  hypertension  heart_disease  ever_married  Residence_type  \\\n",
       "0     67.0             0              1             1               1   \n",
       "1     61.0             0              0             1               0   \n",
       "2     80.0             0              1             1               0   \n",
       "3     49.0             0              0             1               1   \n",
       "4     79.0             1              0             1               0   \n",
       "...    ...           ...            ...           ...             ...   \n",
       "5105  80.0             1              0             1               1   \n",
       "5106  81.0             0              0             1               1   \n",
       "5107  35.0             0              0             1               0   \n",
       "5108  51.0             0              0             1               0   \n",
       "5109  44.0             0              0             1               1   \n",
       "\n",
       "      avg_glucose_level        bmi  stroke  work_type_Govt_job  \\\n",
       "0                228.69  36.600000       1                   0   \n",
       "1                202.21  28.893237       1                   0   \n",
       "2                105.92  32.500000       1                   0   \n",
       "3                171.23  34.400000       1                   0   \n",
       "4                174.12  24.000000       1                   0   \n",
       "...                 ...        ...     ...                 ...   \n",
       "5105              83.75  28.893237       0                   0   \n",
       "5106             125.20  40.000000       0                   0   \n",
       "5107              82.99  30.600000       0                   0   \n",
       "5108             166.29  25.600000       0                   0   \n",
       "5109              85.28  26.200000       0                   1   \n",
       "\n",
       "      work_type_Never_worked  work_type_Private  work_type_Self_employed  \\\n",
       "0                          0                  1                        0   \n",
       "1                          0                  0                        1   \n",
       "2                          0                  1                        0   \n",
       "3                          0                  1                        0   \n",
       "4                          0                  0                        1   \n",
       "...                      ...                ...                      ...   \n",
       "5105                       0                  1                        0   \n",
       "5106                       0                  0                        1   \n",
       "5107                       0                  0                        1   \n",
       "5108                       0                  1                        0   \n",
       "5109                       0                  0                        0   \n",
       "\n",
       "      work_type_children  smoking_status_Unknown  \\\n",
       "0                      0                       0   \n",
       "1                      0                       0   \n",
       "2                      0                       0   \n",
       "3                      0                       0   \n",
       "4                      0                       0   \n",
       "...                  ...                     ...   \n",
       "5105                   0                       0   \n",
       "5106                   0                       0   \n",
       "5107                   0                       0   \n",
       "5108                   0                       0   \n",
       "5109                   0                       1   \n",
       "\n",
       "      smoking_status_formerly_smoked  smoking_status_never_smoked  \\\n",
       "0                                  1                            0   \n",
       "1                                  0                            1   \n",
       "2                                  0                            1   \n",
       "3                                  0                            0   \n",
       "4                                  0                            1   \n",
       "...                              ...                          ...   \n",
       "5105                               0                            1   \n",
       "5106                               0                            1   \n",
       "5107                               0                            1   \n",
       "5108                               1                            0   \n",
       "5109                               0                            0   \n",
       "\n",
       "      smoking_status_smokes  gender_Female  gender_Male  gender_Other  \n",
       "0                         0              0            1             0  \n",
       "1                         0              1            0             0  \n",
       "2                         0              0            1             0  \n",
       "3                         1              1            0             0  \n",
       "4                         0              1            0             0  \n",
       "...                     ...            ...          ...           ...  \n",
       "5105                      0              1            0             0  \n",
       "5106                      0              1            0             0  \n",
       "5107                      0              1            0             0  \n",
       "5108                      0              0            1             0  \n",
       "5109                      0              1            0             0  \n",
       "\n",
       "[5110 rows x 20 columns]"
      ]
     },
     "execution_count": 76,
     "metadata": {},
     "output_type": "execute_result"
    }
   ],
   "source": [
    "df1 = df1.drop(['id'], axis = 1)\n",
    "df1.rename(columns={'work_type_Self-employed': 'work_type_Self_employed', \n",
    "                    'smoking_status_formerly smoked': 'smoking_status_formerly_smoked',\n",
    "                    'smoking_status_never smoked' : 'smoking_status_never_smoked'}, inplace=True)\n",
    "df1"
   ]
  },
  {
   "cell_type": "code",
   "execution_count": 77,
   "id": "31e1637a",
   "metadata": {},
   "outputs": [
    {
     "data": {
      "text/html": [
       "<div>\n",
       "<style scoped>\n",
       "    .dataframe tbody tr th:only-of-type {\n",
       "        vertical-align: middle;\n",
       "    }\n",
       "\n",
       "    .dataframe tbody tr th {\n",
       "        vertical-align: top;\n",
       "    }\n",
       "\n",
       "    .dataframe thead th {\n",
       "        text-align: right;\n",
       "    }\n",
       "</style>\n",
       "<table border=\"1\" class=\"dataframe\">\n",
       "  <thead>\n",
       "    <tr style=\"text-align: right;\">\n",
       "      <th></th>\n",
       "      <th>age</th>\n",
       "      <th>hypertension</th>\n",
       "      <th>heart_disease</th>\n",
       "      <th>ever_married</th>\n",
       "      <th>Residence_type</th>\n",
       "      <th>avg_glucose_level</th>\n",
       "      <th>bmi</th>\n",
       "      <th>stroke</th>\n",
       "      <th>work_type_Govt_job</th>\n",
       "      <th>work_type_Never_worked</th>\n",
       "      <th>work_type_Private</th>\n",
       "      <th>work_type_Self_employed</th>\n",
       "      <th>work_type_children</th>\n",
       "      <th>smoking_status_Unknown</th>\n",
       "      <th>smoking_status_formerly_smoked</th>\n",
       "      <th>smoking_status_never_smoked</th>\n",
       "      <th>smoking_status_smokes</th>\n",
       "      <th>gender_Female</th>\n",
       "      <th>gender_Male</th>\n",
       "      <th>gender_Other</th>\n",
       "    </tr>\n",
       "  </thead>\n",
       "  <tbody>\n",
       "    <tr>\n",
       "      <th>0</th>\n",
       "      <td>67.0</td>\n",
       "      <td>0</td>\n",
       "      <td>1</td>\n",
       "      <td>1</td>\n",
       "      <td>1</td>\n",
       "      <td>228.69</td>\n",
       "      <td>36.600000</td>\n",
       "      <td>1</td>\n",
       "      <td>0</td>\n",
       "      <td>0</td>\n",
       "      <td>1</td>\n",
       "      <td>0</td>\n",
       "      <td>0</td>\n",
       "      <td>0</td>\n",
       "      <td>1</td>\n",
       "      <td>0</td>\n",
       "      <td>0</td>\n",
       "      <td>0</td>\n",
       "      <td>1</td>\n",
       "      <td>0</td>\n",
       "    </tr>\n",
       "    <tr>\n",
       "      <th>1</th>\n",
       "      <td>61.0</td>\n",
       "      <td>0</td>\n",
       "      <td>0</td>\n",
       "      <td>1</td>\n",
       "      <td>0</td>\n",
       "      <td>202.21</td>\n",
       "      <td>28.893237</td>\n",
       "      <td>1</td>\n",
       "      <td>0</td>\n",
       "      <td>0</td>\n",
       "      <td>0</td>\n",
       "      <td>1</td>\n",
       "      <td>0</td>\n",
       "      <td>0</td>\n",
       "      <td>0</td>\n",
       "      <td>1</td>\n",
       "      <td>0</td>\n",
       "      <td>1</td>\n",
       "      <td>0</td>\n",
       "      <td>0</td>\n",
       "    </tr>\n",
       "    <tr>\n",
       "      <th>2</th>\n",
       "      <td>80.0</td>\n",
       "      <td>0</td>\n",
       "      <td>1</td>\n",
       "      <td>1</td>\n",
       "      <td>0</td>\n",
       "      <td>105.92</td>\n",
       "      <td>32.500000</td>\n",
       "      <td>1</td>\n",
       "      <td>0</td>\n",
       "      <td>0</td>\n",
       "      <td>1</td>\n",
       "      <td>0</td>\n",
       "      <td>0</td>\n",
       "      <td>0</td>\n",
       "      <td>0</td>\n",
       "      <td>1</td>\n",
       "      <td>0</td>\n",
       "      <td>0</td>\n",
       "      <td>1</td>\n",
       "      <td>0</td>\n",
       "    </tr>\n",
       "    <tr>\n",
       "      <th>3</th>\n",
       "      <td>49.0</td>\n",
       "      <td>0</td>\n",
       "      <td>0</td>\n",
       "      <td>1</td>\n",
       "      <td>1</td>\n",
       "      <td>171.23</td>\n",
       "      <td>34.400000</td>\n",
       "      <td>1</td>\n",
       "      <td>0</td>\n",
       "      <td>0</td>\n",
       "      <td>1</td>\n",
       "      <td>0</td>\n",
       "      <td>0</td>\n",
       "      <td>0</td>\n",
       "      <td>0</td>\n",
       "      <td>0</td>\n",
       "      <td>1</td>\n",
       "      <td>1</td>\n",
       "      <td>0</td>\n",
       "      <td>0</td>\n",
       "    </tr>\n",
       "    <tr>\n",
       "      <th>4</th>\n",
       "      <td>79.0</td>\n",
       "      <td>1</td>\n",
       "      <td>0</td>\n",
       "      <td>1</td>\n",
       "      <td>0</td>\n",
       "      <td>174.12</td>\n",
       "      <td>24.000000</td>\n",
       "      <td>1</td>\n",
       "      <td>0</td>\n",
       "      <td>0</td>\n",
       "      <td>0</td>\n",
       "      <td>1</td>\n",
       "      <td>0</td>\n",
       "      <td>0</td>\n",
       "      <td>0</td>\n",
       "      <td>1</td>\n",
       "      <td>0</td>\n",
       "      <td>1</td>\n",
       "      <td>0</td>\n",
       "      <td>0</td>\n",
       "    </tr>\n",
       "    <tr>\n",
       "      <th>...</th>\n",
       "      <td>...</td>\n",
       "      <td>...</td>\n",
       "      <td>...</td>\n",
       "      <td>...</td>\n",
       "      <td>...</td>\n",
       "      <td>...</td>\n",
       "      <td>...</td>\n",
       "      <td>...</td>\n",
       "      <td>...</td>\n",
       "      <td>...</td>\n",
       "      <td>...</td>\n",
       "      <td>...</td>\n",
       "      <td>...</td>\n",
       "      <td>...</td>\n",
       "      <td>...</td>\n",
       "      <td>...</td>\n",
       "      <td>...</td>\n",
       "      <td>...</td>\n",
       "      <td>...</td>\n",
       "      <td>...</td>\n",
       "    </tr>\n",
       "    <tr>\n",
       "      <th>5105</th>\n",
       "      <td>80.0</td>\n",
       "      <td>1</td>\n",
       "      <td>0</td>\n",
       "      <td>1</td>\n",
       "      <td>1</td>\n",
       "      <td>83.75</td>\n",
       "      <td>28.893237</td>\n",
       "      <td>0</td>\n",
       "      <td>0</td>\n",
       "      <td>0</td>\n",
       "      <td>1</td>\n",
       "      <td>0</td>\n",
       "      <td>0</td>\n",
       "      <td>0</td>\n",
       "      <td>0</td>\n",
       "      <td>1</td>\n",
       "      <td>0</td>\n",
       "      <td>1</td>\n",
       "      <td>0</td>\n",
       "      <td>0</td>\n",
       "    </tr>\n",
       "    <tr>\n",
       "      <th>5106</th>\n",
       "      <td>81.0</td>\n",
       "      <td>0</td>\n",
       "      <td>0</td>\n",
       "      <td>1</td>\n",
       "      <td>1</td>\n",
       "      <td>125.20</td>\n",
       "      <td>40.000000</td>\n",
       "      <td>0</td>\n",
       "      <td>0</td>\n",
       "      <td>0</td>\n",
       "      <td>0</td>\n",
       "      <td>1</td>\n",
       "      <td>0</td>\n",
       "      <td>0</td>\n",
       "      <td>0</td>\n",
       "      <td>1</td>\n",
       "      <td>0</td>\n",
       "      <td>1</td>\n",
       "      <td>0</td>\n",
       "      <td>0</td>\n",
       "    </tr>\n",
       "    <tr>\n",
       "      <th>5107</th>\n",
       "      <td>35.0</td>\n",
       "      <td>0</td>\n",
       "      <td>0</td>\n",
       "      <td>1</td>\n",
       "      <td>0</td>\n",
       "      <td>82.99</td>\n",
       "      <td>30.600000</td>\n",
       "      <td>0</td>\n",
       "      <td>0</td>\n",
       "      <td>0</td>\n",
       "      <td>0</td>\n",
       "      <td>1</td>\n",
       "      <td>0</td>\n",
       "      <td>0</td>\n",
       "      <td>0</td>\n",
       "      <td>1</td>\n",
       "      <td>0</td>\n",
       "      <td>1</td>\n",
       "      <td>0</td>\n",
       "      <td>0</td>\n",
       "    </tr>\n",
       "    <tr>\n",
       "      <th>5108</th>\n",
       "      <td>51.0</td>\n",
       "      <td>0</td>\n",
       "      <td>0</td>\n",
       "      <td>1</td>\n",
       "      <td>0</td>\n",
       "      <td>166.29</td>\n",
       "      <td>25.600000</td>\n",
       "      <td>0</td>\n",
       "      <td>0</td>\n",
       "      <td>0</td>\n",
       "      <td>1</td>\n",
       "      <td>0</td>\n",
       "      <td>0</td>\n",
       "      <td>0</td>\n",
       "      <td>1</td>\n",
       "      <td>0</td>\n",
       "      <td>0</td>\n",
       "      <td>0</td>\n",
       "      <td>1</td>\n",
       "      <td>0</td>\n",
       "    </tr>\n",
       "    <tr>\n",
       "      <th>5109</th>\n",
       "      <td>44.0</td>\n",
       "      <td>0</td>\n",
       "      <td>0</td>\n",
       "      <td>1</td>\n",
       "      <td>1</td>\n",
       "      <td>85.28</td>\n",
       "      <td>26.200000</td>\n",
       "      <td>0</td>\n",
       "      <td>1</td>\n",
       "      <td>0</td>\n",
       "      <td>0</td>\n",
       "      <td>0</td>\n",
       "      <td>0</td>\n",
       "      <td>1</td>\n",
       "      <td>0</td>\n",
       "      <td>0</td>\n",
       "      <td>0</td>\n",
       "      <td>1</td>\n",
       "      <td>0</td>\n",
       "      <td>0</td>\n",
       "    </tr>\n",
       "  </tbody>\n",
       "</table>\n",
       "<p>5110 rows × 20 columns</p>\n",
       "</div>"
      ],
      "text/plain": [
       "       age  hypertension  heart_disease  ever_married  Residence_type  \\\n",
       "0     67.0             0              1             1               1   \n",
       "1     61.0             0              0             1               0   \n",
       "2     80.0             0              1             1               0   \n",
       "3     49.0             0              0             1               1   \n",
       "4     79.0             1              0             1               0   \n",
       "...    ...           ...            ...           ...             ...   \n",
       "5105  80.0             1              0             1               1   \n",
       "5106  81.0             0              0             1               1   \n",
       "5107  35.0             0              0             1               0   \n",
       "5108  51.0             0              0             1               0   \n",
       "5109  44.0             0              0             1               1   \n",
       "\n",
       "      avg_glucose_level        bmi  stroke  work_type_Govt_job  \\\n",
       "0                228.69  36.600000       1                   0   \n",
       "1                202.21  28.893237       1                   0   \n",
       "2                105.92  32.500000       1                   0   \n",
       "3                171.23  34.400000       1                   0   \n",
       "4                174.12  24.000000       1                   0   \n",
       "...                 ...        ...     ...                 ...   \n",
       "5105              83.75  28.893237       0                   0   \n",
       "5106             125.20  40.000000       0                   0   \n",
       "5107              82.99  30.600000       0                   0   \n",
       "5108             166.29  25.600000       0                   0   \n",
       "5109              85.28  26.200000       0                   1   \n",
       "\n",
       "      work_type_Never_worked  work_type_Private  work_type_Self_employed  \\\n",
       "0                          0                  1                        0   \n",
       "1                          0                  0                        1   \n",
       "2                          0                  1                        0   \n",
       "3                          0                  1                        0   \n",
       "4                          0                  0                        1   \n",
       "...                      ...                ...                      ...   \n",
       "5105                       0                  1                        0   \n",
       "5106                       0                  0                        1   \n",
       "5107                       0                  0                        1   \n",
       "5108                       0                  1                        0   \n",
       "5109                       0                  0                        0   \n",
       "\n",
       "      work_type_children  smoking_status_Unknown  \\\n",
       "0                      0                       0   \n",
       "1                      0                       0   \n",
       "2                      0                       0   \n",
       "3                      0                       0   \n",
       "4                      0                       0   \n",
       "...                  ...                     ...   \n",
       "5105                   0                       0   \n",
       "5106                   0                       0   \n",
       "5107                   0                       0   \n",
       "5108                   0                       0   \n",
       "5109                   0                       1   \n",
       "\n",
       "      smoking_status_formerly_smoked  smoking_status_never_smoked  \\\n",
       "0                                  1                            0   \n",
       "1                                  0                            1   \n",
       "2                                  0                            1   \n",
       "3                                  0                            0   \n",
       "4                                  0                            1   \n",
       "...                              ...                          ...   \n",
       "5105                               0                            1   \n",
       "5106                               0                            1   \n",
       "5107                               0                            1   \n",
       "5108                               1                            0   \n",
       "5109                               0                            0   \n",
       "\n",
       "      smoking_status_smokes  gender_Female  gender_Male  gender_Other  \n",
       "0                         0              0            1             0  \n",
       "1                         0              1            0             0  \n",
       "2                         0              0            1             0  \n",
       "3                         1              1            0             0  \n",
       "4                         0              1            0             0  \n",
       "...                     ...            ...          ...           ...  \n",
       "5105                      0              1            0             0  \n",
       "5106                      0              1            0             0  \n",
       "5107                      0              1            0             0  \n",
       "5108                      0              0            1             0  \n",
       "5109                      0              1            0             0  \n",
       "\n",
       "[5110 rows x 20 columns]"
      ]
     },
     "execution_count": 77,
     "metadata": {},
     "output_type": "execute_result"
    }
   ],
   "source": [
    "df1"
   ]
  },
  {
   "cell_type": "markdown",
   "id": "110d3630",
   "metadata": {},
   "source": [
    "Nous procédons à la désignation des variables explicatives et de la variable cible."
   ]
  },
  {
   "cell_type": "code",
   "execution_count": 78,
   "id": "fd3087b0",
   "metadata": {},
   "outputs": [],
   "source": [
    "# les variables explicatives\n",
    "X = df1.drop(['stroke'], axis = 1)\n",
    "# la variable cible\n",
    "y = df1['stroke']"
   ]
  },
  {
   "cell_type": "code",
   "execution_count": 79,
   "id": "ea084f5e",
   "metadata": {},
   "outputs": [],
   "source": [
    "#import de la fonction train_test_split\n",
    "from sklearn.model_selection import train_test_split\n",
    "\n",
    "#séparation des jeux de test et d'entrainement\n",
    "X_train, X_test, y_train, y_test = train_test_split(X,y,test_size=0.2, random_state = 42, stratify =y)\n"
   ]
  },
  {
   "cell_type": "code",
   "execution_count": 80,
   "id": "aa1fc72c",
   "metadata": {},
   "outputs": [],
   "source": [
    "#Normalisation des données d'entraînement et de test.\n",
    "from sklearn.preprocessing import MinMaxScaler, StandardScaler\n",
    "\n",
    "scaler = MinMaxScaler()\n",
    "X_train_norm = scaler.fit_transform(X_train)\n",
    "X_test_norm = scaler.transform(X_test)"
   ]
  },
  {
   "cell_type": "code",
   "execution_count": 81,
   "id": "e30e37b4",
   "metadata": {},
   "outputs": [],
   "source": [
    "from sklearn.linear_model import LogisticRegression\n",
    "from sklearn.neighbors import KNeighborsClassifier\n",
    "from sklearn.svm import SVC\n",
    "from sklearn.tree import DecisionTreeClassifier\n",
    "from sklearn.ensemble import RandomForestClassifier\n",
    "from sklearn.ensemble import BaggingClassifier\n",
    "from sklearn.ensemble import GradientBoostingClassifier\n",
    "\n"
   ]
  },
  {
   "cell_type": "code",
   "execution_count": 82,
   "id": "e655792b",
   "metadata": {},
   "outputs": [
    {
     "data": {
      "text/html": [
       "<div>\n",
       "<style scoped>\n",
       "    .dataframe tbody tr th:only-of-type {\n",
       "        vertical-align: middle;\n",
       "    }\n",
       "\n",
       "    .dataframe tbody tr th {\n",
       "        vertical-align: top;\n",
       "    }\n",
       "\n",
       "    .dataframe thead th {\n",
       "        text-align: right;\n",
       "    }\n",
       "</style>\n",
       "<table border=\"1\" class=\"dataframe\">\n",
       "  <thead>\n",
       "    <tr style=\"text-align: right;\">\n",
       "      <th></th>\n",
       "      <th>Variables</th>\n",
       "      <th>Coefficients</th>\n",
       "      <th>Odd_ratios</th>\n",
       "    </tr>\n",
       "  </thead>\n",
       "  <tbody>\n",
       "    <tr>\n",
       "      <th>0</th>\n",
       "      <td>age</td>\n",
       "      <td>4.867396</td>\n",
       "      <td>129.982035</td>\n",
       "    </tr>\n",
       "    <tr>\n",
       "      <th>3</th>\n",
       "      <td>ever_married</td>\n",
       "      <td>-0.145457</td>\n",
       "      <td>0.864627</td>\n",
       "    </tr>\n",
       "  </tbody>\n",
       "</table>\n",
       "</div>"
      ],
      "text/plain": [
       "      Variables  Coefficients  Odd_ratios\n",
       "0           age      4.867396  129.982035\n",
       "3  ever_married     -0.145457    0.864627"
      ]
     },
     "execution_count": 82,
     "metadata": {},
     "output_type": "execute_result"
    }
   ],
   "source": [
    "### Regression logistique \n",
    "\n",
    "LogReg = LogisticRegression(solver='newton-cg')\n",
    "\n",
    "# Entrainement \n",
    "LogReg.fit(X_train_norm, y_train)\n",
    "\n",
    "# Prédiction \n",
    "y_pred = LogReg.predict(X_test_norm)\n",
    "\n",
    "# on effectue les prédictions sur X_train_norm\n",
    "y_pred_train = LogReg.predict(X_train_norm)\n",
    "\n",
    "# on effectue les prédictions sur X_test_norm\n",
    "y_pred_test = LogReg.predict(X_test_norm)\n",
    "\n",
    "# on calcule les coefficients\n",
    "coef_ = LogReg.coef_\n",
    "\n",
    "# on calcule les odd-ratios\n",
    "odd_ratios = np.exp(LogReg.coef_)\n",
    "\n",
    "# on calcule l'intercept\n",
    "intercept_ = LogReg.intercept_\n",
    "\n",
    "# création d'un DataFrame qui comporte les variables, les coefficients et les odd-ratios\n",
    "resultats_LogReg = pd.DataFrame(X.columns, columns = ['Variables'])\n",
    "resultats_LogReg['Coefficients'] = LogReg.coef_.tolist()[0]\n",
    "resultats_LogReg['Odd_ratios'] = np.exp(LogReg.coef_).tolist()[0]\n",
    "\n",
    "resultats_LogReg[(resultats_LogReg.Odd_ratios == min(resultats_LogReg.Odd_ratios)) | (resultats_LogReg.Odd_ratios == max(resultats_LogReg.Odd_ratios))]\n"
   ]
  },
  {
   "cell_type": "code",
   "execution_count": 83,
   "id": "7e9d04d4",
   "metadata": {},
   "outputs": [
    {
     "data": {
      "text/html": [
       "<div>\n",
       "<style scoped>\n",
       "    .dataframe tbody tr th:only-of-type {\n",
       "        vertical-align: middle;\n",
       "    }\n",
       "\n",
       "    .dataframe tbody tr th {\n",
       "        vertical-align: top;\n",
       "    }\n",
       "\n",
       "    .dataframe thead th {\n",
       "        text-align: right;\n",
       "    }\n",
       "</style>\n",
       "<table border=\"1\" class=\"dataframe\">\n",
       "  <thead>\n",
       "    <tr style=\"text-align: right;\">\n",
       "      <th></th>\n",
       "      <th>Variables</th>\n",
       "      <th>Coefficients</th>\n",
       "      <th>Odd_ratios</th>\n",
       "    </tr>\n",
       "  </thead>\n",
       "  <tbody>\n",
       "    <tr>\n",
       "      <th>0</th>\n",
       "      <td>age</td>\n",
       "      <td>4.867396</td>\n",
       "      <td>129.982035</td>\n",
       "    </tr>\n",
       "    <tr>\n",
       "      <th>1</th>\n",
       "      <td>hypertension</td>\n",
       "      <td>0.510573</td>\n",
       "      <td>1.666245</td>\n",
       "    </tr>\n",
       "    <tr>\n",
       "      <th>2</th>\n",
       "      <td>heart_disease</td>\n",
       "      <td>0.309343</td>\n",
       "      <td>1.362529</td>\n",
       "    </tr>\n",
       "    <tr>\n",
       "      <th>3</th>\n",
       "      <td>ever_married</td>\n",
       "      <td>-0.145457</td>\n",
       "      <td>0.864627</td>\n",
       "    </tr>\n",
       "    <tr>\n",
       "      <th>4</th>\n",
       "      <td>Residence_type</td>\n",
       "      <td>0.093581</td>\n",
       "      <td>1.098099</td>\n",
       "    </tr>\n",
       "    <tr>\n",
       "      <th>5</th>\n",
       "      <td>avg_glucose_level</td>\n",
       "      <td>0.829986</td>\n",
       "      <td>2.293286</td>\n",
       "    </tr>\n",
       "    <tr>\n",
       "      <th>6</th>\n",
       "      <td>bmi</td>\n",
       "      <td>-0.042961</td>\n",
       "      <td>0.957948</td>\n",
       "    </tr>\n",
       "    <tr>\n",
       "      <th>7</th>\n",
       "      <td>work_type_Govt_job</td>\n",
       "      <td>0.092679</td>\n",
       "      <td>1.097109</td>\n",
       "    </tr>\n",
       "    <tr>\n",
       "      <th>8</th>\n",
       "      <td>work_type_Never_worked</td>\n",
       "      <td>-0.050545</td>\n",
       "      <td>0.950711</td>\n",
       "    </tr>\n",
       "    <tr>\n",
       "      <th>9</th>\n",
       "      <td>work_type_Private</td>\n",
       "      <td>0.143668</td>\n",
       "      <td>1.154501</td>\n",
       "    </tr>\n",
       "    <tr>\n",
       "      <th>10</th>\n",
       "      <td>work_type_Self_employed</td>\n",
       "      <td>-0.040485</td>\n",
       "      <td>0.960323</td>\n",
       "    </tr>\n",
       "    <tr>\n",
       "      <th>11</th>\n",
       "      <td>work_type_children</td>\n",
       "      <td>-0.145319</td>\n",
       "      <td>0.864747</td>\n",
       "    </tr>\n",
       "    <tr>\n",
       "      <th>12</th>\n",
       "      <td>smoking_status_Unknown</td>\n",
       "      <td>-0.062246</td>\n",
       "      <td>0.939651</td>\n",
       "    </tr>\n",
       "    <tr>\n",
       "      <th>13</th>\n",
       "      <td>smoking_status_formerly_smoked</td>\n",
       "      <td>0.083958</td>\n",
       "      <td>1.087583</td>\n",
       "    </tr>\n",
       "    <tr>\n",
       "      <th>14</th>\n",
       "      <td>smoking_status_never_smoked</td>\n",
       "      <td>-0.142073</td>\n",
       "      <td>0.867558</td>\n",
       "    </tr>\n",
       "    <tr>\n",
       "      <th>15</th>\n",
       "      <td>smoking_status_smokes</td>\n",
       "      <td>0.120358</td>\n",
       "      <td>1.127901</td>\n",
       "    </tr>\n",
       "    <tr>\n",
       "      <th>16</th>\n",
       "      <td>gender_Female</td>\n",
       "      <td>-0.019177</td>\n",
       "      <td>0.981005</td>\n",
       "    </tr>\n",
       "    <tr>\n",
       "      <th>17</th>\n",
       "      <td>gender_Male</td>\n",
       "      <td>0.029938</td>\n",
       "      <td>1.030390</td>\n",
       "    </tr>\n",
       "    <tr>\n",
       "      <th>18</th>\n",
       "      <td>gender_Other</td>\n",
       "      <td>-0.010763</td>\n",
       "      <td>0.989295</td>\n",
       "    </tr>\n",
       "  </tbody>\n",
       "</table>\n",
       "</div>"
      ],
      "text/plain": [
       "                         Variables  Coefficients  Odd_ratios\n",
       "0                              age      4.867396  129.982035\n",
       "1                     hypertension      0.510573    1.666245\n",
       "2                    heart_disease      0.309343    1.362529\n",
       "3                     ever_married     -0.145457    0.864627\n",
       "4                   Residence_type      0.093581    1.098099\n",
       "5                avg_glucose_level      0.829986    2.293286\n",
       "6                              bmi     -0.042961    0.957948\n",
       "7               work_type_Govt_job      0.092679    1.097109\n",
       "8           work_type_Never_worked     -0.050545    0.950711\n",
       "9                work_type_Private      0.143668    1.154501\n",
       "10         work_type_Self_employed     -0.040485    0.960323\n",
       "11              work_type_children     -0.145319    0.864747\n",
       "12          smoking_status_Unknown     -0.062246    0.939651\n",
       "13  smoking_status_formerly_smoked      0.083958    1.087583\n",
       "14     smoking_status_never_smoked     -0.142073    0.867558\n",
       "15           smoking_status_smokes      0.120358    1.127901\n",
       "16                   gender_Female     -0.019177    0.981005\n",
       "17                     gender_Male      0.029938    1.030390\n",
       "18                    gender_Other     -0.010763    0.989295"
      ]
     },
     "execution_count": 83,
     "metadata": {},
     "output_type": "execute_result"
    }
   ],
   "source": [
    "resultats_LogReg"
   ]
  },
  {
   "cell_type": "markdown",
   "id": "f0df4945",
   "metadata": {},
   "source": [
    "La variable 'age' a l'Odd_ratio le plus élevé, quand l'age augmente cela augmente la probabilité d'appartenir à la classe positive de la variable 'stroke' par 130"
   ]
  },
  {
   "cell_type": "code",
   "execution_count": 84,
   "id": "99d0c7e9",
   "metadata": {},
   "outputs": [
    {
     "name": "stdout",
     "output_type": "stream",
     "text": [
      "LogisticRegression, Matrice de confusion:\n",
      "  [[972   0]\n",
      " [ 49   1]]\n",
      "\n",
      " Vrais négatifs: 972 \n",
      " Faux positifs: 0 \n",
      " Faux négatifs: 49 \n",
      " Vrais positifs: 1\n",
      "\n",
      "Accuracy train LogReg:\n",
      " 0.951320939334638\n",
      "Accuracy test LogReg:\n",
      " 0.952054794520548\n",
      "La répartition des classes:\n",
      " 0    4861\n",
      "1     249\n",
      "Name: stroke, dtype: int64\n",
      "\n",
      "balanced_accuracy_score test LogReg:\n",
      " 0.51\n",
      "balanced_accuracy_score train LogReg:\n",
      " 0.5\n"
     ]
    }
   ],
   "source": [
    "# Import de la matrice de confusion\n",
    "from sklearn.metrics import confusion_matrix\n",
    "\n",
    "# Import de la fonction accuracy_score\n",
    "from sklearn.metrics import accuracy_score\n",
    "\n",
    "# Import de la fonction balanced_accuracy_score\n",
    "from sklearn.metrics import balanced_accuracy_score\n",
    "\n",
    "# Calcul de la matrice de confusion\n",
    "print('LogisticRegression, Matrice de confusion:\\n ',confusion_matrix(y_test, y_pred_test))\n",
    "\n",
    "# On peut également afficher la signification de chaque élément de la matrice lorsque l'on a une problématique binaire\n",
    "\n",
    "tn, fp, fn, tp = confusion_matrix(y_test,y_pred_test).ravel()\n",
    "\n",
    "print(\"\\n Vrais négatifs:\",tn,\"\\n Faux positifs:\",fp,\"\\n Faux négatifs:\",fn,\"\\n Vrais positifs:\",tp)\n",
    "\n",
    "\n",
    "# calcul de l'accuracy_score\n",
    "accuracy = accuracy_score(y_test, y_pred_test)\n",
    "\n",
    "# affichage de l'accuracy_score\n",
    "print('\\nAccuracy train LogReg:\\n', accuracy_score(y_train, y_pred_train))\n",
    "print('Accuracy test LogReg:\\n', accuracy_score(y_test, y_pred_test))\n",
    "\n",
    "\n",
    "# Vérification de la répartition des classes\n",
    "print('La répartition des classes:\\n', y.value_counts())\n",
    "\n",
    "# Affichage de l'accuracy_score\n",
    "print('\\nbalanced_accuracy_score test LogReg:\\n', balanced_accuracy_score(y_test, y_pred_test))\n",
    "print('balanced_accuracy_score train LogReg:\\n', balanced_accuracy_score(y_train, y_pred_train))\n"
   ]
  },
  {
   "cell_type": "markdown",
   "id": "aec43686",
   "metadata": {},
   "source": [
    "On constate ainsi qu'un individu ayant subi une attaque a été correctement classé sur 50.\n",
    "Il y a donc 49 individus qui sont considérés comme n'ayant pas subi une attaque alors qu'en réalité, oui.\n",
    "\n",
    "Concernant les individus sains, 972 sont correctement classés sur 972. \n",
    "\n",
    "Le modèle LogisticRegression prédit  mieux les individus sains que ceux ayant subi une attaque.\n",
    "\n",
    "De plus, les balanced_accuracy sont loin des accuracy, ce qui confirme que le modèle LogisticRegression est victime du déséquilibre des classes.\n"
   ]
  },
  {
   "cell_type": "markdown",
   "id": "ef199cc0",
   "metadata": {},
   "source": [
    "Nous proposons d'essayer le modèle de prédiction KNeighborsClassifier()"
   ]
  },
  {
   "cell_type": "code",
   "execution_count": 85,
   "id": "344cd24d",
   "metadata": {},
   "outputs": [
    {
     "name": "stdout",
     "output_type": "stream",
     "text": [
      "KNN, Matrice de confusion:\n",
      "  [[970   2]\n",
      " [ 49   1]]\n",
      "\n",
      " Vrais négatifs knn: 970 \n",
      " Faux positifs knn: 2 \n",
      " Faux négatifs knn: 49 \n",
      " Vrais positifs knn: 1\n",
      "\n",
      "Accuracy train KNN:\n",
      " 0.9522994129158513\n",
      "Accuracy test KNN:\n",
      " 0.9500978473581213\n",
      "La répartition des classes:\n",
      " 0    4861\n",
      "1     249\n",
      "Name: stroke, dtype: int64\n",
      "balanced_accuracy_score train KNN:\n",
      " 0.5195862314917349\n",
      "\n",
      "balanced_accuracy_score test KNN :\n",
      " 0.5089711934156378\n"
     ]
    }
   ],
   "source": [
    "KNN = KNeighborsClassifier()\n",
    "\n",
    "KNN.fit(X_train_norm, y_train)\n",
    "\n",
    "y_pred_train_knn = KNN.predict(X_train_norm)\n",
    "y_pred_knn = KNN.predict(X_test_norm)\n",
    "\n",
    "# Calcul de la matrice de confusion\n",
    "print('KNN, Matrice de confusion:\\n ',confusion_matrix(y_test, y_pred_knn))\n",
    "\n",
    "# On peut également afficher la signification de chaque élément de la matrice lorsque l'on a une problématique binaire\n",
    "\n",
    "tn, fp, fn, tp = confusion_matrix(y_test,y_pred_knn).ravel()\n",
    "\n",
    "print(\"\\n Vrais négatifs knn:\",tn,\"\\n Faux positifs knn:\",fp,\"\\n Faux négatifs knn:\",fn,\"\\n Vrais positifs knn:\",tp)\n",
    "\n",
    "\n",
    "# calcul de l'accuracy_score\n",
    "accuracy = accuracy_score(y_test, y_pred_knn)\n",
    "\n",
    "# affichage de l'accuracy_score\n",
    "print('\\nAccuracy train KNN:\\n', accuracy_score(y_train, y_pred_train_knn))\n",
    "print('Accuracy test KNN:\\n', accuracy_score(y_test, y_pred_knn))\n",
    "\n",
    "\n",
    "# Vérification de la répartition des classes\n",
    "print('La répartition des classes:\\n', y.value_counts())\n",
    "\n",
    "# Affichage de l'accuracy_score\n",
    "print('balanced_accuracy_score train KNN:\\n', balanced_accuracy_score(y_train, y_pred_train_knn))\n",
    "print('\\nbalanced_accuracy_score test KNN :\\n', balanced_accuracy_score(y_test, y_pred_knn))\n"
   ]
  },
  {
   "cell_type": "markdown",
   "id": "90c08144",
   "metadata": {},
   "source": [
    "On constate ainsi qu'un individu ayant subi une attaque est correctement classé sur 50.\n",
    "Il y a donc 49 individus qui sont considérés comme n'ayant pas subi une attaque alors qu'en réalité, oui.\n",
    "\n",
    "Concernant les individus sains, 970 sont correctement classés sur 972. Il y a donc 2 individus qui sont classés \n",
    "comme sains alors qu'ils ne le sont pas.\n",
    "\n",
    "Le modèle KNN prédit mieux les individus sains que ceux ayant subi une attaque.\n",
    "\n",
    "De plus, les balanced_accuracy sont loin des accuracy, ce qui confirme que le modèle KNN est victime du déséquilibre des classes.\n"
   ]
  },
  {
   "cell_type": "markdown",
   "id": "9f33a722",
   "metadata": {},
   "source": [
    "Le balanced_accuracy score reste loin de l'accuracy, le modèle KNN souffre aussi du désiquilibre des classes. Nous proposons de tester un autre modèle de prédiction."
   ]
  },
  {
   "cell_type": "markdown",
   "id": "c51c5971",
   "metadata": {},
   "source": [
    "Nous proposons d'essayer le modèle de prédiction SVC "
   ]
  },
  {
   "cell_type": "code",
   "execution_count": 86,
   "id": "a5845819",
   "metadata": {},
   "outputs": [
    {
     "name": "stdout",
     "output_type": "stream",
     "text": [
      "SVC, Matrice de confusion:\n",
      "  [[972   0]\n",
      " [ 50   0]]\n",
      "\n",
      " Vrais négatifs SVC: 972 \n",
      " Faux positifs SVC: 0 \n",
      " Faux négatifs SVC: 50 \n",
      " Vrais positifs SVC: 0\n",
      "\n",
      "Accuracy train SVC:\n",
      " 0.951320939334638\n",
      "Accuracy test SVC:\n",
      " 0.9510763209393346\n",
      "La répartition des classes:\n",
      " 0    4861\n",
      "1     249\n",
      "Name: stroke, dtype: int64\n",
      "balanced_accuracy_score train SVC:\n",
      " 0.5\n",
      "\n",
      "balanced_accuracy_score test SVC :\n",
      " 0.5\n"
     ]
    }
   ],
   "source": [
    "SVC = SVC()\n",
    "\n",
    "SVC.fit(X_train_norm, y_train)\n",
    "\n",
    "y_pred_train_SVC = SVC.predict(X_train_norm)\n",
    "y_pred_SVC = SVC.predict(X_test_norm)\n",
    "\n",
    "# Calcul de la matrice de confusion\n",
    "print('SVC, Matrice de confusion:\\n ',confusion_matrix(y_test, y_pred_SVC))\n",
    "\n",
    "# On peut également afficher la signification de chaque élément de la matrice lorsque l'on a une problématique binaire\n",
    "\n",
    "tn, fp, fn, tp = confusion_matrix(y_test,y_pred_SVC).ravel()\n",
    "\n",
    "print(\"\\n Vrais négatifs SVC:\",tn,\"\\n Faux positifs SVC:\",fp,\"\\n Faux négatifs SVC:\",fn,\"\\n Vrais positifs SVC:\",tp)\n",
    "\n",
    "\n",
    "# calcul de l'accuracy_score\n",
    "accuracy = accuracy_score(y_test, y_pred_SVC)\n",
    "\n",
    "# affichage de l'accuracy_score\n",
    "print('\\nAccuracy train SVC:\\n', accuracy_score(y_train, y_pred_train_SVC))\n",
    "print('Accuracy test SVC:\\n', accuracy_score(y_test, y_pred_SVC))\n",
    "\n",
    "\n",
    "# Vérification de la répartition des classes\n",
    "print('La répartition des classes:\\n', y.value_counts())\n",
    "\n",
    "# Affichage de l'accuracy_score\n",
    "print('balanced_accuracy_score train SVC:\\n', balanced_accuracy_score(y_train, y_pred_train_SVC))\n",
    "print('\\nbalanced_accuracy_score test SVC :\\n', balanced_accuracy_score(y_test, y_pred_SVC))"
   ]
  },
  {
   "cell_type": "markdown",
   "id": "03126145",
   "metadata": {},
   "source": [
    "On constate ainsi qu'aucun individu ayant subi une attaque n'a été correctement classé sur 50.\n",
    "Il y a donc 50 individus qui sont considérés comme n'ayant pas subi une attaque alors qu'en réalité, oui.\n",
    "\n",
    "Concernant les individus sains, 972 sont correctement classés sur 972. Il y a donc aucun individu qui ne soit classé \n",
    "comme sain alors qu'il ne l'est pas.\n",
    "\n",
    "Le modèle SVC prédit mieux les individus sains que ceux ayant subi une attaque.\n",
    "\n",
    "De plus, les balanced_accuracy sont loin des accuracy, ce qui confirme que le modèle SVC est victime du déséquilibre des classes."
   ]
  },
  {
   "cell_type": "markdown",
   "id": "7a69221d",
   "metadata": {},
   "source": [
    "Nous proposons d'essayer le modèle de prédiction DecisionTreeClassifier"
   ]
  },
  {
   "cell_type": "code",
   "execution_count": 87,
   "id": "cfb4a612",
   "metadata": {},
   "outputs": [
    {
     "name": "stdout",
     "output_type": "stream",
     "text": [
      "DTC, Matrice de confusion:\n",
      "  [[916  56]\n",
      " [ 38  12]]\n",
      "\n",
      " Vrais négatifs DTC: 916 \n",
      " Faux positifs DTC: 56 \n",
      " Faux négatifs DTC: 38 \n",
      " Vrais positifs DTC: 12\n",
      "\n",
      "Accuracy train DTC:\n",
      " 1.0\n",
      "Accuracy test DTC:\n",
      " 0.9080234833659491\n",
      "La répartition des classes:\n",
      " 0    4861\n",
      "1     249\n",
      "Name: stroke, dtype: int64\n",
      "balanced_accuracy_score train DTC:\n",
      " 1.0\n",
      "\n",
      "balanced_accuracy_score test DTC :\n",
      " 0.5911934156378601\n"
     ]
    }
   ],
   "source": [
    "DTC = DecisionTreeClassifier()\n",
    "\n",
    "DTC.fit(X_train_norm, y_train)\n",
    "\n",
    "y_pred_train_DTC = DTC.predict(X_train_norm)\n",
    "y_pred_DTC = DTC.predict(X_test_norm)\n",
    "\n",
    "# Calcul de la matrice de confusion\n",
    "print('DTC, Matrice de confusion:\\n ',confusion_matrix(y_test, y_pred_DTC))\n",
    "\n",
    "# On peut également afficher la signification de chaque élément de la matrice lorsque l'on a une problématique binaire\n",
    "\n",
    "tn, fp, fn, tp = confusion_matrix(y_test,y_pred_DTC).ravel()\n",
    "\n",
    "print(\"\\n Vrais négatifs DTC:\",tn,\"\\n Faux positifs DTC:\",fp,\"\\n Faux négatifs DTC:\",fn,\"\\n Vrais positifs DTC:\",tp)\n",
    "\n",
    "\n",
    "# calcul de l'accuracy_score\n",
    "accuracy = accuracy_score(y_test, y_pred_DTC)\n",
    "\n",
    "# affichage de l'accuracy_score\n",
    "print('\\nAccuracy train DTC:\\n', accuracy_score(y_train, y_pred_train_DTC))\n",
    "print('Accuracy test DTC:\\n', accuracy_score(y_test, y_pred_DTC))\n",
    "\n",
    "\n",
    "# Vérification de la répartition des classes\n",
    "print('La répartition des classes:\\n', y.value_counts())\n",
    "\n",
    "# Affichage de l'accuracy_score\n",
    "print('balanced_accuracy_score train DTC:\\n', balanced_accuracy_score(y_train, y_pred_train_DTC))\n",
    "print('\\nbalanced_accuracy_score test DTC :\\n', balanced_accuracy_score(y_test, y_pred_DTC))"
   ]
  },
  {
   "cell_type": "markdown",
   "id": "bbb884a5",
   "metadata": {},
   "source": [
    "On constate ainsi que 11 individus ayant subi une attaque ont été correctement classés sur 50.\n",
    "Il y a donc 39 individus qui sont considérés comme n'ayant pas subi une attaque alors qu'en réalité, oui.\n",
    "\n",
    "Concernant les individus sains, 914 sont correctement classés sur 972. Il y a donc 58 individus qui sont classés \n",
    "comme sains alors qu'ils ne le sont pas.\n",
    "\n",
    "Le modèle DTC prédit mieux les individus sains que ceux ayant subi une attaque.\n",
    "\n",
    "Sur le jeu de données d'entrainement, l'accuracy est de 1, sur le jeu de donnée de tests l'accuracy est 0,9\n",
    "\n",
    "De plus, à l'entrainenement le balanced_accuracy est de 1, ce qui confirme que le modèle DTC est très performant.\n",
    "Mais sur le jeu de données de test, le balanced_accuracy est de 0,58."
   ]
  },
  {
   "cell_type": "markdown",
   "id": "3c9efd13",
   "metadata": {},
   "source": [
    "Le balanced_accuracy score est supérieur à 0,5 mais reste loin de l'accuracy, le modèle DTC souffre aussi du déséquilibre des classes mais moins que les modèles précédents(LogReg, KNN, SVC). Nous proposons de tester un autre modèle de prédiction."
   ]
  },
  {
   "cell_type": "markdown",
   "id": "2d5909a4",
   "metadata": {},
   "source": [
    "Nous proposons d'essayer le modèle RandomForestClassifier"
   ]
  },
  {
   "cell_type": "code",
   "execution_count": 88,
   "id": "b500220f",
   "metadata": {},
   "outputs": [
    {
     "name": "stdout",
     "output_type": "stream",
     "text": [
      "RFC, Matrice de confusion:\n",
      "  [[970   2]\n",
      " [ 50   0]]\n",
      "\n",
      " Vrais négatifs RFC: 970 \n",
      " Faux positifs RFC: 2 \n",
      " Faux négatifs RFC: 50 \n",
      " Vrais positifs RFC: 0\n",
      "\n",
      "Accuracy train RFC:\n",
      " 1.0\n",
      "Accuracy test RFC:\n",
      " 0.949119373776908\n",
      "La répartition des classes:\n",
      " 0    4861\n",
      "1     249\n",
      "Name: stroke, dtype: int64\n",
      "balanced_accuracy_score train RFC:\n",
      " 1.0\n",
      "\n",
      "balanced_accuracy_score test RFC :\n",
      " 0.49897119341563784\n"
     ]
    }
   ],
   "source": [
    "RFC = RandomForestClassifier()\n",
    "\n",
    "RFC.fit(X_train_norm, y_train)\n",
    "\n",
    "y_pred_train_RFC = RFC.predict(X_train_norm)\n",
    "y_pred_RFC = RFC.predict(X_test_norm)\n",
    "\n",
    "# Calcul de la matrice de confusion\n",
    "print('RFC, Matrice de confusion:\\n ',confusion_matrix(y_test, y_pred_RFC))\n",
    "\n",
    "# On peut également afficher la signification de chaque élément de la matrice lorsque l'on a une problématique binaire\n",
    "\n",
    "tn, fp, fn, tp = confusion_matrix(y_test,y_pred_RFC).ravel()\n",
    "\n",
    "print(\"\\n Vrais négatifs RFC:\",tn,\"\\n Faux positifs RFC:\",fp,\"\\n Faux négatifs RFC:\",fn,\"\\n Vrais positifs RFC:\",tp)\n",
    "\n",
    "\n",
    "# calcul de l'accuracy_score\n",
    "accuracy = accuracy_score(y_test, y_pred_RFC)\n",
    "\n",
    "# affichage de l'accuracy_score\n",
    "print('\\nAccuracy train RFC:\\n', accuracy_score(y_train, y_pred_train_RFC))\n",
    "print('Accuracy test RFC:\\n', accuracy_score(y_test, y_pred_RFC))\n",
    "\n",
    "\n",
    "# Vérification de la répartition des classes\n",
    "print('La répartition des classes:\\n', y.value_counts())\n",
    "\n",
    "# Affichage de l'accuracy_score\n",
    "print('balanced_accuracy_score train RFC:\\n', balanced_accuracy_score(y_train, y_pred_train_RFC))\n",
    "print('\\nbalanced_accuracy_score test RFC :\\n', balanced_accuracy_score(y_test, y_pred_RFC))"
   ]
  },
  {
   "cell_type": "markdown",
   "id": "c35760c8",
   "metadata": {},
   "source": [
    "On constate ainsi qu'aucun individu ayant subi une attaque n'a été correctement classé sur 50.\n",
    "Il y a donc 50 individus qui sont considérés comme n'ayant pas subi une attaque alors qu'en réalité, oui.\n",
    "\n",
    "Concernant les individus sains, 968 sont correctement classés sur 972. Il y a donc 4 individu qui sont classés \n",
    "comme sain alors qu'ils ne le sont pas.\n",
    "\n",
    "Le modèle RFC prédit mieux les individus sains que ceux ayant subi une attaque.\n",
    "\n",
    "Sur le jeu de données d'entrainement, l'accuracy est de 1, sur le jeu de donnée de tests l'accuracy est 0,95\n",
    "\n",
    "De plus, à l'entrainenement le balanced_accuracy est de 1, ce qui confirme que le modèle DTC est très performant à l'entrainement.\n",
    "Mais sur le jeu de données de test, le balanced_accuracy est de 0,49"
   ]
  },
  {
   "cell_type": "markdown",
   "id": "440f8d42",
   "metadata": {},
   "source": [
    "Le balanced_accuracy score est supérieur à 0,5 mais reste loin de l'accuracy, le modèle RFC souffre aussi du déséquilibre des classes. Nous proposons de tester un autre modèle de prédiction, le BaggingClassifier()."
   ]
  },
  {
   "cell_type": "code",
   "execution_count": 89,
   "id": "78ec6772",
   "metadata": {},
   "outputs": [
    {
     "name": "stdout",
     "output_type": "stream",
     "text": [
      "BC, Matrice de confusion:\n",
      "  [[965   7]\n",
      " [ 49   1]]\n",
      "\n",
      " Vrais négatifs BC: 965 \n",
      " Faux positifs BC: 7 \n",
      " Faux négatifs BC: 49 \n",
      " Vrais positifs BC: 1\n",
      "\n",
      "Accuracy train BC:\n",
      " 0.9911937377690803\n",
      "Accuracy test BC:\n",
      " 0.9452054794520548\n",
      "La répartition des classes:\n",
      " 0    4861\n",
      "1     249\n",
      "Name: stroke, dtype: int64\n",
      "balanced_accuracy_score train BC:\n",
      " 0.9095477386934674\n",
      "\n",
      "balanced_accuracy_score test BC :\n",
      " 0.5063991769547325\n"
     ]
    }
   ],
   "source": [
    "BC = BaggingClassifier()\n",
    "\n",
    "BC.fit(X_train_norm, y_train)\n",
    "\n",
    "y_pred_train_BC = BC.predict(X_train_norm)\n",
    "y_pred_BC = BC.predict(X_test_norm)\n",
    "\n",
    "# Calcul de la matrice de confusion\n",
    "print('BC, Matrice de confusion:\\n ',confusion_matrix(y_test, y_pred_BC))\n",
    "\n",
    "# On peut également afficher la signification de chaque élément de la matrice lorsque l'on a une problématique binaire\n",
    "\n",
    "tn, fp, fn, tp = confusion_matrix(y_test,y_pred_BC).ravel()\n",
    "\n",
    "print(\"\\n Vrais négatifs BC:\",tn,\"\\n Faux positifs BC:\",fp,\"\\n Faux négatifs BC:\",fn,\"\\n Vrais positifs BC:\",tp)\n",
    "\n",
    "\n",
    "# calcul de l'accuracy_score\n",
    "accuracy = accuracy_score(y_test, y_pred_BC)\n",
    "\n",
    "# affichage de l'accuracy_score\n",
    "print('\\nAccuracy train BC:\\n', accuracy_score(y_train, y_pred_train_BC))\n",
    "print('Accuracy test BC:\\n', accuracy_score(y_test, y_pred_BC))\n",
    "\n",
    "\n",
    "# Vérification de la répartition des classes\n",
    "print('La répartition des classes:\\n', y.value_counts())\n",
    "\n",
    "# Affichage de l'accuracy_score\n",
    "print('balanced_accuracy_score train BC:\\n', balanced_accuracy_score(y_train, y_pred_train_BC))\n",
    "print('\\nbalanced_accuracy_score test BC :\\n', balanced_accuracy_score(y_test, y_pred_BC))"
   ]
  },
  {
   "cell_type": "markdown",
   "id": "71978004",
   "metadata": {},
   "source": [
    "On constate ainsi qu'aucu individu ayant subi une attaque n'a été correctement classé sur 50.\n",
    "Il y a donc 50 individus qui sont considérés comme n'ayant pas subi une attaque alors qu'en réalité, oui.\n",
    "\n",
    "Concernant les individus sains, 963 sont correctement classés sur 972. Il y a donc 9 individus qui sont classés \n",
    "comme sains alors qu'ils ne le sont pas.\n",
    "\n",
    "Le modèle BC prédit mieux les individus sains que ceux ayant subi une attaque.\n",
    "\n",
    "Sur le jeu de données d'entrainement, l'accuracy est de 1, sur le jeu de donnée de tests l'accuracy est 0,95\n",
    "\n",
    "De plus, à l'entrainement le balanced_accuracy est de 0,91, ce qui confirme que le modèle BC est très performant à l'entrainement.\n",
    "Mais sur le jeu de données de test, le balanced_accuracy est de 0,49"
   ]
  },
  {
   "cell_type": "markdown",
   "id": "84074a4d",
   "metadata": {},
   "source": [
    "Le modèle RFC souffre aussi du déséquilibre des classes. Nous proposons de tester un autre modèle de prédiction, le GradientBoostingClassifier."
   ]
  },
  {
   "cell_type": "code",
   "execution_count": 90,
   "id": "9db38aad",
   "metadata": {},
   "outputs": [
    {
     "name": "stdout",
     "output_type": "stream",
     "text": [
      "GBC, Matrice de confusion:\n",
      "  [[969   3]\n",
      " [ 50   0]]\n",
      "\n",
      " Vrais négatifs GBC: 969 \n",
      " Faux positifs GBC: 3 \n",
      " Faux négatifs GBC: 50 \n",
      " Vrais positifs GBC: 0\n",
      "\n",
      "Accuracy train GBC:\n",
      " 0.958904109589041\n",
      "Accuracy test GBC:\n",
      " 0.9481409001956947\n",
      "La répartition des classes:\n",
      " 0    4861\n",
      "1     249\n",
      "Name: stroke, dtype: int64\n",
      "balanced_accuracy_score train GBC:\n",
      " 0.5778894472361809\n",
      "\n",
      "balanced_accuracy_score test GBC :\n",
      " 0.4984567901234568\n"
     ]
    }
   ],
   "source": [
    "GBC = GradientBoostingClassifier()\n",
    "\n",
    "GBC.fit(X_train_norm, y_train)\n",
    "\n",
    "y_pred_train_GBC = GBC.predict(X_train_norm)\n",
    "y_pred_GBC = GBC.predict(X_test_norm)\n",
    "\n",
    "# Calcul de la matrice de confusion\n",
    "print('GBC, Matrice de confusion:\\n ',confusion_matrix(y_test, y_pred_GBC))\n",
    "\n",
    "# On peut également afficher la signification de chaque élément de la matrice lorsque l'on a une problématique binaire\n",
    "\n",
    "tn, fp, fn, tp = confusion_matrix(y_test,y_pred_GBC).ravel()\n",
    "\n",
    "print(\"\\n Vrais négatifs GBC:\",tn,\"\\n Faux positifs GBC:\",fp,\"\\n Faux négatifs GBC:\",fn,\"\\n Vrais positifs GBC:\",tp)\n",
    "\n",
    "\n",
    "# calcul de l'accuracy_score\n",
    "accuracy = accuracy_score(y_test, y_pred_GBC)\n",
    "\n",
    "# affichage de l'accuracy_score\n",
    "print('\\nAccuracy train GBC:\\n', accuracy_score(y_train, y_pred_train_GBC))\n",
    "print('Accuracy test GBC:\\n', accuracy_score(y_test, y_pred_GBC))\n",
    "\n",
    "\n",
    "# Vérification de la répartition des classes\n",
    "print('La répartition des classes:\\n', y.value_counts())\n",
    "\n",
    "# Affichage de l'accuracy_score\n",
    "print('balanced_accuracy_score train GBC:\\n', balanced_accuracy_score(y_train, y_pred_train_GBC))\n",
    "print('\\nbalanced_accuracy_score test GBC :\\n', balanced_accuracy_score(y_test, y_pred_GBC))"
   ]
  },
  {
   "cell_type": "markdown",
   "id": "c8372c61",
   "metadata": {},
   "source": [
    "On constate ainsi qu'aucun individus ayant subi une attaque n'a été correctement classé sur 50.\n",
    "Il y a donc 50 individus qui sont considérés comme n'ayant pas subi une attaque alors qu'en réalité, oui.\n",
    "\n",
    "Concernant les individus sains, 969 sont correctement classés sur 972. Il y a donc 3 individus qui sont classés \n",
    "comme sains alors qu'ils ne le sont pas.\n",
    "\n",
    "Le modèle GBC prédit mieux les individus sains que ceux ayant subi une attaque. En effet, le déséquilibre des classes fait que le modèle peut s'entrainer davantage sur la classe majoritaire qui est celle des personnes saines.\n",
    "\n",
    "Sur le jeu de données d'entrainement, l'accuracy est de 0,96, sur le jeu de donnée de tests l'accuracy est 0,95\n",
    "\n",
    "De plus, à l'entrainement le balanced_accuracy est de 0,58.\n",
    "Mais sur le jeu de données de test, le balanced_accuracy est de 0,5.\n"
   ]
  },
  {
   "cell_type": "markdown",
   "id": "2e264d6e",
   "metadata": {},
   "source": [
    "Le balanced_accuracy score reste loin de l'accuracy, le modèle RFC souffre aussi du désiquilibre des classes. "
   ]
  },
  {
   "cell_type": "code",
   "execution_count": 91,
   "id": "3f5bdd7b",
   "metadata": {},
   "outputs": [
    {
     "name": "stdout",
     "output_type": "stream",
     "text": [
      "En résumé, nous obtenons les performances suivantes :\n",
      "\n",
      "\n",
      "Accuracy test LogReg: 0.95\n",
      "Balanced_accuracy_score train LogReg: 0.5\n",
      "\n",
      "Accuracy test KNN: 0.95\n",
      "Balanced_accuracy_score test KNN : 0.51\n",
      "\n",
      "Accuracy test SVC: 0.95\n",
      "Balanced_accuracy_score test SVC : 0.5\n",
      "\n",
      "Accuracy test DTC: 0.91\n",
      "Balanced_accuracy_score test DTC : 0.59\n",
      "\n",
      "Accuracy test RFC: 0.95\n",
      "Balanced_accuracy_score test RFC : 0.5\n",
      "\n",
      "Accuracy test BC: 0.95\n",
      "Balanced_accuracy_score test BC : 0.51\n",
      "\n",
      "Accuracy test GBC: 0.95\n",
      "Balanced_accuracy_score test GBC : 0.5\n"
     ]
    }
   ],
   "source": [
    "print('En résumé, nous obtenons les performances suivantes :\\n')\n",
    "\n",
    "print('\\nAccuracy test LogReg:', accuracy_score(y_test, y_pred_test).round(2))\n",
    "print('Balanced_accuracy_score train LogReg:', balanced_accuracy_score(y_train, y_pred_train).round(2))\n",
    "\n",
    "print('\\nAccuracy test KNN:', accuracy_score(y_test, y_pred_knn).round(2))\n",
    "print('Balanced_accuracy_score test KNN :', balanced_accuracy_score(y_test, y_pred_knn).round(2))\n",
    "\n",
    "print('\\nAccuracy test SVC:', accuracy_score(y_test, y_pred_SVC).round(2))\n",
    "print('Balanced_accuracy_score test SVC :', balanced_accuracy_score(y_test, y_pred_SVC).round(2))\n",
    "\n",
    "print('\\nAccuracy test DTC:', accuracy_score(y_test, y_pred_DTC).round(2))\n",
    "print('Balanced_accuracy_score test DTC :', balanced_accuracy_score(y_test, y_pred_DTC).round(2))\n",
    "\n",
    "print('\\nAccuracy test RFC:', accuracy_score(y_test, y_pred_RFC).round(2))\n",
    "print('Balanced_accuracy_score test RFC :', balanced_accuracy_score(y_test, y_pred_RFC).round(2))\n",
    "\n",
    "print('\\nAccuracy test BC:', accuracy_score(y_test, y_pred_BC).round(2))\n",
    "print('Balanced_accuracy_score test BC :', balanced_accuracy_score(y_test, y_pred_BC).round(2))\n",
    "\n",
    "print('\\nAccuracy test GBC:', accuracy_score(y_test, y_pred_GBC).round(2))\n",
    "print('Balanced_accuracy_score test GBC :', balanced_accuracy_score(y_test, y_pred_GBC).round(2))\n",
    "\n"
   ]
  },
  {
   "cell_type": "markdown",
   "id": "bb5a6f7b",
   "metadata": {},
   "source": [
    "CONCLUSION"
   ]
  },
  {
   "cell_type": "markdown",
   "id": "3dc66f62",
   "metadata": {},
   "source": [
    "Tous les algorithmes testés ont des 'accuracy test' supérieurs à 0,9. En phase de test, on constate qu'ils sont performants pour prédire la classe majoritaire du jeu de données que représentent les personnes 'saines'. Ceci s'explique par le fait que l'entrainement de ceux-ci s'est fait majoritairement sur cette classe de personnes 'saines'. Etant moins entrainés sur la classe de personnes 'ayant subi une attaque' les algorithmes sont moins performants pour prédire cette classe. Ce qui explique pourquoi les 'balanced accuracy score test' sont aussi loin des 'accuracy test'.\n",
    "Un jeu de données plus équilibré au niveau des classes permettraient d'améliorer les performances des algorithmes de prédiction. \n",
    "L'algorithme Decision Tree Classifier présente des accuracy et balanced_accuracy les plus proches.\n",
    "Il souffre moins du déséquilibre des classes, notre choix se porte donc sur cet algorithme DTC. "
   ]
  },
  {
   "cell_type": "markdown",
   "id": "dc1ea0c6",
   "metadata": {},
   "source": [
    "Préparation pour API"
   ]
  },
  {
   "cell_type": "code",
   "execution_count": 92,
   "id": "0d7f24ca",
   "metadata": {},
   "outputs": [],
   "source": [
    "from joblib import dump\n",
    "from joblib import load\n",
    "\n",
    "# definition d'une fonction qui permet de sauvegarder les modèles\n",
    "def save_model(model, path_to_model): \n",
    "    # saving model\n",
    "    print(str(model), 'saved at ', path_to_model)\n",
    "    dump(model, path_to_model)"
   ]
  },
  {
   "cell_type": "markdown",
   "id": "3ba58552",
   "metadata": {},
   "source": [
    "# Entrainement des modèles par la méthode de cross validation"
   ]
  },
  {
   "cell_type": "code",
   "execution_count": 93,
   "id": "a959fa4f",
   "metadata": {},
   "outputs": [],
   "source": [
    "from sklearn.model_selection import cross_val_score\n",
    "from sklearn.model_selection import KFold\n",
    "\n",
    "def compute_model_score(model, X, y):\n",
    "    kf_2 = KFold(n_splits = 5, shuffle = True, random_state = 42)\n",
    "# computing cross val\n",
    "\n",
    "    cross_validation = cross_val_score(\n",
    "\n",
    "    model,\n",
    "\n",
    "    X,\n",
    "\n",
    "    y,\n",
    "\n",
    "    cv=kf_2,\n",
    "\n",
    "    scoring='neg_mean_squared_error')\n",
    "\n",
    "    model_score = cross_validation.mean()\n",
    "\n",
    "    return model_score"
   ]
  },
  {
   "cell_type": "code",
   "execution_count": 94,
   "id": "3d6b3ec0",
   "metadata": {},
   "outputs": [],
   "source": [
    "score_LR = round(compute_model_score(LogReg, X, y),2)\n",
    "score_KNN = compute_model_score(KNN, X, y).round(2)\n",
    "score_SVC = compute_model_score(SVC, X, y).round(2)\n",
    "score_DTC = compute_model_score(DTC, X, y).round(2)\n",
    "score_RFC = compute_model_score(RFC, X, y).round(2)\n",
    "score_BC = compute_model_score(BC, X, y).round(2)\n",
    "score_GBC = compute_model_score(GBC, X, y).round(2)"
   ]
  },
  {
   "cell_type": "code",
   "execution_count": 95,
   "id": "796fe63d",
   "metadata": {},
   "outputs": [],
   "source": [
    "score_dic = {\"Modele\": [\"LogReg\", \"KNN\", \"SVC\", \"DTC\", \"RFC\", \"BC\", \"GBC\"],\n",
    "             \"Score\" : [score_LR, score_KNN, score_SVC, score_DTC, score_RFC, score_BC, score_GBC]\n",
    "              }"
   ]
  },
  {
   "cell_type": "code",
   "execution_count": 96,
   "id": "456daabc",
   "metadata": {},
   "outputs": [
    {
     "data": {
      "text/html": [
       "<div>\n",
       "<style scoped>\n",
       "    .dataframe tbody tr th:only-of-type {\n",
       "        vertical-align: middle;\n",
       "    }\n",
       "\n",
       "    .dataframe tbody tr th {\n",
       "        vertical-align: top;\n",
       "    }\n",
       "\n",
       "    .dataframe thead th {\n",
       "        text-align: right;\n",
       "    }\n",
       "</style>\n",
       "<table border=\"1\" class=\"dataframe\">\n",
       "  <thead>\n",
       "    <tr style=\"text-align: right;\">\n",
       "      <th></th>\n",
       "      <th>Modele</th>\n",
       "      <th>Score</th>\n",
       "    </tr>\n",
       "  </thead>\n",
       "  <tbody>\n",
       "    <tr>\n",
       "      <th>0</th>\n",
       "      <td>LogReg</td>\n",
       "      <td>-0.05</td>\n",
       "    </tr>\n",
       "    <tr>\n",
       "      <th>1</th>\n",
       "      <td>KNN</td>\n",
       "      <td>-0.06</td>\n",
       "    </tr>\n",
       "    <tr>\n",
       "      <th>2</th>\n",
       "      <td>SVC</td>\n",
       "      <td>-0.05</td>\n",
       "    </tr>\n",
       "    <tr>\n",
       "      <th>3</th>\n",
       "      <td>DTC</td>\n",
       "      <td>-0.09</td>\n",
       "    </tr>\n",
       "    <tr>\n",
       "      <th>4</th>\n",
       "      <td>RFC</td>\n",
       "      <td>-0.05</td>\n",
       "    </tr>\n",
       "    <tr>\n",
       "      <th>5</th>\n",
       "      <td>BC</td>\n",
       "      <td>-0.05</td>\n",
       "    </tr>\n",
       "    <tr>\n",
       "      <th>6</th>\n",
       "      <td>GBC</td>\n",
       "      <td>-0.05</td>\n",
       "    </tr>\n",
       "  </tbody>\n",
       "</table>\n",
       "</div>"
      ],
      "text/plain": [
       "   Modele  Score\n",
       "0  LogReg  -0.05\n",
       "1     KNN  -0.06\n",
       "2     SVC  -0.05\n",
       "3     DTC  -0.09\n",
       "4     RFC  -0.05\n",
       "5      BC  -0.05\n",
       "6     GBC  -0.05"
      ]
     },
     "execution_count": 96,
     "metadata": {},
     "output_type": "execute_result"
    }
   ],
   "source": [
    "db_score = pd.DataFrame(score_dic)\n",
    "db_score.head(7)"
   ]
  },
  {
   "cell_type": "code",
   "execution_count": 97,
   "id": "65c6828f",
   "metadata": {},
   "outputs": [],
   "source": [
    "sc_dic = {\"LogReg\": score_LR, \n",
    "          \"KNN\"   : score_KNN,\n",
    "          \"SVC\"   : score_SVC, \n",
    "          \"DTC\"   : score_DTC, \n",
    "          \"RFC\"   : score_RFC, \n",
    "          \"BC\"    : score_BC,\n",
    "          \"GBC\"   : score_GBC            \n",
    "         }"
   ]
  },
  {
   "cell_type": "code",
   "execution_count": 98,
   "id": "136d33e5",
   "metadata": {},
   "outputs": [],
   "source": [
    "import json\n",
    "import os\n",
    "\n",
    "\n",
    "filepath = 'E:\\Formation\\Data_Science\\Projets_DataScientest\\Modele\\Perf'\n",
    "if os.path.exists(filepath) == False:\n",
    "        os.makedirs(filepath, mode = 511, exist_ok= False)\n",
    "os.chdir(filepath)        \n",
    "with open('score_ML.json', 'w') as fp:\n",
    "    json.dump(sc_dic, fp, indent=3)"
   ]
  },
  {
   "cell_type": "markdown",
   "id": "e00da60f",
   "metadata": {},
   "source": [
    "Sauvegarde des modèles entraînés et testés"
   ]
  },
  {
   "cell_type": "code",
   "execution_count": 99,
   "id": "b380b91c",
   "metadata": {},
   "outputs": [
    {
     "name": "stdout",
     "output_type": "stream",
     "text": [
      "LogisticRegression(solver='newton-cg') saved at  E:\\Formation\\Data_Science\\Projets_DataScientest\\Modele\\LogReg.pckl\n",
      "/n\n",
      "KNeighborsClassifier() saved at  E:\\Formation\\Data_Science\\Projets_DataScientest\\Modele\\KNN.pckl\n",
      "/n\n",
      "SVC() saved at  E:\\Formation\\Data_Science\\Projets_DataScientest\\Modele\\SVC.pckl\n",
      "/n\n",
      "DecisionTreeClassifier() saved at  E:\\Formation\\Data_Science\\Projets_DataScientest\\Modele\\DTC.pckl\n",
      "/n\n",
      "RandomForestClassifier() saved at  E:\\Formation\\Data_Science\\Projets_DataScientest\\Modele\\RFC.pckl\n",
      "/n\n",
      "BaggingClassifier() saved at  E:\\Formation\\Data_Science\\Projets_DataScientest\\Modele\\BC.pckl\n",
      "/n\n",
      "GradientBoostingClassifier() saved at  E:\\Formation\\Data_Science\\Projets_DataScientest\\Modele\\GBC.pckl\n"
     ]
    }
   ],
   "source": [
    "save_model(LogReg, 'E:\\Formation\\Data_Science\\Projets_DataScientest\\Modele\\LogReg.pckl')\n",
    "print(\"/n\")\n",
    "save_model(KNN, 'E:\\Formation\\Data_Science\\Projets_DataScientest\\Modele\\KNN.pckl')\n",
    "print(\"/n\")\n",
    "save_model(SVC, 'E:\\Formation\\Data_Science\\Projets_DataScientest\\Modele\\SVC.pckl')\n",
    "print(\"/n\")\n",
    "save_model(DTC, 'E:\\Formation\\Data_Science\\Projets_DataScientest\\Modele\\DTC.pckl')\n",
    "print(\"/n\")\n",
    "save_model(RFC, 'E:\\Formation\\Data_Science\\Projets_DataScientest\\Modele\\RFC.pckl')\n",
    "print(\"/n\")\n",
    "save_model(BC, 'E:\\Formation\\Data_Science\\Projets_DataScientest\\Modele\\BC.pckl')\n",
    "print(\"/n\")\n",
    "save_model(GBC, 'E:\\Formation\\Data_Science\\Projets_DataScientest\\Modele\\GBC.pckl')"
   ]
  },
  {
   "cell_type": "markdown",
   "id": "674d746c",
   "metadata": {},
   "source": [
    "Sauvegarde du scaler"
   ]
  },
  {
   "cell_type": "code",
   "execution_count": 100,
   "id": "2c16fcc1",
   "metadata": {},
   "outputs": [
    {
     "name": "stdout",
     "output_type": "stream",
     "text": [
      "MinMaxScaler() saved at  E:\\Formation\\Data_Science\\Projets_DataScientest\\Modele\\scaler.pckl\n"
     ]
    }
   ],
   "source": [
    "save_model(scaler, 'E:\\Formation\\Data_Science\\Projets_DataScientest\\Modele\\scaler.pckl')"
   ]
  },
  {
   "cell_type": "code",
   "execution_count": 101,
   "id": "44a5a77c",
   "metadata": {},
   "outputs": [
    {
     "data": {
      "text/html": [
       "<div>\n",
       "<style scoped>\n",
       "    .dataframe tbody tr th:only-of-type {\n",
       "        vertical-align: middle;\n",
       "    }\n",
       "\n",
       "    .dataframe tbody tr th {\n",
       "        vertical-align: top;\n",
       "    }\n",
       "\n",
       "    .dataframe thead th {\n",
       "        text-align: right;\n",
       "    }\n",
       "</style>\n",
       "<table border=\"1\" class=\"dataframe\">\n",
       "  <thead>\n",
       "    <tr style=\"text-align: right;\">\n",
       "      <th></th>\n",
       "      <th>age</th>\n",
       "      <th>hypertension</th>\n",
       "      <th>heart_disease</th>\n",
       "      <th>ever_married</th>\n",
       "      <th>Residence_type</th>\n",
       "      <th>avg_glucose_level</th>\n",
       "      <th>bmi</th>\n",
       "      <th>work_type_Govt_job</th>\n",
       "      <th>work_type_Never_worked</th>\n",
       "      <th>work_type_Private</th>\n",
       "      <th>work_type_Self_employed</th>\n",
       "      <th>work_type_children</th>\n",
       "      <th>smoking_status_Unknown</th>\n",
       "      <th>smoking_status_formerly_smoked</th>\n",
       "      <th>smoking_status_never_smoked</th>\n",
       "      <th>smoking_status_smokes</th>\n",
       "      <th>gender_Female</th>\n",
       "      <th>gender_Male</th>\n",
       "      <th>gender_Other</th>\n",
       "    </tr>\n",
       "  </thead>\n",
       "  <tbody>\n",
       "    <tr>\n",
       "      <th>0</th>\n",
       "      <td>67.0</td>\n",
       "      <td>0</td>\n",
       "      <td>1</td>\n",
       "      <td>1</td>\n",
       "      <td>1</td>\n",
       "      <td>228.69</td>\n",
       "      <td>36.600000</td>\n",
       "      <td>0</td>\n",
       "      <td>0</td>\n",
       "      <td>1</td>\n",
       "      <td>0</td>\n",
       "      <td>0</td>\n",
       "      <td>0</td>\n",
       "      <td>1</td>\n",
       "      <td>0</td>\n",
       "      <td>0</td>\n",
       "      <td>0</td>\n",
       "      <td>1</td>\n",
       "      <td>0</td>\n",
       "    </tr>\n",
       "    <tr>\n",
       "      <th>1</th>\n",
       "      <td>61.0</td>\n",
       "      <td>0</td>\n",
       "      <td>0</td>\n",
       "      <td>1</td>\n",
       "      <td>0</td>\n",
       "      <td>202.21</td>\n",
       "      <td>28.893237</td>\n",
       "      <td>0</td>\n",
       "      <td>0</td>\n",
       "      <td>0</td>\n",
       "      <td>1</td>\n",
       "      <td>0</td>\n",
       "      <td>0</td>\n",
       "      <td>0</td>\n",
       "      <td>1</td>\n",
       "      <td>0</td>\n",
       "      <td>1</td>\n",
       "      <td>0</td>\n",
       "      <td>0</td>\n",
       "    </tr>\n",
       "    <tr>\n",
       "      <th>2</th>\n",
       "      <td>80.0</td>\n",
       "      <td>0</td>\n",
       "      <td>1</td>\n",
       "      <td>1</td>\n",
       "      <td>0</td>\n",
       "      <td>105.92</td>\n",
       "      <td>32.500000</td>\n",
       "      <td>0</td>\n",
       "      <td>0</td>\n",
       "      <td>1</td>\n",
       "      <td>0</td>\n",
       "      <td>0</td>\n",
       "      <td>0</td>\n",
       "      <td>0</td>\n",
       "      <td>1</td>\n",
       "      <td>0</td>\n",
       "      <td>0</td>\n",
       "      <td>1</td>\n",
       "      <td>0</td>\n",
       "    </tr>\n",
       "    <tr>\n",
       "      <th>3</th>\n",
       "      <td>49.0</td>\n",
       "      <td>0</td>\n",
       "      <td>0</td>\n",
       "      <td>1</td>\n",
       "      <td>1</td>\n",
       "      <td>171.23</td>\n",
       "      <td>34.400000</td>\n",
       "      <td>0</td>\n",
       "      <td>0</td>\n",
       "      <td>1</td>\n",
       "      <td>0</td>\n",
       "      <td>0</td>\n",
       "      <td>0</td>\n",
       "      <td>0</td>\n",
       "      <td>0</td>\n",
       "      <td>1</td>\n",
       "      <td>1</td>\n",
       "      <td>0</td>\n",
       "      <td>0</td>\n",
       "    </tr>\n",
       "    <tr>\n",
       "      <th>4</th>\n",
       "      <td>79.0</td>\n",
       "      <td>1</td>\n",
       "      <td>0</td>\n",
       "      <td>1</td>\n",
       "      <td>0</td>\n",
       "      <td>174.12</td>\n",
       "      <td>24.000000</td>\n",
       "      <td>0</td>\n",
       "      <td>0</td>\n",
       "      <td>0</td>\n",
       "      <td>1</td>\n",
       "      <td>0</td>\n",
       "      <td>0</td>\n",
       "      <td>0</td>\n",
       "      <td>1</td>\n",
       "      <td>0</td>\n",
       "      <td>1</td>\n",
       "      <td>0</td>\n",
       "      <td>0</td>\n",
       "    </tr>\n",
       "  </tbody>\n",
       "</table>\n",
       "</div>"
      ],
      "text/plain": [
       "    age  hypertension  heart_disease  ever_married  Residence_type  \\\n",
       "0  67.0             0              1             1               1   \n",
       "1  61.0             0              0             1               0   \n",
       "2  80.0             0              1             1               0   \n",
       "3  49.0             0              0             1               1   \n",
       "4  79.0             1              0             1               0   \n",
       "\n",
       "   avg_glucose_level        bmi  work_type_Govt_job  work_type_Never_worked  \\\n",
       "0             228.69  36.600000                   0                       0   \n",
       "1             202.21  28.893237                   0                       0   \n",
       "2             105.92  32.500000                   0                       0   \n",
       "3             171.23  34.400000                   0                       0   \n",
       "4             174.12  24.000000                   0                       0   \n",
       "\n",
       "   work_type_Private  work_type_Self_employed  work_type_children  \\\n",
       "0                  1                        0                   0   \n",
       "1                  0                        1                   0   \n",
       "2                  1                        0                   0   \n",
       "3                  1                        0                   0   \n",
       "4                  0                        1                   0   \n",
       "\n",
       "   smoking_status_Unknown  smoking_status_formerly_smoked  \\\n",
       "0                       0                               1   \n",
       "1                       0                               0   \n",
       "2                       0                               0   \n",
       "3                       0                               0   \n",
       "4                       0                               0   \n",
       "\n",
       "   smoking_status_never_smoked  smoking_status_smokes  gender_Female  \\\n",
       "0                            0                      0              0   \n",
       "1                            1                      0              1   \n",
       "2                            1                      0              0   \n",
       "3                            0                      1              1   \n",
       "4                            1                      0              1   \n",
       "\n",
       "   gender_Male  gender_Other  \n",
       "0            1             0  \n",
       "1            0             0  \n",
       "2            1             0  \n",
       "3            0             0  \n",
       "4            0             0  "
      ]
     },
     "execution_count": 101,
     "metadata": {},
     "output_type": "execute_result"
    }
   ],
   "source": [
    "X.head()"
   ]
  },
  {
   "cell_type": "code",
   "execution_count": 102,
   "id": "8e9fc270",
   "metadata": {},
   "outputs": [],
   "source": [
    "# Test prédiction\n",
    "dic = {\"age\"                            : [0],\n",
    "       \"hypertension\"                   : [0],\n",
    "       \"heart_disease\"                  : [0],\n",
    "       \"ever_married\"                   : [0],\n",
    "       \"Residence_type\"                 : [0],\n",
    "       \"avg_glucose_level\"              : [0],      \n",
    "       \"bmi\"                            : [0],   \n",
    "       \"work_type_Govt_job\"             : [0],  \n",
    "       \"work_type_Never_worked\"         : [0],       \n",
    "       \"work_type_Private\"              : [0],\n",
    "       \"work_type_Self_employed\"        : [0],\n",
    "       \"work_type_children\"             : [0],\n",
    "       \"smoking_status_Unknown\"         : [0],\n",
    "       \"smoking_status_formerly_smoked\" : [0],\n",
    "       \"smoking_status_never_smoked\"    : [0],\n",
    "       \"smoking_status_smokes\"          : [0],\n",
    "       \"gender_Female\"                  : [0],\n",
    "       \"gender_Male\"                    : [0],\n",
    "       \"gender_Other\"                   : [0]}\n",
    "\n",
    "\n"
   ]
  },
  {
   "cell_type": "code",
   "execution_count": 103,
   "id": "ffd33fe1",
   "metadata": {},
   "outputs": [
    {
     "data": {
      "text/html": [
       "<div>\n",
       "<style scoped>\n",
       "    .dataframe tbody tr th:only-of-type {\n",
       "        vertical-align: middle;\n",
       "    }\n",
       "\n",
       "    .dataframe tbody tr th {\n",
       "        vertical-align: top;\n",
       "    }\n",
       "\n",
       "    .dataframe thead th {\n",
       "        text-align: right;\n",
       "    }\n",
       "</style>\n",
       "<table border=\"1\" class=\"dataframe\">\n",
       "  <thead>\n",
       "    <tr style=\"text-align: right;\">\n",
       "      <th></th>\n",
       "      <th>age</th>\n",
       "      <th>hypertension</th>\n",
       "      <th>heart_disease</th>\n",
       "      <th>ever_married</th>\n",
       "      <th>Residence_type</th>\n",
       "      <th>avg_glucose_level</th>\n",
       "      <th>bmi</th>\n",
       "      <th>work_type_Govt_job</th>\n",
       "      <th>work_type_Never_worked</th>\n",
       "      <th>work_type_Private</th>\n",
       "      <th>work_type_Self_employed</th>\n",
       "      <th>work_type_children</th>\n",
       "      <th>smoking_status_Unknown</th>\n",
       "      <th>smoking_status_formerly_smoked</th>\n",
       "      <th>smoking_status_never_smoked</th>\n",
       "      <th>smoking_status_smokes</th>\n",
       "      <th>gender_Female</th>\n",
       "      <th>gender_Male</th>\n",
       "      <th>gender_Other</th>\n",
       "    </tr>\n",
       "  </thead>\n",
       "  <tbody>\n",
       "    <tr>\n",
       "      <th>0</th>\n",
       "      <td>0</td>\n",
       "      <td>0</td>\n",
       "      <td>0</td>\n",
       "      <td>0</td>\n",
       "      <td>0</td>\n",
       "      <td>0</td>\n",
       "      <td>0</td>\n",
       "      <td>0</td>\n",
       "      <td>0</td>\n",
       "      <td>0</td>\n",
       "      <td>0</td>\n",
       "      <td>0</td>\n",
       "      <td>0</td>\n",
       "      <td>0</td>\n",
       "      <td>0</td>\n",
       "      <td>0</td>\n",
       "      <td>0</td>\n",
       "      <td>0</td>\n",
       "      <td>0</td>\n",
       "    </tr>\n",
       "  </tbody>\n",
       "</table>\n",
       "</div>"
      ],
      "text/plain": [
       "   age  hypertension  heart_disease  ever_married  Residence_type  \\\n",
       "0    0             0              0             0               0   \n",
       "\n",
       "   avg_glucose_level  bmi  work_type_Govt_job  work_type_Never_worked  \\\n",
       "0                  0    0                   0                       0   \n",
       "\n",
       "   work_type_Private  work_type_Self_employed  work_type_children  \\\n",
       "0                  0                        0                   0   \n",
       "\n",
       "   smoking_status_Unknown  smoking_status_formerly_smoked  \\\n",
       "0                       0                               0   \n",
       "\n",
       "   smoking_status_never_smoked  smoking_status_smokes  gender_Female  \\\n",
       "0                            0                      0              0   \n",
       "\n",
       "   gender_Male  gender_Other  \n",
       "0            0             0  "
      ]
     },
     "execution_count": 103,
     "metadata": {},
     "output_type": "execute_result"
    }
   ],
   "source": [
    "db = pd.DataFrame(dic)\n",
    "db"
   ]
  },
  {
   "cell_type": "code",
   "execution_count": 104,
   "id": "5da6feb9",
   "metadata": {},
   "outputs": [],
   "source": [
    "X_norm = scaler.transform(db)"
   ]
  },
  {
   "cell_type": "code",
   "execution_count": 105,
   "id": "f3a46954",
   "metadata": {},
   "outputs": [],
   "source": [
    "DTC_reloaded = load('E:\\Formation\\Data_Science\\Projets_DataScientest\\Modele\\DTC.pckl')\n"
   ]
  },
  {
   "cell_type": "code",
   "execution_count": 106,
   "id": "04c3fa6f",
   "metadata": {},
   "outputs": [
    {
     "name": "stdout",
     "output_type": "stream",
     "text": [
      "[0]\n"
     ]
    }
   ],
   "source": [
    "y_res = DTC_reloaded.predict(X_norm)\n",
    "print(y_res)"
   ]
  }
 ],
 "metadata": {
  "kernelspec": {
   "display_name": "Python 3",
   "language": "python",
   "name": "python3"
  },
  "language_info": {
   "codemirror_mode": {
    "name": "ipython",
    "version": 3
   },
   "file_extension": ".py",
   "mimetype": "text/x-python",
   "name": "python",
   "nbconvert_exporter": "python",
   "pygments_lexer": "ipython3",
   "version": "3.8.10"
  }
 },
 "nbformat": 4,
 "nbformat_minor": 5
}
